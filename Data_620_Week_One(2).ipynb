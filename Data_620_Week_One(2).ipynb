{
 "cells": [
  {
   "cell_type": "markdown",
   "metadata": {},
   "source": [
    "Name: MUSA T. GANIYU\n",
    "    \n",
    "    \n",
    "Course:MSDA IS 620\n",
    "    \n",
    "    \n",
    "School: CUNY SCHOOL OF PROFESSIONAL STUDIES\n",
    "    \n",
    "    \n",
    "Date:06/08/2017\n",
    "    \n"
   ]
  },
  {
   "cell_type": "code",
   "execution_count": 1,
   "metadata": {
    "collapsed": true
   },
   "outputs": [],
   "source": [
    "import graphlab"
   ]
  },
  {
   "cell_type": "code",
   "execution_count": 2,
   "metadata": {
    "collapsed": false
   },
   "outputs": [],
   "source": [
    "from graphlab import SGraph, Vertex, Edge"
   ]
  },
  {
   "cell_type": "code",
   "execution_count": 10,
   "metadata": {
    "collapsed": false
   },
   "outputs": [
    {
     "data": {
      "text/html": [
       "<pre>Downloading https://raw.githubusercontent.com/mascotinme/GitHub/master/Week_1_Data_Set_2.csv to C:/Users/mayowa/AppData/Local/Temp/graphlab-mayowa/12664/25e3072e-c3a6-469e-b1ae-760f6a876fa2.csv</pre>"
      ],
      "text/plain": [
       "Downloading https://raw.githubusercontent.com/mascotinme/GitHub/master/Week_1_Data_Set_2.csv to C:/Users/mayowa/AppData/Local/Temp/graphlab-mayowa/12664/25e3072e-c3a6-469e-b1ae-760f6a876fa2.csv"
      ]
     },
     "metadata": {},
     "output_type": "display_data"
    },
    {
     "data": {
      "text/html": [
       "<pre>Finished parsing file https://raw.githubusercontent.com/mascotinme/GitHub/master/Week_1_Data_Set_2.csv</pre>"
      ],
      "text/plain": [
       "Finished parsing file https://raw.githubusercontent.com/mascotinme/GitHub/master/Week_1_Data_Set_2.csv"
      ]
     },
     "metadata": {},
     "output_type": "display_data"
    },
    {
     "data": {
      "text/html": [
       "<pre>Parsing completed. Parsed 18 lines in 0.023016 secs.</pre>"
      ],
      "text/plain": [
       "Parsing completed. Parsed 18 lines in 0.023016 secs."
      ]
     },
     "metadata": {},
     "output_type": "display_data"
    },
    {
     "name": "stdout",
     "output_type": "stream",
     "text": [
      "------------------------------------------------------\n",
      "Inferred types from first 100 line(s) of file as \n",
      "column_type_hints=[str,str,str]\n",
      "If parsing fails due to incorrect types, you can correct\n",
      "the inferred type list above and pass it to read_csv in\n",
      "the column_type_hints argument\n",
      "------------------------------------------------------\n"
     ]
    },
    {
     "data": {
      "text/html": [
       "<pre>Finished parsing file https://raw.githubusercontent.com/mascotinme/GitHub/master/Week_1_Data_Set_2.csv</pre>"
      ],
      "text/plain": [
       "Finished parsing file https://raw.githubusercontent.com/mascotinme/GitHub/master/Week_1_Data_Set_2.csv"
      ]
     },
     "metadata": {},
     "output_type": "display_data"
    },
    {
     "data": {
      "text/html": [
       "<pre>Parsing completed. Parsed 18 lines in 0.029021 secs.</pre>"
      ],
      "text/plain": [
       "Parsing completed. Parsed 18 lines in 0.029021 secs."
      ]
     },
     "metadata": {},
     "output_type": "display_data"
    },
    {
     "name": "stdout",
     "output_type": "stream",
     "text": [
      "SGraph({'num_edges': 18L, 'num_vertices': 10L})\n"
     ]
    }
   ],
   "source": [
    "from graphlab import SFrame\n",
    "data2 = SFrame.read_csv(\"https://raw.githubusercontent.com/mascotinme/GitHub/master/Week_1_Data_Set_2.csv\")\n",
    "sg = SGraph()\n",
    "\n",
    "sg = sg.add_edges(data2, src_field='src', dst_field='dst')\n",
    "print sg"
   ]
  },
  {
   "cell_type": "code",
   "execution_count": 4,
   "metadata": {
    "collapsed": false
   },
   "outputs": [
    {
     "data": {
      "text/html": [
       "<div style=\"max-height:1000px;max-width:1500px;overflow:auto;\"><table frame=\"box\" rules=\"cols\">\n",
       "    <tr>\n",
       "        <th style=\"padding-left: 1em; padding-right: 1em; text-align: center\">src</th>\n",
       "        <th style=\"padding-left: 1em; padding-right: 1em; text-align: center\">dst</th>\n",
       "        <th style=\"padding-left: 1em; padding-right: 1em; text-align: center\">link</th>\n",
       "    </tr>\n",
       "    <tr>\n",
       "        <td style=\"padding-left: 1em; padding-right: 1em; text-align: center; vertical-align: top\">The Secret</td>\n",
       "        <td style=\"padding-left: 1em; padding-right: 1em; text-align: center; vertical-align: top\">The Secret</td>\n",
       "        <td style=\"padding-left: 1em; padding-right: 1em; text-align: center; vertical-align: top\">Satire</td>\n",
       "    </tr>\n",
       "    <tr>\n",
       "        <td style=\"padding-left: 1em; padding-right: 1em; text-align: center; vertical-align: top\">What I Thought I Knew</td>\n",
       "        <td style=\"padding-left: 1em; padding-right: 1em; text-align: center; vertical-align: top\">The Secret</td>\n",
       "        <td style=\"padding-left: 1em; padding-right: 1em; text-align: center; vertical-align: top\">Romance</td>\n",
       "    </tr>\n",
       "    <tr>\n",
       "        <td style=\"padding-left: 1em; padding-right: 1em; text-align: center; vertical-align: top\">What I Thought I Knew</td>\n",
       "        <td style=\"padding-left: 1em; padding-right: 1em; text-align: center; vertical-align: top\">The Secret</td>\n",
       "        <td style=\"padding-left: 1em; padding-right: 1em; text-align: center; vertical-align: top\">Mystery</td>\n",
       "    </tr>\n",
       "    <tr>\n",
       "        <td style=\"padding-left: 1em; padding-right: 1em; text-align: center; vertical-align: top\">Buried Secrets</td>\n",
       "        <td style=\"padding-left: 1em; padding-right: 1em; text-align: center; vertical-align: top\">The Girl On The Train</td>\n",
       "        <td style=\"padding-left: 1em; padding-right: 1em; text-align: center; vertical-align: top\">Horror</td>\n",
       "    </tr>\n",
       "    <tr>\n",
       "        <td style=\"padding-left: 1em; padding-right: 1em; text-align: center; vertical-align: top\">The Girl On The Train</td>\n",
       "        <td style=\"padding-left: 1em; padding-right: 1em; text-align: center; vertical-align: top\">The Perfect Girl</td>\n",
       "        <td style=\"padding-left: 1em; padding-right: 1em; text-align: center; vertical-align: top\">Self_help</td>\n",
       "    </tr>\n",
       "</table>\n",
       "[5 rows x 3 columns]<br/>\n",
       "</div>"
      ],
      "text/plain": [
       "Columns:\n",
       "\tsrc\tstr\n",
       "\tdst\tstr\n",
       "\tlink\tstr\n",
       "\n",
       "Rows: 5\n",
       "\n",
       "Data:\n",
       "+-----------------------+-----------------------+-----------+\n",
       "|          src          |          dst          |    link   |\n",
       "+-----------------------+-----------------------+-----------+\n",
       "|       The Secret      |       The Secret      |   Satire  |\n",
       "| What I Thought I Knew |       The Secret      |  Romance  |\n",
       "| What I Thought I Knew |       The Secret      |  Mystery  |\n",
       "|     Buried Secrets    | The Girl On The Train |   Horror  |\n",
       "| The Girl On The Train |    The Perfect Girl   | Self_help |\n",
       "+-----------------------+-----------------------+-----------+\n",
       "[5 rows x 3 columns]"
      ]
     },
     "execution_count": 4,
     "metadata": {},
     "output_type": "execute_result"
    }
   ],
   "source": [
    "data2.head(5)"
   ]
  },
  {
   "cell_type": "code",
   "execution_count": 11,
   "metadata": {
    "collapsed": false,
    "scrolled": true
   },
   "outputs": [
    {
     "data": {
      "text/html": [
       "<pre>Downloading https://raw.githubusercontent.com/mascotinme/GitHub/master/Week_1_Data_Set.csv to C:/Users/mayowa/AppData/Local/Temp/graphlab-mayowa/12664/466555a5-879c-49af-8423-c88115b651cb.csv</pre>"
      ],
      "text/plain": [
       "Downloading https://raw.githubusercontent.com/mascotinme/GitHub/master/Week_1_Data_Set.csv to C:/Users/mayowa/AppData/Local/Temp/graphlab-mayowa/12664/466555a5-879c-49af-8423-c88115b651cb.csv"
      ]
     },
     "metadata": {},
     "output_type": "display_data"
    },
    {
     "data": {
      "text/html": [
       "<pre>Finished parsing file https://raw.githubusercontent.com/mascotinme/GitHub/master/Week_1_Data_Set.csv</pre>"
      ],
      "text/plain": [
       "Finished parsing file https://raw.githubusercontent.com/mascotinme/GitHub/master/Week_1_Data_Set.csv"
      ]
     },
     "metadata": {},
     "output_type": "display_data"
    },
    {
     "data": {
      "text/html": [
       "<pre>Parsing completed. Parsed 9 lines in 0.027018 secs.</pre>"
      ],
      "text/plain": [
       "Parsing completed. Parsed 9 lines in 0.027018 secs."
      ]
     },
     "metadata": {},
     "output_type": "display_data"
    },
    {
     "name": "stdout",
     "output_type": "stream",
     "text": [
      "------------------------------------------------------\n",
      "Inferred types from first 100 line(s) of file as \n",
      "column_type_hints=[str,str,long,long]\n",
      "If parsing fails due to incorrect types, you can correct\n",
      "the inferred type list above and pass it to read_csv in\n",
      "the column_type_hints argument\n",
      "------------------------------------------------------\n"
     ]
    },
    {
     "data": {
      "text/html": [
       "<pre>Finished parsing file https://raw.githubusercontent.com/mascotinme/GitHub/master/Week_1_Data_Set.csv</pre>"
      ],
      "text/plain": [
       "Finished parsing file https://raw.githubusercontent.com/mascotinme/GitHub/master/Week_1_Data_Set.csv"
      ]
     },
     "metadata": {},
     "output_type": "display_data"
    },
    {
     "data": {
      "text/html": [
       "<pre>Parsing completed. Parsed 9 lines in 0.027016 secs.</pre>"
      ],
      "text/plain": [
       "Parsing completed. Parsed 9 lines in 0.027016 secs."
      ]
     },
     "metadata": {},
     "output_type": "display_data"
    }
   ],
   "source": [
    "\n",
    "data1 = SFrame.read_csv('https://raw.githubusercontent.com/mascotinme/GitHub/master/Week_1_Data_Set.csv')\n",
    "\n",
    "sg = SGraph(vertices=data1, edges=data2, vid_field='Books',\n",
    "           src_field='src', dst_field='dst')"
   ]
  },
  {
   "cell_type": "code",
   "execution_count": 12,
   "metadata": {
    "collapsed": false
   },
   "outputs": [
    {
     "data": {
      "text/html": [
       "<div style=\"max-height:1000px;max-width:1500px;overflow:auto;\"><table frame=\"box\" rules=\"cols\">\n",
       "    <tr>\n",
       "        <th style=\"padding-left: 1em; padding-right: 1em; text-align: center\">Books</th>\n",
       "        <th style=\"padding-left: 1em; padding-right: 1em; text-align: center\">Soft_hard</th>\n",
       "        <th style=\"padding-left: 1em; padding-right: 1em; text-align: center\">Recomm</th>\n",
       "        <th style=\"padding-left: 1em; padding-right: 1em; text-align: center\">Not_Recomm</th>\n",
       "    </tr>\n",
       "    <tr>\n",
       "        <td style=\"padding-left: 1em; padding-right: 1em; text-align: center; vertical-align: top\">The Secret</td>\n",
       "        <td style=\"padding-left: 1em; padding-right: 1em; text-align: center; vertical-align: top\">S</td>\n",
       "        <td style=\"padding-left: 1em; padding-right: 1em; text-align: center; vertical-align: top\">1</td>\n",
       "        <td style=\"padding-left: 1em; padding-right: 1em; text-align: center; vertical-align: top\">0</td>\n",
       "    </tr>\n",
       "    <tr>\n",
       "        <td style=\"padding-left: 1em; padding-right: 1em; text-align: center; vertical-align: top\">The Girl On The Train</td>\n",
       "        <td style=\"padding-left: 1em; padding-right: 1em; text-align: center; vertical-align: top\">S</td>\n",
       "        <td style=\"padding-left: 1em; padding-right: 1em; text-align: center; vertical-align: top\">1</td>\n",
       "        <td style=\"padding-left: 1em; padding-right: 1em; text-align: center; vertical-align: top\">0</td>\n",
       "    </tr>\n",
       "    <tr>\n",
       "        <td style=\"padding-left: 1em; padding-right: 1em; text-align: center; vertical-align: top\">Deceived</td>\n",
       "        <td style=\"padding-left: 1em; padding-right: 1em; text-align: center; vertical-align: top\">H</td>\n",
       "        <td style=\"padding-left: 1em; padding-right: 1em; text-align: center; vertical-align: top\">1</td>\n",
       "        <td style=\"padding-left: 1em; padding-right: 1em; text-align: center; vertical-align: top\">0</td>\n",
       "    </tr>\n",
       "    <tr>\n",
       "        <td style=\"padding-left: 1em; padding-right: 1em; text-align: center; vertical-align: top\">Buried Secrets</td>\n",
       "        <td style=\"padding-left: 1em; padding-right: 1em; text-align: center; vertical-align: top\">S</td>\n",
       "        <td style=\"padding-left: 1em; padding-right: 1em; text-align: center; vertical-align: top\">1</td>\n",
       "        <td style=\"padding-left: 1em; padding-right: 1em; text-align: center; vertical-align: top\">0</td>\n",
       "    </tr>\n",
       "    <tr>\n",
       "        <td style=\"padding-left: 1em; padding-right: 1em; text-align: center; vertical-align: top\">Angels Walking</td>\n",
       "        <td style=\"padding-left: 1em; padding-right: 1em; text-align: center; vertical-align: top\">H</td>\n",
       "        <td style=\"padding-left: 1em; padding-right: 1em; text-align: center; vertical-align: top\">1</td>\n",
       "        <td style=\"padding-left: 1em; padding-right: 1em; text-align: center; vertical-align: top\">0</td>\n",
       "    </tr>\n",
       "</table>\n",
       "[5 rows x 4 columns]<br/>\n",
       "</div>"
      ],
      "text/plain": [
       "Columns:\n",
       "\tBooks\tstr\n",
       "\tSoft_hard\tstr\n",
       "\tRecomm\tint\n",
       "\tNot_Recomm\tint\n",
       "\n",
       "Rows: 5\n",
       "\n",
       "Data:\n",
       "+-----------------------+-----------+--------+------------+\n",
       "|         Books         | Soft_hard | Recomm | Not_Recomm |\n",
       "+-----------------------+-----------+--------+------------+\n",
       "|       The Secret      |     S     |   1    |     0      |\n",
       "| The Girl On The Train |     S     |   1    |     0      |\n",
       "|        Deceived       |     H     |   1    |     0      |\n",
       "|     Buried Secrets    |     S     |   1    |     0      |\n",
       "|     Angels Walking    |     H     |   1    |     0      |\n",
       "+-----------------------+-----------+--------+------------+\n",
       "[5 rows x 4 columns]"
      ]
     },
     "execution_count": 12,
     "metadata": {},
     "output_type": "execute_result"
    }
   ],
   "source": [
    "data1.head(5)"
   ]
  },
  {
   "cell_type": "code",
   "execution_count": 13,
   "metadata": {
    "collapsed": true
   },
   "outputs": [],
   "source": [
    "sg.save('my_book')\n",
    "new_graph = graphlab.load_sgraph('my_book')"
   ]
  },
  {
   "cell_type": "code",
   "execution_count": 14,
   "metadata": {
    "collapsed": false
   },
   "outputs": [],
   "source": [
    "graphlab.canvas.set_target('ipynb')"
   ]
  },
  {
   "cell_type": "code",
   "execution_count": 15,
   "metadata": {
    "collapsed": false
   },
   "outputs": [
    {
     "data": {
      "application/javascript": [
       "$(\"head\").append($(\"<link/>\").attr({\n",
       "  rel:  \"stylesheet\",\n",
       "  type: \"text/css\",\n",
       "  href: \"//cdnjs.cloudflare.com/ajax/libs/font-awesome/4.1.0/css/font-awesome.min.css\"\n",
       "}));\n",
       "$(\"head\").append($(\"<link/>\").attr({\n",
       "  rel:  \"stylesheet\",\n",
       "  type: \"text/css\",\n",
       "  href: \"https://static.turi.com/products/graphlab-create/2.1/canvas/css/canvas.css\"\n",
       "}));\n",
       "\n",
       "            (function(){\n",
       "\n",
       "                var e = null;\n",
       "                if (typeof element == 'undefined') {\n",
       "                    var scripts = document.getElementsByTagName('script');\n",
       "                    var thisScriptTag = scripts[scripts.length-1];\n",
       "                    var parentDiv = thisScriptTag.parentNode;\n",
       "                    e = document.createElement('div');\n",
       "                    parentDiv.appendChild(e);\n",
       "                } else {\n",
       "                    e = element[0];\n",
       "                }\n",
       "\n",
       "                if (typeof requirejs !== 'undefined') {\n",
       "                    // disable load timeout; ipython_app.js is large and can take a while to load.\n",
       "                    requirejs.config({waitSeconds: 0});\n",
       "                }\n",
       "\n",
       "                require(['https://static.turi.com/products/graphlab-create/2.1/canvas/js/ipython_app.js'], function(IPythonApp){\n",
       "                    var app = new IPythonApp();\n",
       "                    app.attachView('sgraph','View', {\"edges_labels\": null, \"selected_variable\": {\"name\": [\"sg\"], \"view_file\": \"sgraph\", \"view_component\": \"View\", \"view_params\": {\"elabel_hover\": false, \"vertex_positions\": null, \"h_offset\": 0.0, \"node_size\": 300, \"ecolor\": [0.37, 0.33, 0.33], \"elabel\": null, \"arrows\": true, \"ewidth\": 1, \"vlabel\": \"id\", \"highlight_color\": [[0.69, 0.0, 0.498], [0.69, 0.0, 0.498]], \"vcolor\": [0.522, 0.741, 0.0], \"vlabel_hover\": false, \"highlight\": {\"Behind Closed Doors\": [0.69, 0.0, 0.498], \"What I Thought I Knew\": [0.69, 0.0, 0.498]}, \"v_offset\": 0.03}, \"view_components\": [\"View\"], \"type\": \"SGraph\", \"descriptives_links\": {\"edges\": \"edges\", \"vertices\": \"vertices\"}, \"descriptives\": {\"edges\": 18, \"vertices\": 10}}, \"positions\": null, \"error_type\": 0, \"vertices\": [\"The Perfect Girl\", \"The Girl On The Train\", \"The Secret\", \"Deceived\", \"Spilled Milk\", \"Behind Closed Doors\", \"Angels Walking\", \"What I Thought I Knew\", \"Buried Secrets\", \"\"], \"vertices_labels\": [\"The Perfect Girl\", \"The Girl On The Train\", \"The Secret\", \"Deceived\", \"Spilled Milk\", \"Behind Closed Doors\", \"Angels Walking\", \"What I Thought I Knew\", \"Buried Secrets\", \"\"], \"edges\": [[\"The Girl On The Train\", \"The Perfect Girl\"], [\"The Girl On The Train\", \"Angels Walking\"], [\"The Girl On The Train\", \"What I Thought I Knew\"], [\"The Secret\", \"The Secret\"], [\"The Secret\", \"Deceived\"], [\"The Secret\", \"The Secret\"], [\"The Secret\", \"Behind Closed Doors\"], [\"Spilled Milk\", \"The Girl On The Train\"], [\"Angels Walking\", \"Deceived\"], [\"Angels Walking\", \"Deceived\"], [\"Behind Closed Doors\", \"Angels Walking\"], [\"Behind Closed Doors\", \"\"], [\"Behind Closed Doors\", \"Buried Secrets\"], [\"Buried Secrets\", \"The Girl On The Train\"], [\"What I Thought I Knew\", \"The Secret\"], [\"What I Thought I Knew\", \"The Secret\"], [\"What I Thought I Knew\", \"Spilled Milk\"], [\"What I Thought I Knew\", \"Behind Closed Doors\"]], \"ipython\": true, \"error_msg\": \"\"}, e);\n",
       "                });\n",
       "            })();\n",
       "        "
      ]
     },
     "metadata": {},
     "output_type": "display_data"
    }
   ],
   "source": [
    "sg.show(vlabel='id', highlight=['Behind Closed Doors', 'What I Thought I Knew'], arrows=True)"
   ]
  },
  {
   "cell_type": "markdown",
   "metadata": {},
   "source": [
    "Thanks for your time"
   ]
  },
  {
   "cell_type": "code",
   "execution_count": null,
   "metadata": {
    "collapsed": true
   },
   "outputs": [],
   "source": []
  },
  {
   "cell_type": "code",
   "execution_count": null,
   "metadata": {
    "collapsed": true
   },
   "outputs": [],
   "source": []
  }
 ],
 "metadata": {
  "kernelspec": {
   "display_name": "Python 2",
   "language": "python",
   "name": "python2"
  },
  "language_info": {
   "codemirror_mode": {
    "name": "ipython",
    "version": 2
   },
   "file_extension": ".py",
   "mimetype": "text/x-python",
   "name": "python",
   "nbconvert_exporter": "python",
   "pygments_lexer": "ipython2",
   "version": "2.7.11"
  }
 },
 "nbformat": 4,
 "nbformat_minor": 0
}
