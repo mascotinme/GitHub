{
 "cells": [
  {
   "cell_type": "markdown",
   "metadata": {
    "collapsed": false
   },
   "source": [
    "# FINAL PROJECT\n",
    "\n",
    "Name: MUSA T GANIYU\n",
    "\n",
    "SCHOOL: CUNY SCHOOL OF PROFESSIONAL STUDIES\n",
    "\n",
    "COURSE: DATA 620 (WEB ANALYTICS)\n",
    "\n",
    "SEMESTER: SUMMER(2017)"
   ]
  },
  {
   "cell_type": "markdown",
   "metadata": {},
   "source": [
    "# Project Description:\n",
    "\n",
    "In this project, we will do analysis on two main themes of the course(network analysis and text processing). We will do the following:\n",
    "\n",
    "* Obtain the summary statistics of datasets\n",
    "\n",
    "* Plot (graphical representation of the datasets)\n",
    "\n",
    "* Find the similarities and differencies of the datasets.\n",
    "\n",
    "* Test of hypothesis\n",
    "\n",
    "* Recommender Systems.\n",
    "\n",
    "* Data cleaning.\n",
    "\n",
    "* Prediction etc."
   ]
  },
  {
   "cell_type": "markdown",
   "metadata": {},
   "source": [
    "# Special Project Requirements:\n",
    "\n",
    "Final Project \n",
    "Your project should incorporate one or both of the two main themes of this course: network analysis and text processing. You need to show all of your work in a coherent workflow, and in a reproducible format, such as an IPython Notebook or an R Markdown document. If you are building a model or models, explain how you evaluate the “goodness” of the chosen model and parameters. \n"
   ]
  },
  {
   "cell_type": "markdown",
   "metadata": {},
   "source": [
    "# Data Sources:\n",
    "\n",
    "* PART ONE\n",
    "\n",
    "This dataset is bipartite network contains one million movie ratings from http://movielens.umn.edu/. Left nodes are users and right nodes are movies. An edge between a user and a movie shows that the user has rated the movie.\n",
    "\n",
    "http://konect.uni-koblenz.de/networks/movielens-1m\n",
    "\n",
    "* PART TWO\n",
    "\n",
    "This dataset consists of movie reviews from amazon. The data span a period of more than 10 years, including all ~8 million reviews up to October 2012. Reviews include product and user information, ratings, and a plaintext review. We also have reviews from all other Amazon categories. \n",
    "\n",
    "https://snap.stanford.edu/data/web-Movies.html"
   ]
  },
  {
   "cell_type": "markdown",
   "metadata": {},
   "source": [
    "# PART 1"
   ]
  },
  {
   "cell_type": "code",
   "execution_count": 150,
   "metadata": {
    "collapsed": true
   },
   "outputs": [],
   "source": [
    "rm(list =ls())"
   ]
  },
  {
   "cell_type": "code",
   "execution_count": 151,
   "metadata": {
    "collapsed": false
   },
   "outputs": [],
   "source": [
    "suppressMessages(library(randomForest))\n",
    "suppressMessages(library(magrittr))\n",
    "suppressMessages(library(reshape2))\n",
    "suppressMessages(library(recommenderlab))\n",
    "suppressMessages(library(tidyr))\n",
    "suppressWarnings(library(ggplot2))\n",
    "suppressMessages(library(ggraph))\n",
    "suppressMessages(library(tidygraph))\n",
    "suppressMessages(library(igraph))\n",
    "suppressMessages(library(dplyr))\n",
    "suppressMessages(library(knitr))"
   ]
  },
  {
   "cell_type": "code",
   "execution_count": 152,
   "metadata": {
    "collapsed": false
   },
   "outputs": [
    {
     "data": {
      "text/plain": [
       "\n",
       "\n",
       "| id| from| to|  weighted|\n",
       "|--:|----:|--:|---------:|\n",
       "|  1|    1|  5| 978300760|\n",
       "|  1|    2|  3| 978302109|\n",
       "|  1|    3|  3| 978301968|\n",
       "|  1|    4|  4| 978300275|\n",
       "|  1|    5|  5| 978824291|\n",
       "|  1|    6|  3| 978302268|"
      ]
     },
     "metadata": {},
     "output_type": "display_data"
    },
    {
     "data": {
      "text/html": [
       "<ol class=list-inline>\n",
       "\t<li>1000</li>\n",
       "\t<li>4</li>\n",
       "</ol>\n"
      ],
      "text/latex": [
       "\\begin{enumerate*}\n",
       "\\item 1000\n",
       "\\item 4\n",
       "\\end{enumerate*}\n"
      ],
      "text/markdown": [
       "1. 1000\n",
       "2. 4\n",
       "\n",
       "\n"
      ],
      "text/plain": [
       "[1] 1000    4"
      ]
     },
     "metadata": {},
     "output_type": "display_data"
    },
    {
     "name": "stdout",
     "output_type": "stream",
     "text": [
      "'data.frame':\t1000 obs. of  4 variables:\n",
      " $ id      : int  1 1 1 1 1 1 1 1 1 1 ...\n",
      " $ from    : int  1 2 3 4 5 6 7 8 9 10 ...\n",
      " $ to      : int  5 3 3 4 5 3 5 5 4 4 ...\n",
      " $ weighted: int  978300760 978302109 978301968 978300275 978824291 978302268 978302039 978300719 978302268 978301368 ...\n"
     ]
    }
   ],
   "source": [
    "\n",
    "movies <- read.csv(\"https://raw.githubusercontent.com/mascotinme/GitHub/master/movielens-1m.edges\", sep=\",\",header = F,as.is=F,skip=1, nrows=1000, col.names=c(\"id\", \"from\", \"to\", \"weighted\"))\n",
    "\n",
    "kable(head(movies))\n",
    "dim(movies)\n",
    "str(movies)"
   ]
  },
  {
   "cell_type": "code",
   "execution_count": 153,
   "metadata": {
    "collapsed": false
   },
   "outputs": [
    {
     "data": {
      "text/plain": [
       "# A tbl_graph: 670 nodes and 1000 edges\n",
       "#\n",
       "# A directed multigraph with 1 component\n",
       "#\n",
       "# Node Data: 670 x 1 (active)\n",
       "   name\n",
       "  <chr>\n",
       "1     1\n",
       "2     2\n",
       "3     3\n",
       "4     4\n",
       "5     5\n",
       "6     6\n",
       "# ... with 664 more rows\n",
       "#\n",
       "# Edge Data: 1,000 x 4\n",
       "   from    to    id  weighted\n",
       "  <int> <int> <int>     <int>\n",
       "1     1     5     1 978300760\n",
       "2     2     3     1 978302109\n",
       "3     3     3     1 978301968\n",
       "# ... with 997 more rows"
      ]
     },
     "metadata": {},
     "output_type": "display_data"
    }
   ],
   "source": [
    "\n",
    "df <- as_tbl_graph(movies) # Conversion of movies dataset to graph dataset\n",
    "df"
   ]
  },
  {
   "cell_type": "markdown",
   "metadata": {},
   "source": [
    "# GRAPHICAL REPRESENATIONS\n",
    "\n",
    "We will sample some rows (500 to be precise) to better graphical represenation. "
   ]
  },
  {
   "cell_type": "code",
   "execution_count": 154,
   "metadata": {
    "collapsed": false
   },
   "outputs": [],
   "source": [
    "set.seed(123)\n",
    "samp <- sample_n(movies, 500, replace = TRUE)\n",
    "df2 <- as_tbl_graph(samp)"
   ]
  },
  {
   "cell_type": "markdown",
   "metadata": {},
   "source": [
    "* Plot with KK as layout."
   ]
  },
  {
   "cell_type": "code",
   "execution_count": 155,
   "metadata": {
    "collapsed": false
   },
   "outputs": [
    {
     "data": {
      "image/png": "[encoded data removed]",
      "text/plain": [
       "Plot with title \"\""
      ]
     },
     "metadata": {},
     "output_type": "display_data"
    }
   ],
   "source": [
    "plot(df2, edge.arrow.size=.5, vertex.color=\"green\", vertex.size=5, layout=layout_with_kk,\n",
    "     vertex.frame.color=\"brown\", vertex.label.color=\"black\", \n",
    "     vertex.label.cex=0.5, vertex.label.dist=1, edge.curved=0.2)"
   ]
  },
  {
   "cell_type": "markdown",
   "metadata": {},
   "source": [
    "Plot with lgl as layout"
   ]
  },
  {
   "cell_type": "code",
   "execution_count": 156,
   "metadata": {
    "collapsed": false
   },
   "outputs": [
    {
     "data": {
      "image/png": "[encoded data removed]",
      "text/plain": [
       "Plot with title \"\""
      ]
     },
     "metadata": {},
     "output_type": "display_data"
    }
   ],
   "source": [
    "plot(df2, edge.arrow.size=.5, vertex.color=\"purple\", vertex.size=5, layout=layout_with_lgl,\n",
    "     vertex.frame.color=\"gray\", vertex.label.color=\"black\", \n",
    "     vertex.label.cex=0.5, vertex.label.dist=1, edge.curved=0.2)"
   ]
  },
  {
   "cell_type": "code",
   "execution_count": 157,
   "metadata": {
    "collapsed": false
   },
   "outputs": [],
   "source": [
    "set.seed(123)\n",
    "\n",
    "movies[is.na(movies)] <- 0\n",
    "samp_data <- movies[sample(nrow(movies)),]\n",
    "samp_sub<- samp_data[,-c(4)]\n",
    "train_dat <- subset(samp_sub[1:800, ]) #80 percent\n",
    "test_dat <- subset(samp_sub[801:1000, ]) #20 percent"
   ]
  },
  {
   "cell_type": "code",
   "execution_count": 158,
   "metadata": {
    "collapsed": false
   },
   "outputs": [
    {
     "name": "stdout",
     "output_type": "stream",
     "text": [
      "'data.frame':\t800 obs. of  3 variables:\n",
      " $ id  : int  5 9 5 10 10 1 7 10 7 6 ...\n",
      " $ from: int  247 547 348 599 633 46 431 289 190 386 ...\n",
      " $ to  : int  3 3 2 3 5 5 4 4 4 5 ...\n",
      "'data.frame':\t200 obs. of  3 variables:\n",
      " $ id  : int  5 9 8 1 1 3 9 8 7 6 ...\n",
      " $ from: int  340 515 437 10 52 181 528 60 63 419 ...\n",
      " $ to  : int  4 3 3 4 4 4 4 3 5 4 ...\n"
     ]
    }
   ],
   "source": [
    "str(train_dat)\n",
    "str(test_dat)"
   ]
  },
  {
   "cell_type": "code",
   "execution_count": null,
   "metadata": {
    "collapsed": true
   },
   "outputs": [],
   "source": []
  },
  {
   "cell_type": "code",
   "execution_count": 159,
   "metadata": {
    "collapsed": false
   },
   "outputs": [
    {
     "data": {
      "text/plain": [
       "# A tbl_graph: 670 nodes and 1000 edges\n",
       "#\n",
       "# A directed multigraph with 1 component\n",
       "#\n",
       "# Edge Data: 1,000 x 4 (active)\n",
       "   from    to    id  weighted\n",
       "  <int> <int> <int>     <int>\n",
       "1     1     5     1 978300760\n",
       "2     2     3     1 978302109\n",
       "3     3     3     1 978301968\n",
       "4     4     4     1 978300275\n",
       "5     5     5     1 978824291\n",
       "6     6     3     1 978302268\n",
       "# ... with 994 more rows\n",
       "#\n",
       "# Node Data: 670 x 1\n",
       "   name\n",
       "  <chr>\n",
       "1     1\n",
       "2     2\n",
       "3     3\n",
       "# ... with 667 more rows"
      ]
     },
     "metadata": {},
     "output_type": "display_data"
    }
   ],
   "source": [
    "df %>% activate(edges) # Getting edges out of the graph"
   ]
  },
  {
   "cell_type": "code",
   "execution_count": 160,
   "metadata": {
    "collapsed": false
   },
   "outputs": [
    {
     "data": {
      "text/plain": [
       "+ 1000/1000 edges (vertex names):\n",
       "  [1] 1  ->5 2  ->3 3  ->3 4  ->4 5  ->5 6  ->3 7  ->5 8  ->5 9  ->4 10 ->4\n",
       " [11] 11 ->5 12 ->4 13 ->4 14 ->4 15 ->5 16 ->4 17 ->3 18 ->4 19 ->5 20 ->4\n",
       " [21] 21 ->3 22 ->3 23 ->5 24 ->5 25 ->3 26 ->5 27 ->4 28 ->4 29 ->4 30 ->3\n",
       " [31] 31 ->4 32 ->4 33 ->4 34 ->4 35 ->4 36 ->4 37 ->5 38 ->5 39 ->4 40 ->5\n",
       " [41] 41 ->5 42 ->5 43 ->4 44 ->4 45 ->4 46 ->5 47 ->5 48 ->4 49 ->5 50 ->4\n",
       " [51] 51 ->4 52 ->4 53 ->4 54 ->5 55 ->4 56 ->4 57 ->3 58 ->4 59 ->4 60 ->5\n",
       " [61] 61 ->3 62 ->3 63 ->3 64 ->5 65 ->4 66 ->3 67 ->3 68 ->2 69 ->5 70 ->3\n",
       " [71] 71 ->4 72 ->3 19 ->4 73 ->2 74 ->3 75 ->2 76 ->3 77 ->4 78 ->3 79 ->5\n",
       " [81] 80 ->3 81 ->5 82 ->4 83 ->2 84 ->4 85 ->5 86 ->5 87 ->4 88 ->5 89 ->4\n",
       " [91] 90 ->4 91 ->2 92 ->3 93 ->5 94 ->3 95 ->3 96 ->4 97 ->5 98 ->4 99 ->3\n",
       "+ ... omitted several edges"
      ]
     },
     "metadata": {},
     "output_type": "display_data"
    },
    {
     "data": {
      "text/html": [
       "500.5"
      ],
      "text/latex": [
       "500.5"
      ],
      "text/markdown": [
       "500.5"
      ],
      "text/plain": [
       "[1] 500.5"
      ]
     },
     "metadata": {},
     "output_type": "display_data"
    }
   ],
   "source": [
    "E(df) # Better way to obtain the edges\n",
    "mean(E(df))"
   ]
  },
  {
   "cell_type": "code",
   "execution_count": 161,
   "metadata": {
    "collapsed": false
   },
   "outputs": [
    {
     "data": {
      "text/plain": [
       "+ 670/670 vertices, named:\n",
       "  [1] 1   2   3   4   5   6   7   8   9   10  11  12  13  14  15  16  17  18 \n",
       " [19] 19  20  21  22  23  24  25  26  27  28  29  30  31  32  33  34  35  36 \n",
       " [37] 37  38  39  40  41  42  43  44  45  46  47  48  49  50  51  52  53  54 \n",
       " [55] 55  56  57  58  59  60  61  62  63  64  65  66  67  68  69  70  71  72 \n",
       " [73] 73  74  75  76  77  78  79  80  81  82  83  84  85  86  87  88  89  90 \n",
       " [91] 91  92  93  94  95  96  97  98  99  100 101 102 103 104 105 106 107 108\n",
       "[109] 109 110 111 112 113 114 115 116 117 118 119 120 121 122 123 124 125 126\n",
       "[127] 127 128 129 130 131 132 133 134 135 136 137 138 139 140 141 142 143 144\n",
       "[145] 145 146 147 148 149 150 151 152 153 154 155 156 157 158 159 160 161 162\n",
       "[163] 163 164 165 166 167 168 169 170 171 172 173 174 175 176 177 178 179 180\n",
       "+ ... omitted several vertices"
      ]
     },
     "metadata": {},
     "output_type": "display_data"
    },
    {
     "data": {
      "text/html": [
       "335.5"
      ],
      "text/latex": [
       "335.5"
      ],
      "text/markdown": [
       "335.5"
      ],
      "text/plain": [
       "[1] 335.5"
      ]
     },
     "metadata": {},
     "output_type": "display_data"
    }
   ],
   "source": [
    "V(df) # The vertices and it averages\n",
    "mean(V(df))"
   ]
  },
  {
   "cell_type": "markdown",
   "metadata": {},
   "source": [
    "* Standard Deviation\n",
    "\n",
    " This is used to quantify the amount of variation or dispersion of a set of data values for both nodes and edges."
   ]
  },
  {
   "cell_type": "code",
   "execution_count": 162,
   "metadata": {
    "collapsed": false
   },
   "outputs": [
    {
     "data": {
      "text/html": [
       "193.556623928675"
      ],
      "text/latex": [
       "193.556623928675"
      ],
      "text/markdown": [
       "193.556623928675"
      ],
      "text/plain": [
       "[1] 193.5566"
      ]
     },
     "metadata": {},
     "output_type": "display_data"
    },
    {
     "data": {
      "text/html": [
       "288.819436095749"
      ],
      "text/latex": [
       "288.819436095749"
      ],
      "text/markdown": [
       "288.819436095749"
      ],
      "text/plain": [
       "[1] 288.8194"
      ]
     },
     "metadata": {},
     "output_type": "display_data"
    }
   ],
   "source": [
    "sd(V(df)) \n",
    "sd(E(df))"
   ]
  },
  {
   "cell_type": "code",
   "execution_count": 163,
   "metadata": {
    "collapsed": false
   },
   "outputs": [
    {
     "data": {
      "text/html": [
       "<table>\n",
       "<tbody>\n",
       "\t<tr><td>1</td><td>5</td></tr>\n",
       "\t<tr><td>2</td><td>3</td></tr>\n",
       "\t<tr><td>6</td><td>3</td></tr>\n",
       "\t<tr><td>7</td><td>5</td></tr>\n",
       "\t<tr><td>8</td><td>5</td></tr>\n",
       "\t<tr><td>9</td><td>4</td></tr>\n",
       "</tbody>\n",
       "</table>\n"
      ],
      "text/latex": [
       "\\begin{tabular}{ll}\n",
       "\t 1 & 5\\\\\n",
       "\t 2 & 3\\\\\n",
       "\t 6 & 3\\\\\n",
       "\t 7 & 5\\\\\n",
       "\t 8 & 5\\\\\n",
       "\t 9 & 4\\\\\n",
       "\\end{tabular}\n"
      ],
      "text/markdown": [
       "\n",
       "| 1 | 5 | \n",
       "| 2 | 3 | \n",
       "| 6 | 3 | \n",
       "| 7 | 5 | \n",
       "| 8 | 5 | \n",
       "| 9 | 4 | \n",
       "\n",
       "\n"
      ],
      "text/plain": [
       "     [,1] [,2]\n",
       "[1,] 1    5   \n",
       "[2,] 2    3   \n",
       "[3,] 6    3   \n",
       "[4,] 7    5   \n",
       "[5,] 8    5   \n",
       "[6,] 9    4   "
      ]
     },
     "metadata": {},
     "output_type": "display_data"
    }
   ],
   "source": [
    "net <- simplify(df, remove.multiple = F, remove.loops = T) \n",
    "\n",
    "edgelist <- as_edgelist(net, names=T)\n",
    "#as_adjacency_matrix(net, attr=\"edge\")\n",
    "head(edgelist)"
   ]
  },
  {
   "cell_type": "markdown",
   "metadata": {},
   "source": [
    "* Degree Centrality is the number of links incident upon a node i.e the number of ties a node has!\n",
    "$${ C }_{ D }(G)\\quad =\\quad \\frac { \\sum _{ i=1 }^{ |v| }{ [{ C }_{ D } } (v*)\\quad -\\quad { C }_{ D }({ v }_{ i })] }{ H } $$\n",
    "\n",
    "where H is the maximum value when the graph X is connected to one nodes to which other nodes are connected."
   ]
  },
  {
   "cell_type": "code",
   "execution_count": 164,
   "metadata": {
    "collapsed": false
   },
   "outputs": [
    {
     "data": {
      "text/plain": [
       "   Min. 1st Qu.  Median    Mean 3rd Qu.    Max. \n",
       "  0.000   0.000   0.000   1.492   0.000 354.000 "
      ]
     },
     "metadata": {},
     "output_type": "display_data"
    },
    {
     "data": {
      "text/html": [
       "<dl>\n",
       "\t<dt>$res</dt>\n",
       "\t\t<dd><ol class=list-inline>\n",
       "\t<li>24</li>\n",
       "\t<li>75</li>\n",
       "\t<li>274</li>\n",
       "\t<li>354</li>\n",
       "\t<li>273</li>\n",
       "\t<li>0</li>\n",
       "\t<li>0</li>\n",
       "\t<li>0</li>\n",
       "\t<li>0</li>\n",
       "\t<li>0</li>\n",
       "\t<li>0</li>\n",
       "\t<li>0</li>\n",
       "\t<li>0</li>\n",
       "\t<li>0</li>\n",
       "\t<li>0</li>\n",
       "\t<li>0</li>\n",
       "\t<li>0</li>\n",
       "\t<li>0</li>\n",
       "\t<li>0</li>\n",
       "\t<li>0</li>\n",
       "\t<li>0</li>\n",
       "\t<li>0</li>\n",
       "\t<li>0</li>\n",
       "\t<li>0</li>\n",
       "\t<li>0</li>\n",
       "\t<li>0</li>\n",
       "\t<li>0</li>\n",
       "\t<li>0</li>\n",
       "\t<li>0</li>\n",
       "\t<li>0</li>\n",
       "\t<li>0</li>\n",
       "\t<li>0</li>\n",
       "\t<li>0</li>\n",
       "\t<li>0</li>\n",
       "\t<li>0</li>\n",
       "\t<li>0</li>\n",
       "\t<li>0</li>\n",
       "\t<li>0</li>\n",
       "\t<li>0</li>\n",
       "\t<li>0</li>\n",
       "\t<li>0</li>\n",
       "\t<li>0</li>\n",
       "\t<li>0</li>\n",
       "\t<li>0</li>\n",
       "\t<li>0</li>\n",
       "\t<li>0</li>\n",
       "\t<li>0</li>\n",
       "\t<li>0</li>\n",
       "\t<li>0</li>\n",
       "\t<li>0</li>\n",
       "\t<li>0</li>\n",
       "\t<li>0</li>\n",
       "\t<li>0</li>\n",
       "\t<li>0</li>\n",
       "\t<li>0</li>\n",
       "\t<li>0</li>\n",
       "\t<li>0</li>\n",
       "\t<li>0</li>\n",
       "\t<li>0</li>\n",
       "\t<li>0</li>\n",
       "\t<li>0</li>\n",
       "\t<li>0</li>\n",
       "\t<li>0</li>\n",
       "\t<li>0</li>\n",
       "\t<li>0</li>\n",
       "\t<li>0</li>\n",
       "\t<li>0</li>\n",
       "\t<li>0</li>\n",
       "\t<li>0</li>\n",
       "\t<li>0</li>\n",
       "\t<li>0</li>\n",
       "\t<li>0</li>\n",
       "\t<li>0</li>\n",
       "\t<li>0</li>\n",
       "\t<li>0</li>\n",
       "\t<li>0</li>\n",
       "\t<li>0</li>\n",
       "\t<li>0</li>\n",
       "\t<li>0</li>\n",
       "\t<li>0</li>\n",
       "\t<li>0</li>\n",
       "\t<li>0</li>\n",
       "\t<li>0</li>\n",
       "\t<li>0</li>\n",
       "\t<li>0</li>\n",
       "\t<li>0</li>\n",
       "\t<li>0</li>\n",
       "\t<li>0</li>\n",
       "\t<li>0</li>\n",
       "\t<li>0</li>\n",
       "\t<li>0</li>\n",
       "\t<li>0</li>\n",
       "\t<li>0</li>\n",
       "\t<li>0</li>\n",
       "\t<li>0</li>\n",
       "\t<li>0</li>\n",
       "\t<li>0</li>\n",
       "\t<li>0</li>\n",
       "\t<li>0</li>\n",
       "\t<li>0</li>\n",
       "\t<li>0</li>\n",
       "\t<li>0</li>\n",
       "\t<li>0</li>\n",
       "\t<li>0</li>\n",
       "\t<li>0</li>\n",
       "\t<li>0</li>\n",
       "\t<li>0</li>\n",
       "\t<li>0</li>\n",
       "\t<li>0</li>\n",
       "\t<li>0</li>\n",
       "\t<li>0</li>\n",
       "\t<li>0</li>\n",
       "\t<li>0</li>\n",
       "\t<li>0</li>\n",
       "\t<li>0</li>\n",
       "\t<li>0</li>\n",
       "\t<li>0</li>\n",
       "\t<li>0</li>\n",
       "\t<li>0</li>\n",
       "\t<li>0</li>\n",
       "\t<li>0</li>\n",
       "\t<li>0</li>\n",
       "\t<li>0</li>\n",
       "\t<li>0</li>\n",
       "\t<li>0</li>\n",
       "\t<li>0</li>\n",
       "\t<li>0</li>\n",
       "\t<li>0</li>\n",
       "\t<li>0</li>\n",
       "\t<li>0</li>\n",
       "\t<li>0</li>\n",
       "\t<li>0</li>\n",
       "\t<li>0</li>\n",
       "\t<li>0</li>\n",
       "\t<li>0</li>\n",
       "\t<li>0</li>\n",
       "\t<li>0</li>\n",
       "\t<li>0</li>\n",
       "\t<li>0</li>\n",
       "\t<li>0</li>\n",
       "\t<li>0</li>\n",
       "\t<li>0</li>\n",
       "\t<li>0</li>\n",
       "\t<li>0</li>\n",
       "\t<li>0</li>\n",
       "\t<li>0</li>\n",
       "\t<li>0</li>\n",
       "\t<li>0</li>\n",
       "\t<li>0</li>\n",
       "\t<li>0</li>\n",
       "\t<li>0</li>\n",
       "\t<li>0</li>\n",
       "\t<li>0</li>\n",
       "\t<li>0</li>\n",
       "\t<li>0</li>\n",
       "\t<li>0</li>\n",
       "\t<li>0</li>\n",
       "\t<li>0</li>\n",
       "\t<li>0</li>\n",
       "\t<li>0</li>\n",
       "\t<li>0</li>\n",
       "\t<li>0</li>\n",
       "\t<li>0</li>\n",
       "\t<li>0</li>\n",
       "\t<li>0</li>\n",
       "\t<li>0</li>\n",
       "\t<li>0</li>\n",
       "\t<li>0</li>\n",
       "\t<li>0</li>\n",
       "\t<li>0</li>\n",
       "\t<li>0</li>\n",
       "\t<li>0</li>\n",
       "\t<li>0</li>\n",
       "\t<li>0</li>\n",
       "\t<li>0</li>\n",
       "\t<li>0</li>\n",
       "\t<li>0</li>\n",
       "\t<li>0</li>\n",
       "\t<li>0</li>\n",
       "\t<li>0</li>\n",
       "\t<li>0</li>\n",
       "\t<li>0</li>\n",
       "\t<li>0</li>\n",
       "\t<li>0</li>\n",
       "\t<li>0</li>\n",
       "\t<li>0</li>\n",
       "\t<li>0</li>\n",
       "\t<li>0</li>\n",
       "\t<li>0</li>\n",
       "\t<li>0</li>\n",
       "\t<li>0</li>\n",
       "\t<li>0</li>\n",
       "\t<li>0</li>\n",
       "\t<li>0</li>\n",
       "\t<li>0</li>\n",
       "\t<li>0</li>\n",
       "\t<li>0</li>\n",
       "\t<li>0</li>\n",
       "\t<li>0</li>\n",
       "\t<li>0</li>\n",
       "\t<li>0</li>\n",
       "\t<li>0</li>\n",
       "\t<li>0</li>\n",
       "\t<li>0</li>\n",
       "\t<li>0</li>\n",
       "\t<li>0</li>\n",
       "\t<li>0</li>\n",
       "\t<li>0</li>\n",
       "\t<li>0</li>\n",
       "\t<li>0</li>\n",
       "\t<li>0</li>\n",
       "\t<li>0</li>\n",
       "\t<li>0</li>\n",
       "\t<li>0</li>\n",
       "\t<li>0</li>\n",
       "\t<li>0</li>\n",
       "\t<li>0</li>\n",
       "\t<li>0</li>\n",
       "\t<li>0</li>\n",
       "\t<li>0</li>\n",
       "\t<li>0</li>\n",
       "\t<li>0</li>\n",
       "\t<li>0</li>\n",
       "\t<li>0</li>\n",
       "\t<li>0</li>\n",
       "\t<li>0</li>\n",
       "\t<li>0</li>\n",
       "\t<li>0</li>\n",
       "\t<li>0</li>\n",
       "\t<li>0</li>\n",
       "\t<li>0</li>\n",
       "\t<li>0</li>\n",
       "\t<li>0</li>\n",
       "\t<li>0</li>\n",
       "\t<li>0</li>\n",
       "\t<li>0</li>\n",
       "\t<li>0</li>\n",
       "\t<li>0</li>\n",
       "\t<li>0</li>\n",
       "\t<li>0</li>\n",
       "\t<li>0</li>\n",
       "\t<li>0</li>\n",
       "\t<li>0</li>\n",
       "\t<li>0</li>\n",
       "\t<li>0</li>\n",
       "\t<li>0</li>\n",
       "\t<li>0</li>\n",
       "\t<li>0</li>\n",
       "\t<li>0</li>\n",
       "\t<li>0</li>\n",
       "\t<li>0</li>\n",
       "\t<li>0</li>\n",
       "\t<li>0</li>\n",
       "\t<li>0</li>\n",
       "\t<li>0</li>\n",
       "\t<li>0</li>\n",
       "\t<li>0</li>\n",
       "\t<li>0</li>\n",
       "\t<li>0</li>\n",
       "\t<li>0</li>\n",
       "\t<li>0</li>\n",
       "\t<li>0</li>\n",
       "\t<li>0</li>\n",
       "\t<li>0</li>\n",
       "\t<li>0</li>\n",
       "\t<li>0</li>\n",
       "\t<li>0</li>\n",
       "\t<li>0</li>\n",
       "\t<li>0</li>\n",
       "\t<li>0</li>\n",
       "\t<li>0</li>\n",
       "\t<li>0</li>\n",
       "\t<li>0</li>\n",
       "\t<li>0</li>\n",
       "\t<li>0</li>\n",
       "\t<li>0</li>\n",
       "\t<li>0</li>\n",
       "\t<li>0</li>\n",
       "\t<li>0</li>\n",
       "\t<li>0</li>\n",
       "\t<li>0</li>\n",
       "\t<li>0</li>\n",
       "\t<li>0</li>\n",
       "\t<li>0</li>\n",
       "\t<li>0</li>\n",
       "\t<li>0</li>\n",
       "\t<li>0</li>\n",
       "\t<li>0</li>\n",
       "\t<li>0</li>\n",
       "\t<li>0</li>\n",
       "\t<li>0</li>\n",
       "\t<li>0</li>\n",
       "\t<li>0</li>\n",
       "\t<li>0</li>\n",
       "\t<li>0</li>\n",
       "\t<li>0</li>\n",
       "\t<li>0</li>\n",
       "\t<li>0</li>\n",
       "\t<li>0</li>\n",
       "\t<li>0</li>\n",
       "\t<li>0</li>\n",
       "\t<li>0</li>\n",
       "\t<li>0</li>\n",
       "\t<li>0</li>\n",
       "\t<li>0</li>\n",
       "\t<li>0</li>\n",
       "\t<li>0</li>\n",
       "\t<li>0</li>\n",
       "\t<li>0</li>\n",
       "\t<li>0</li>\n",
       "\t<li>0</li>\n",
       "\t<li>0</li>\n",
       "\t<li>0</li>\n",
       "\t<li>0</li>\n",
       "\t<li>0</li>\n",
       "\t<li>0</li>\n",
       "\t<li>0</li>\n",
       "\t<li>0</li>\n",
       "\t<li>0</li>\n",
       "\t<li>0</li>\n",
       "\t<li>0</li>\n",
       "\t<li>0</li>\n",
       "\t<li>0</li>\n",
       "\t<li>0</li>\n",
       "\t<li>0</li>\n",
       "\t<li>0</li>\n",
       "\t<li>0</li>\n",
       "\t<li>0</li>\n",
       "\t<li>0</li>\n",
       "\t<li>0</li>\n",
       "\t<li>0</li>\n",
       "\t<li>0</li>\n",
       "\t<li>0</li>\n",
       "\t<li>0</li>\n",
       "\t<li>0</li>\n",
       "\t<li>0</li>\n",
       "\t<li>0</li>\n",
       "\t<li>0</li>\n",
       "\t<li>0</li>\n",
       "\t<li>0</li>\n",
       "\t<li>0</li>\n",
       "\t<li>0</li>\n",
       "\t<li>0</li>\n",
       "\t<li>0</li>\n",
       "\t<li>0</li>\n",
       "\t<li>0</li>\n",
       "\t<li>0</li>\n",
       "\t<li>0</li>\n",
       "\t<li>0</li>\n",
       "\t<li>0</li>\n",
       "\t<li>0</li>\n",
       "\t<li>0</li>\n",
       "\t<li>0</li>\n",
       "\t<li>0</li>\n",
       "\t<li>0</li>\n",
       "\t<li>0</li>\n",
       "\t<li>0</li>\n",
       "\t<li>0</li>\n",
       "\t<li>0</li>\n",
       "\t<li>0</li>\n",
       "\t<li>0</li>\n",
       "\t<li>0</li>\n",
       "\t<li>0</li>\n",
       "\t<li>0</li>\n",
       "\t<li>0</li>\n",
       "\t<li>0</li>\n",
       "\t<li>0</li>\n",
       "\t<li>0</li>\n",
       "\t<li>0</li>\n",
       "\t<li>0</li>\n",
       "\t<li>0</li>\n",
       "\t<li>0</li>\n",
       "\t<li>0</li>\n",
       "\t<li>0</li>\n",
       "\t<li>0</li>\n",
       "\t<li>0</li>\n",
       "\t<li>0</li>\n",
       "\t<li>0</li>\n",
       "\t<li>0</li>\n",
       "\t<li>0</li>\n",
       "\t<li>0</li>\n",
       "\t<li>0</li>\n",
       "\t<li>0</li>\n",
       "\t<li>0</li>\n",
       "\t<li>0</li>\n",
       "\t<li>0</li>\n",
       "\t<li>0</li>\n",
       "\t<li>0</li>\n",
       "\t<li>0</li>\n",
       "\t<li>0</li>\n",
       "\t<li>0</li>\n",
       "\t<li>0</li>\n",
       "\t<li>0</li>\n",
       "\t<li>0</li>\n",
       "\t<li>0</li>\n",
       "\t<li>0</li>\n",
       "\t<li>0</li>\n",
       "\t<li>0</li>\n",
       "\t<li>0</li>\n",
       "\t<li>0</li>\n",
       "\t<li>0</li>\n",
       "\t<li>0</li>\n",
       "\t<li>0</li>\n",
       "\t<li>0</li>\n",
       "\t<li>0</li>\n",
       "\t<li>0</li>\n",
       "\t<li>0</li>\n",
       "\t<li>0</li>\n",
       "\t<li>0</li>\n",
       "\t<li>0</li>\n",
       "\t<li>0</li>\n",
       "\t<li>0</li>\n",
       "\t<li>0</li>\n",
       "\t<li>0</li>\n",
       "\t<li>0</li>\n",
       "\t<li>0</li>\n",
       "\t<li>0</li>\n",
       "\t<li>0</li>\n",
       "\t<li>0</li>\n",
       "\t<li>0</li>\n",
       "\t<li>0</li>\n",
       "\t<li>0</li>\n",
       "\t<li>0</li>\n",
       "\t<li>0</li>\n",
       "\t<li>0</li>\n",
       "\t<li>0</li>\n",
       "\t<li>0</li>\n",
       "\t<li>0</li>\n",
       "\t<li>0</li>\n",
       "\t<li>0</li>\n",
       "\t<li>0</li>\n",
       "\t<li>0</li>\n",
       "\t<li>0</li>\n",
       "\t<li>0</li>\n",
       "\t<li>0</li>\n",
       "\t<li>0</li>\n",
       "\t<li>0</li>\n",
       "\t<li>0</li>\n",
       "\t<li>0</li>\n",
       "\t<li>0</li>\n",
       "\t<li>0</li>\n",
       "\t<li>0</li>\n",
       "\t<li>0</li>\n",
       "\t<li>0</li>\n",
       "\t<li>0</li>\n",
       "\t<li>0</li>\n",
       "\t<li>0</li>\n",
       "\t<li>0</li>\n",
       "\t<li>0</li>\n",
       "\t<li>0</li>\n",
       "\t<li>0</li>\n",
       "\t<li>0</li>\n",
       "\t<li>0</li>\n",
       "\t<li>0</li>\n",
       "\t<li>0</li>\n",
       "\t<li>0</li>\n",
       "\t<li>0</li>\n",
       "\t<li>0</li>\n",
       "\t<li>0</li>\n",
       "\t<li>0</li>\n",
       "\t<li>0</li>\n",
       "\t<li>0</li>\n",
       "\t<li>0</li>\n",
       "\t<li>0</li>\n",
       "\t<li>0</li>\n",
       "\t<li>0</li>\n",
       "\t<li>0</li>\n",
       "\t<li>0</li>\n",
       "\t<li>0</li>\n",
       "\t<li>0</li>\n",
       "\t<li>0</li>\n",
       "\t<li>0</li>\n",
       "\t<li>0</li>\n",
       "\t<li>0</li>\n",
       "\t<li>0</li>\n",
       "\t<li>0</li>\n",
       "\t<li>0</li>\n",
       "\t<li>0</li>\n",
       "\t<li>0</li>\n",
       "\t<li>0</li>\n",
       "\t<li>0</li>\n",
       "\t<li>0</li>\n",
       "\t<li>0</li>\n",
       "\t<li>0</li>\n",
       "\t<li>0</li>\n",
       "\t<li>0</li>\n",
       "\t<li>0</li>\n",
       "\t<li>0</li>\n",
       "\t<li>0</li>\n",
       "\t<li>0</li>\n",
       "\t<li>0</li>\n",
       "\t<li>0</li>\n",
       "\t<li>0</li>\n",
       "\t<li>0</li>\n",
       "\t<li>0</li>\n",
       "\t<li>0</li>\n",
       "\t<li>0</li>\n",
       "\t<li>0</li>\n",
       "\t<li>0</li>\n",
       "\t<li>0</li>\n",
       "\t<li>0</li>\n",
       "\t<li>0</li>\n",
       "\t<li>0</li>\n",
       "\t<li>0</li>\n",
       "\t<li>0</li>\n",
       "\t<li>0</li>\n",
       "\t<li>0</li>\n",
       "\t<li>0</li>\n",
       "\t<li>0</li>\n",
       "\t<li>0</li>\n",
       "\t<li>0</li>\n",
       "\t<li>0</li>\n",
       "\t<li>0</li>\n",
       "\t<li>0</li>\n",
       "\t<li>0</li>\n",
       "\t<li>0</li>\n",
       "\t<li>0</li>\n",
       "\t<li>0</li>\n",
       "\t<li>0</li>\n",
       "\t<li>0</li>\n",
       "\t<li>0</li>\n",
       "\t<li>0</li>\n",
       "\t<li>0</li>\n",
       "\t<li>0</li>\n",
       "\t<li>0</li>\n",
       "\t<li>0</li>\n",
       "\t<li>0</li>\n",
       "\t<li>0</li>\n",
       "\t<li>0</li>\n",
       "\t<li>0</li>\n",
       "\t<li>0</li>\n",
       "\t<li>0</li>\n",
       "\t<li>0</li>\n",
       "\t<li>0</li>\n",
       "\t<li>0</li>\n",
       "\t<li>0</li>\n",
       "\t<li>0</li>\n",
       "\t<li>0</li>\n",
       "\t<li>0</li>\n",
       "\t<li>0</li>\n",
       "\t<li>0</li>\n",
       "\t<li>0</li>\n",
       "\t<li>0</li>\n",
       "\t<li>0</li>\n",
       "\t<li>0</li>\n",
       "\t<li>0</li>\n",
       "\t<li>0</li>\n",
       "\t<li>0</li>\n",
       "\t<li>0</li>\n",
       "\t<li>0</li>\n",
       "\t<li>0</li>\n",
       "\t<li>0</li>\n",
       "\t<li>0</li>\n",
       "\t<li>0</li>\n",
       "\t<li>0</li>\n",
       "\t<li>0</li>\n",
       "\t<li>0</li>\n",
       "\t<li>0</li>\n",
       "\t<li>0</li>\n",
       "\t<li>0</li>\n",
       "\t<li>0</li>\n",
       "\t<li>0</li>\n",
       "\t<li>0</li>\n",
       "\t<li>0</li>\n",
       "\t<li>0</li>\n",
       "\t<li>0</li>\n",
       "\t<li>0</li>\n",
       "\t<li>0</li>\n",
       "\t<li>0</li>\n",
       "\t<li>0</li>\n",
       "\t<li>0</li>\n",
       "\t<li>0</li>\n",
       "\t<li>0</li>\n",
       "\t<li>0</li>\n",
       "\t<li>0</li>\n",
       "\t<li>0</li>\n",
       "\t<li>0</li>\n",
       "\t<li>0</li>\n",
       "\t<li>0</li>\n",
       "\t<li>0</li>\n",
       "\t<li>0</li>\n",
       "\t<li>0</li>\n",
       "\t<li>0</li>\n",
       "\t<li>0</li>\n",
       "\t<li>0</li>\n",
       "\t<li>0</li>\n",
       "\t<li>0</li>\n",
       "\t<li>0</li>\n",
       "\t<li>0</li>\n",
       "\t<li>0</li>\n",
       "\t<li>0</li>\n",
       "\t<li>0</li>\n",
       "\t<li>0</li>\n",
       "\t<li>0</li>\n",
       "\t<li>0</li>\n",
       "\t<li>0</li>\n",
       "\t<li>0</li>\n",
       "\t<li>0</li>\n",
       "\t<li>0</li>\n",
       "\t<li>0</li>\n",
       "\t<li>0</li>\n",
       "\t<li>0</li>\n",
       "\t<li>0</li>\n",
       "\t<li>0</li>\n",
       "\t<li>0</li>\n",
       "\t<li>0</li>\n",
       "\t<li>0</li>\n",
       "\t<li>0</li>\n",
       "\t<li>0</li>\n",
       "\t<li>0</li>\n",
       "\t<li>0</li>\n",
       "\t<li>0</li>\n",
       "\t<li>0</li>\n",
       "\t<li>0</li>\n",
       "\t<li>0</li>\n",
       "\t<li>0</li>\n",
       "\t<li>0</li>\n",
       "\t<li>0</li>\n",
       "\t<li>0</li>\n",
       "\t<li>0</li>\n",
       "\t<li>0</li>\n",
       "\t<li>0</li>\n",
       "\t<li>0</li>\n",
       "\t<li>0</li>\n",
       "\t<li>0</li>\n",
       "\t<li>0</li>\n",
       "\t<li>0</li>\n",
       "\t<li>0</li>\n",
       "\t<li>0</li>\n",
       "\t<li>0</li>\n",
       "\t<li>0</li>\n",
       "\t<li>0</li>\n",
       "\t<li>0</li>\n",
       "\t<li>0</li>\n",
       "\t<li>0</li>\n",
       "\t<li>0</li>\n",
       "\t<li>0</li>\n",
       "\t<li>0</li>\n",
       "\t<li>0</li>\n",
       "\t<li>0</li>\n",
       "\t<li>0</li>\n",
       "\t<li>0</li>\n",
       "\t<li>0</li>\n",
       "\t<li>0</li>\n",
       "\t<li>0</li>\n",
       "\t<li>0</li>\n",
       "\t<li>0</li>\n",
       "\t<li>0</li>\n",
       "\t<li>0</li>\n",
       "\t<li>0</li>\n",
       "\t<li>0</li>\n",
       "\t<li>0</li>\n",
       "\t<li>0</li>\n",
       "\t<li>0</li>\n",
       "\t<li>0</li>\n",
       "\t<li>0</li>\n",
       "\t<li>0</li>\n",
       "\t<li>0</li>\n",
       "\t<li>0</li>\n",
       "\t<li>0</li>\n",
       "\t<li>0</li>\n",
       "\t<li>0</li>\n",
       "\t<li>0</li>\n",
       "\t<li>0</li>\n",
       "\t<li>0</li>\n",
       "\t<li>0</li>\n",
       "\t<li>0</li>\n",
       "\t<li>0</li>\n",
       "\t<li>0</li>\n",
       "\t<li>0</li>\n",
       "</ol>\n",
       "</dd>\n",
       "\t<dt>$centralization</dt>\n",
       "\t\t<dd>0.526916984583807</dd>\n",
       "\t<dt>$theoretical_max</dt>\n",
       "\t\t<dd>448230</dd>\n",
       "</dl>\n"
      ],
      "text/latex": [
       "\\begin{description}\n",
       "\\item[\\$res] \\begin{enumerate*}\n",
       "\\item 24\n",
       "\\item 75\n",
       "\\item 274\n",
       "\\item 354\n",
       "\\item 273\n",
       "\\item 0\n",
       "\\item 0\n",
       "\\item 0\n",
       "\\item 0\n",
       "\\item 0\n",
       "\\item 0\n",
       "\\item 0\n",
       "\\item 0\n",
       "\\item 0\n",
       "\\item 0\n",
       "\\item 0\n",
       "\\item 0\n",
       "\\item 0\n",
       "\\item 0\n",
       "\\item 0\n",
       "\\item 0\n",
       "\\item 0\n",
       "\\item 0\n",
       "\\item 0\n",
       "\\item 0\n",
       "\\item 0\n",
       "\\item 0\n",
       "\\item 0\n",
       "\\item 0\n",
       "\\item 0\n",
       "\\item 0\n",
       "\\item 0\n",
       "\\item 0\n",
       "\\item 0\n",
       "\\item 0\n",
       "\\item 0\n",
       "\\item 0\n",
       "\\item 0\n",
       "\\item 0\n",
       "\\item 0\n",
       "\\item 0\n",
       "\\item 0\n",
       "\\item 0\n",
       "\\item 0\n",
       "\\item 0\n",
       "\\item 0\n",
       "\\item 0\n",
       "\\item 0\n",
       "\\item 0\n",
       "\\item 0\n",
       "\\item 0\n",
       "\\item 0\n",
       "\\item 0\n",
       "\\item 0\n",
       "\\item 0\n",
       "\\item 0\n",
       "\\item 0\n",
       "\\item 0\n",
       "\\item 0\n",
       "\\item 0\n",
       "\\item 0\n",
       "\\item 0\n",
       "\\item 0\n",
       "\\item 0\n",
       "\\item 0\n",
       "\\item 0\n",
       "\\item 0\n",
       "\\item 0\n",
       "\\item 0\n",
       "\\item 0\n",
       "\\item 0\n",
       "\\item 0\n",
       "\\item 0\n",
       "\\item 0\n",
       "\\item 0\n",
       "\\item 0\n",
       "\\item 0\n",
       "\\item 0\n",
       "\\item 0\n",
       "\\item 0\n",
       "\\item 0\n",
       "\\item 0\n",
       "\\item 0\n",
       "\\item 0\n",
       "\\item 0\n",
       "\\item 0\n",
       "\\item 0\n",
       "\\item 0\n",
       "\\item 0\n",
       "\\item 0\n",
       "\\item 0\n",
       "\\item 0\n",
       "\\item 0\n",
       "\\item 0\n",
       "\\item 0\n",
       "\\item 0\n",
       "\\item 0\n",
       "\\item 0\n",
       "\\item 0\n",
       "\\item 0\n",
       "\\item 0\n",
       "\\item 0\n",
       "\\item 0\n",
       "\\item 0\n",
       "\\item 0\n",
       "\\item 0\n",
       "\\item 0\n",
       "\\item 0\n",
       "\\item 0\n",
       "\\item 0\n",
       "\\item 0\n",
       "\\item 0\n",
       "\\item 0\n",
       "\\item 0\n",
       "\\item 0\n",
       "\\item 0\n",
       "\\item 0\n",
       "\\item 0\n",
       "\\item 0\n",
       "\\item 0\n",
       "\\item 0\n",
       "\\item 0\n",
       "\\item 0\n",
       "\\item 0\n",
       "\\item 0\n",
       "\\item 0\n",
       "\\item 0\n",
       "\\item 0\n",
       "\\item 0\n",
       "\\item 0\n",
       "\\item 0\n",
       "\\item 0\n",
       "\\item 0\n",
       "\\item 0\n",
       "\\item 0\n",
       "\\item 0\n",
       "\\item 0\n",
       "\\item 0\n",
       "\\item 0\n",
       "\\item 0\n",
       "\\item 0\n",
       "\\item 0\n",
       "\\item 0\n",
       "\\item 0\n",
       "\\item 0\n",
       "\\item 0\n",
       "\\item 0\n",
       "\\item 0\n",
       "\\item 0\n",
       "\\item 0\n",
       "\\item 0\n",
       "\\item 0\n",
       "\\item 0\n",
       "\\item 0\n",
       "\\item 0\n",
       "\\item 0\n",
       "\\item 0\n",
       "\\item 0\n",
       "\\item 0\n",
       "\\item 0\n",
       "\\item 0\n",
       "\\item 0\n",
       "\\item 0\n",
       "\\item 0\n",
       "\\item 0\n",
       "\\item 0\n",
       "\\item 0\n",
       "\\item 0\n",
       "\\item 0\n",
       "\\item 0\n",
       "\\item 0\n",
       "\\item 0\n",
       "\\item 0\n",
       "\\item 0\n",
       "\\item 0\n",
       "\\item 0\n",
       "\\item 0\n",
       "\\item 0\n",
       "\\item 0\n",
       "\\item 0\n",
       "\\item 0\n",
       "\\item 0\n",
       "\\item 0\n",
       "\\item 0\n",
       "\\item 0\n",
       "\\item 0\n",
       "\\item 0\n",
       "\\item 0\n",
       "\\item 0\n",
       "\\item 0\n",
       "\\item 0\n",
       "\\item 0\n",
       "\\item 0\n",
       "\\item 0\n",
       "\\item 0\n",
       "\\item 0\n",
       "\\item 0\n",
       "\\item 0\n",
       "\\item 0\n",
       "\\item 0\n",
       "\\item 0\n",
       "\\item 0\n",
       "\\item 0\n",
       "\\item 0\n",
       "\\item 0\n",
       "\\item 0\n",
       "\\item 0\n",
       "\\item 0\n",
       "\\item 0\n",
       "\\item 0\n",
       "\\item 0\n",
       "\\item 0\n",
       "\\item 0\n",
       "\\item 0\n",
       "\\item 0\n",
       "\\item 0\n",
       "\\item 0\n",
       "\\item 0\n",
       "\\item 0\n",
       "\\item 0\n",
       "\\item 0\n",
       "\\item 0\n",
       "\\item 0\n",
       "\\item 0\n",
       "\\item 0\n",
       "\\item 0\n",
       "\\item 0\n",
       "\\item 0\n",
       "\\item 0\n",
       "\\item 0\n",
       "\\item 0\n",
       "\\item 0\n",
       "\\item 0\n",
       "\\item 0\n",
       "\\item 0\n",
       "\\item 0\n",
       "\\item 0\n",
       "\\item 0\n",
       "\\item 0\n",
       "\\item 0\n",
       "\\item 0\n",
       "\\item 0\n",
       "\\item 0\n",
       "\\item 0\n",
       "\\item 0\n",
       "\\item 0\n",
       "\\item 0\n",
       "\\item 0\n",
       "\\item 0\n",
       "\\item 0\n",
       "\\item 0\n",
       "\\item 0\n",
       "\\item 0\n",
       "\\item 0\n",
       "\\item 0\n",
       "\\item 0\n",
       "\\item 0\n",
       "\\item 0\n",
       "\\item 0\n",
       "\\item 0\n",
       "\\item 0\n",
       "\\item 0\n",
       "\\item 0\n",
       "\\item 0\n",
       "\\item 0\n",
       "\\item 0\n",
       "\\item 0\n",
       "\\item 0\n",
       "\\item 0\n",
       "\\item 0\n",
       "\\item 0\n",
       "\\item 0\n",
       "\\item 0\n",
       "\\item 0\n",
       "\\item 0\n",
       "\\item 0\n",
       "\\item 0\n",
       "\\item 0\n",
       "\\item 0\n",
       "\\item 0\n",
       "\\item 0\n",
       "\\item 0\n",
       "\\item 0\n",
       "\\item 0\n",
       "\\item 0\n",
       "\\item 0\n",
       "\\item 0\n",
       "\\item 0\n",
       "\\item 0\n",
       "\\item 0\n",
       "\\item 0\n",
       "\\item 0\n",
       "\\item 0\n",
       "\\item 0\n",
       "\\item 0\n",
       "\\item 0\n",
       "\\item 0\n",
       "\\item 0\n",
       "\\item 0\n",
       "\\item 0\n",
       "\\item 0\n",
       "\\item 0\n",
       "\\item 0\n",
       "\\item 0\n",
       "\\item 0\n",
       "\\item 0\n",
       "\\item 0\n",
       "\\item 0\n",
       "\\item 0\n",
       "\\item 0\n",
       "\\item 0\n",
       "\\item 0\n",
       "\\item 0\n",
       "\\item 0\n",
       "\\item 0\n",
       "\\item 0\n",
       "\\item 0\n",
       "\\item 0\n",
       "\\item 0\n",
       "\\item 0\n",
       "\\item 0\n",
       "\\item 0\n",
       "\\item 0\n",
       "\\item 0\n",
       "\\item 0\n",
       "\\item 0\n",
       "\\item 0\n",
       "\\item 0\n",
       "\\item 0\n",
       "\\item 0\n",
       "\\item 0\n",
       "\\item 0\n",
       "\\item 0\n",
       "\\item 0\n",
       "\\item 0\n",
       "\\item 0\n",
       "\\item 0\n",
       "\\item 0\n",
       "\\item 0\n",
       "\\item 0\n",
       "\\item 0\n",
       "\\item 0\n",
       "\\item 0\n",
       "\\item 0\n",
       "\\item 0\n",
       "\\item 0\n",
       "\\item 0\n",
       "\\item 0\n",
       "\\item 0\n",
       "\\item 0\n",
       "\\item 0\n",
       "\\item 0\n",
       "\\item 0\n",
       "\\item 0\n",
       "\\item 0\n",
       "\\item 0\n",
       "\\item 0\n",
       "\\item 0\n",
       "\\item 0\n",
       "\\item 0\n",
       "\\item 0\n",
       "\\item 0\n",
       "\\item 0\n",
       "\\item 0\n",
       "\\item 0\n",
       "\\item 0\n",
       "\\item 0\n",
       "\\item 0\n",
       "\\item 0\n",
       "\\item 0\n",
       "\\item 0\n",
       "\\item 0\n",
       "\\item 0\n",
       "\\item 0\n",
       "\\item 0\n",
       "\\item 0\n",
       "\\item 0\n",
       "\\item 0\n",
       "\\item 0\n",
       "\\item 0\n",
       "\\item 0\n",
       "\\item 0\n",
       "\\item 0\n",
       "\\item 0\n",
       "\\item 0\n",
       "\\item 0\n",
       "\\item 0\n",
       "\\item 0\n",
       "\\item 0\n",
       "\\item 0\n",
       "\\item 0\n",
       "\\item 0\n",
       "\\item 0\n",
       "\\item 0\n",
       "\\item 0\n",
       "\\item 0\n",
       "\\item 0\n",
       "\\item 0\n",
       "\\item 0\n",
       "\\item 0\n",
       "\\item 0\n",
       "\\item 0\n",
       "\\item 0\n",
       "\\item 0\n",
       "\\item 0\n",
       "\\item 0\n",
       "\\item 0\n",
       "\\item 0\n",
       "\\item 0\n",
       "\\item 0\n",
       "\\item 0\n",
       "\\item 0\n",
       "\\item 0\n",
       "\\item 0\n",
       "\\item 0\n",
       "\\item 0\n",
       "\\item 0\n",
       "\\item 0\n",
       "\\item 0\n",
       "\\item 0\n",
       "\\item 0\n",
       "\\item 0\n",
       "\\item 0\n",
       "\\item 0\n",
       "\\item 0\n",
       "\\item 0\n",
       "\\item 0\n",
       "\\item 0\n",
       "\\item 0\n",
       "\\item 0\n",
       "\\item 0\n",
       "\\item 0\n",
       "\\item 0\n",
       "\\item 0\n",
       "\\item 0\n",
       "\\item 0\n",
       "\\item 0\n",
       "\\item 0\n",
       "\\item 0\n",
       "\\item 0\n",
       "\\item 0\n",
       "\\item 0\n",
       "\\item 0\n",
       "\\item 0\n",
       "\\item 0\n",
       "\\item 0\n",
       "\\item 0\n",
       "\\item 0\n",
       "\\item 0\n",
       "\\item 0\n",
       "\\item 0\n",
       "\\item 0\n",
       "\\item 0\n",
       "\\item 0\n",
       "\\item 0\n",
       "\\item 0\n",
       "\\item 0\n",
       "\\item 0\n",
       "\\item 0\n",
       "\\item 0\n",
       "\\item 0\n",
       "\\item 0\n",
       "\\item 0\n",
       "\\item 0\n",
       "\\item 0\n",
       "\\item 0\n",
       "\\item 0\n",
       "\\item 0\n",
       "\\item 0\n",
       "\\item 0\n",
       "\\item 0\n",
       "\\item 0\n",
       "\\item 0\n",
       "\\item 0\n",
       "\\item 0\n",
       "\\item 0\n",
       "\\item 0\n",
       "\\item 0\n",
       "\\item 0\n",
       "\\item 0\n",
       "\\item 0\n",
       "\\item 0\n",
       "\\item 0\n",
       "\\item 0\n",
       "\\item 0\n",
       "\\item 0\n",
       "\\item 0\n",
       "\\item 0\n",
       "\\item 0\n",
       "\\item 0\n",
       "\\item 0\n",
       "\\item 0\n",
       "\\item 0\n",
       "\\item 0\n",
       "\\item 0\n",
       "\\item 0\n",
       "\\item 0\n",
       "\\item 0\n",
       "\\item 0\n",
       "\\item 0\n",
       "\\item 0\n",
       "\\item 0\n",
       "\\item 0\n",
       "\\item 0\n",
       "\\item 0\n",
       "\\item 0\n",
       "\\item 0\n",
       "\\item 0\n",
       "\\item 0\n",
       "\\item 0\n",
       "\\item 0\n",
       "\\item 0\n",
       "\\item 0\n",
       "\\item 0\n",
       "\\item 0\n",
       "\\item 0\n",
       "\\item 0\n",
       "\\item 0\n",
       "\\item 0\n",
       "\\item 0\n",
       "\\item 0\n",
       "\\item 0\n",
       "\\item 0\n",
       "\\item 0\n",
       "\\item 0\n",
       "\\item 0\n",
       "\\item 0\n",
       "\\item 0\n",
       "\\item 0\n",
       "\\item 0\n",
       "\\item 0\n",
       "\\item 0\n",
       "\\item 0\n",
       "\\item 0\n",
       "\\item 0\n",
       "\\item 0\n",
       "\\item 0\n",
       "\\item 0\n",
       "\\item 0\n",
       "\\item 0\n",
       "\\item 0\n",
       "\\item 0\n",
       "\\item 0\n",
       "\\item 0\n",
       "\\item 0\n",
       "\\item 0\n",
       "\\item 0\n",
       "\\item 0\n",
       "\\item 0\n",
       "\\item 0\n",
       "\\item 0\n",
       "\\item 0\n",
       "\\item 0\n",
       "\\item 0\n",
       "\\item 0\n",
       "\\item 0\n",
       "\\item 0\n",
       "\\item 0\n",
       "\\item 0\n",
       "\\item 0\n",
       "\\item 0\n",
       "\\item 0\n",
       "\\item 0\n",
       "\\item 0\n",
       "\\item 0\n",
       "\\item 0\n",
       "\\item 0\n",
       "\\item 0\n",
       "\\item 0\n",
       "\\item 0\n",
       "\\item 0\n",
       "\\item 0\n",
       "\\item 0\n",
       "\\item 0\n",
       "\\item 0\n",
       "\\item 0\n",
       "\\item 0\n",
       "\\item 0\n",
       "\\item 0\n",
       "\\item 0\n",
       "\\item 0\n",
       "\\item 0\n",
       "\\item 0\n",
       "\\item 0\n",
       "\\item 0\n",
       "\\item 0\n",
       "\\item 0\n",
       "\\item 0\n",
       "\\item 0\n",
       "\\item 0\n",
       "\\item 0\n",
       "\\item 0\n",
       "\\item 0\n",
       "\\item 0\n",
       "\\item 0\n",
       "\\item 0\n",
       "\\item 0\n",
       "\\item 0\n",
       "\\item 0\n",
       "\\item 0\n",
       "\\item 0\n",
       "\\item 0\n",
       "\\item 0\n",
       "\\item 0\n",
       "\\item 0\n",
       "\\item 0\n",
       "\\item 0\n",
       "\\item 0\n",
       "\\item 0\n",
       "\\item 0\n",
       "\\item 0\n",
       "\\item 0\n",
       "\\item 0\n",
       "\\item 0\n",
       "\\item 0\n",
       "\\item 0\n",
       "\\item 0\n",
       "\\item 0\n",
       "\\item 0\n",
       "\\item 0\n",
       "\\item 0\n",
       "\\item 0\n",
       "\\item 0\n",
       "\\item 0\n",
       "\\item 0\n",
       "\\item 0\n",
       "\\item 0\n",
       "\\item 0\n",
       "\\item 0\n",
       "\\item 0\n",
       "\\item 0\n",
       "\\item 0\n",
       "\\item 0\n",
       "\\item 0\n",
       "\\item 0\n",
       "\\item 0\n",
       "\\item 0\n",
       "\\item 0\n",
       "\\item 0\n",
       "\\item 0\n",
       "\\item 0\n",
       "\\item 0\n",
       "\\item 0\n",
       "\\item 0\n",
       "\\item 0\n",
       "\\item 0\n",
       "\\item 0\n",
       "\\item 0\n",
       "\\item 0\n",
       "\\item 0\n",
       "\\item 0\n",
       "\\item 0\n",
       "\\item 0\n",
       "\\item 0\n",
       "\\item 0\n",
       "\\item 0\n",
       "\\item 0\n",
       "\\item 0\n",
       "\\item 0\n",
       "\\item 0\n",
       "\\item 0\n",
       "\\item 0\n",
       "\\item 0\n",
       "\\item 0\n",
       "\\item 0\n",
       "\\item 0\n",
       "\\item 0\n",
       "\\item 0\n",
       "\\item 0\n",
       "\\item 0\n",
       "\\end{enumerate*}\n",
       "\n",
       "\\item[\\$centralization] 0.526916984583807\n",
       "\\item[\\$theoretical\\_max] 448230\n",
       "\\end{description}\n"
      ],
      "text/markdown": [
       "$res\n",
       ":   1. 24\n",
       "2. 75\n",
       "3. 274\n",
       "4. 354\n",
       "5. 273\n",
       "6. 0\n",
       "7. 0\n",
       "8. 0\n",
       "9. 0\n",
       "10. 0\n",
       "11. 0\n",
       "12. 0\n",
       "13. 0\n",
       "14. 0\n",
       "15. 0\n",
       "16. 0\n",
       "17. 0\n",
       "18. 0\n",
       "19. 0\n",
       "20. 0\n",
       "21. 0\n",
       "22. 0\n",
       "23. 0\n",
       "24. 0\n",
       "25. 0\n",
       "26. 0\n",
       "27. 0\n",
       "28. 0\n",
       "29. 0\n",
       "30. 0\n",
       "31. 0\n",
       "32. 0\n",
       "33. 0\n",
       "34. 0\n",
       "35. 0\n",
       "36. 0\n",
       "37. 0\n",
       "38. 0\n",
       "39. 0\n",
       "40. 0\n",
       "41. 0\n",
       "42. 0\n",
       "43. 0\n",
       "44. 0\n",
       "45. 0\n",
       "46. 0\n",
       "47. 0\n",
       "48. 0\n",
       "49. 0\n",
       "50. 0\n",
       "51. 0\n",
       "52. 0\n",
       "53. 0\n",
       "54. 0\n",
       "55. 0\n",
       "56. 0\n",
       "57. 0\n",
       "58. 0\n",
       "59. 0\n",
       "60. 0\n",
       "61. 0\n",
       "62. 0\n",
       "63. 0\n",
       "64. 0\n",
       "65. 0\n",
       "66. 0\n",
       "67. 0\n",
       "68. 0\n",
       "69. 0\n",
       "70. 0\n",
       "71. 0\n",
       "72. 0\n",
       "73. 0\n",
       "74. 0\n",
       "75. 0\n",
       "76. 0\n",
       "77. 0\n",
       "78. 0\n",
       "79. 0\n",
       "80. 0\n",
       "81. 0\n",
       "82. 0\n",
       "83. 0\n",
       "84. 0\n",
       "85. 0\n",
       "86. 0\n",
       "87. 0\n",
       "88. 0\n",
       "89. 0\n",
       "90. 0\n",
       "91. 0\n",
       "92. 0\n",
       "93. 0\n",
       "94. 0\n",
       "95. 0\n",
       "96. 0\n",
       "97. 0\n",
       "98. 0\n",
       "99. 0\n",
       "100. 0\n",
       "101. 0\n",
       "102. 0\n",
       "103. 0\n",
       "104. 0\n",
       "105. 0\n",
       "106. 0\n",
       "107. 0\n",
       "108. 0\n",
       "109. 0\n",
       "110. 0\n",
       "111. 0\n",
       "112. 0\n",
       "113. 0\n",
       "114. 0\n",
       "115. 0\n",
       "116. 0\n",
       "117. 0\n",
       "118. 0\n",
       "119. 0\n",
       "120. 0\n",
       "121. 0\n",
       "122. 0\n",
       "123. 0\n",
       "124. 0\n",
       "125. 0\n",
       "126. 0\n",
       "127. 0\n",
       "128. 0\n",
       "129. 0\n",
       "130. 0\n",
       "131. 0\n",
       "132. 0\n",
       "133. 0\n",
       "134. 0\n",
       "135. 0\n",
       "136. 0\n",
       "137. 0\n",
       "138. 0\n",
       "139. 0\n",
       "140. 0\n",
       "141. 0\n",
       "142. 0\n",
       "143. 0\n",
       "144. 0\n",
       "145. 0\n",
       "146. 0\n",
       "147. 0\n",
       "148. 0\n",
       "149. 0\n",
       "150. 0\n",
       "151. 0\n",
       "152. 0\n",
       "153. 0\n",
       "154. 0\n",
       "155. 0\n",
       "156. 0\n",
       "157. 0\n",
       "158. 0\n",
       "159. 0\n",
       "160. 0\n",
       "161. 0\n",
       "162. 0\n",
       "163. 0\n",
       "164. 0\n",
       "165. 0\n",
       "166. 0\n",
       "167. 0\n",
       "168. 0\n",
       "169. 0\n",
       "170. 0\n",
       "171. 0\n",
       "172. 0\n",
       "173. 0\n",
       "174. 0\n",
       "175. 0\n",
       "176. 0\n",
       "177. 0\n",
       "178. 0\n",
       "179. 0\n",
       "180. 0\n",
       "181. 0\n",
       "182. 0\n",
       "183. 0\n",
       "184. 0\n",
       "185. 0\n",
       "186. 0\n",
       "187. 0\n",
       "188. 0\n",
       "189. 0\n",
       "190. 0\n",
       "191. 0\n",
       "192. 0\n",
       "193. 0\n",
       "194. 0\n",
       "195. 0\n",
       "196. 0\n",
       "197. 0\n",
       "198. 0\n",
       "199. 0\n",
       "200. 0\n",
       "201. 0\n",
       "202. 0\n",
       "203. 0\n",
       "204. 0\n",
       "205. 0\n",
       "206. 0\n",
       "207. 0\n",
       "208. 0\n",
       "209. 0\n",
       "210. 0\n",
       "211. 0\n",
       "212. 0\n",
       "213. 0\n",
       "214. 0\n",
       "215. 0\n",
       "216. 0\n",
       "217. 0\n",
       "218. 0\n",
       "219. 0\n",
       "220. 0\n",
       "221. 0\n",
       "222. 0\n",
       "223. 0\n",
       "224. 0\n",
       "225. 0\n",
       "226. 0\n",
       "227. 0\n",
       "228. 0\n",
       "229. 0\n",
       "230. 0\n",
       "231. 0\n",
       "232. 0\n",
       "233. 0\n",
       "234. 0\n",
       "235. 0\n",
       "236. 0\n",
       "237. 0\n",
       "238. 0\n",
       "239. 0\n",
       "240. 0\n",
       "241. 0\n",
       "242. 0\n",
       "243. 0\n",
       "244. 0\n",
       "245. 0\n",
       "246. 0\n",
       "247. 0\n",
       "248. 0\n",
       "249. 0\n",
       "250. 0\n",
       "251. 0\n",
       "252. 0\n",
       "253. 0\n",
       "254. 0\n",
       "255. 0\n",
       "256. 0\n",
       "257. 0\n",
       "258. 0\n",
       "259. 0\n",
       "260. 0\n",
       "261. 0\n",
       "262. 0\n",
       "263. 0\n",
       "264. 0\n",
       "265. 0\n",
       "266. 0\n",
       "267. 0\n",
       "268. 0\n",
       "269. 0\n",
       "270. 0\n",
       "271. 0\n",
       "272. 0\n",
       "273. 0\n",
       "274. 0\n",
       "275. 0\n",
       "276. 0\n",
       "277. 0\n",
       "278. 0\n",
       "279. 0\n",
       "280. 0\n",
       "281. 0\n",
       "282. 0\n",
       "283. 0\n",
       "284. 0\n",
       "285. 0\n",
       "286. 0\n",
       "287. 0\n",
       "288. 0\n",
       "289. 0\n",
       "290. 0\n",
       "291. 0\n",
       "292. 0\n",
       "293. 0\n",
       "294. 0\n",
       "295. 0\n",
       "296. 0\n",
       "297. 0\n",
       "298. 0\n",
       "299. 0\n",
       "300. 0\n",
       "301. 0\n",
       "302. 0\n",
       "303. 0\n",
       "304. 0\n",
       "305. 0\n",
       "306. 0\n",
       "307. 0\n",
       "308. 0\n",
       "309. 0\n",
       "310. 0\n",
       "311. 0\n",
       "312. 0\n",
       "313. 0\n",
       "314. 0\n",
       "315. 0\n",
       "316. 0\n",
       "317. 0\n",
       "318. 0\n",
       "319. 0\n",
       "320. 0\n",
       "321. 0\n",
       "322. 0\n",
       "323. 0\n",
       "324. 0\n",
       "325. 0\n",
       "326. 0\n",
       "327. 0\n",
       "328. 0\n",
       "329. 0\n",
       "330. 0\n",
       "331. 0\n",
       "332. 0\n",
       "333. 0\n",
       "334. 0\n",
       "335. 0\n",
       "336. 0\n",
       "337. 0\n",
       "338. 0\n",
       "339. 0\n",
       "340. 0\n",
       "341. 0\n",
       "342. 0\n",
       "343. 0\n",
       "344. 0\n",
       "345. 0\n",
       "346. 0\n",
       "347. 0\n",
       "348. 0\n",
       "349. 0\n",
       "350. 0\n",
       "351. 0\n",
       "352. 0\n",
       "353. 0\n",
       "354. 0\n",
       "355. 0\n",
       "356. 0\n",
       "357. 0\n",
       "358. 0\n",
       "359. 0\n",
       "360. 0\n",
       "361. 0\n",
       "362. 0\n",
       "363. 0\n",
       "364. 0\n",
       "365. 0\n",
       "366. 0\n",
       "367. 0\n",
       "368. 0\n",
       "369. 0\n",
       "370. 0\n",
       "371. 0\n",
       "372. 0\n",
       "373. 0\n",
       "374. 0\n",
       "375. 0\n",
       "376. 0\n",
       "377. 0\n",
       "378. 0\n",
       "379. 0\n",
       "380. 0\n",
       "381. 0\n",
       "382. 0\n",
       "383. 0\n",
       "384. 0\n",
       "385. 0\n",
       "386. 0\n",
       "387. 0\n",
       "388. 0\n",
       "389. 0\n",
       "390. 0\n",
       "391. 0\n",
       "392. 0\n",
       "393. 0\n",
       "394. 0\n",
       "395. 0\n",
       "396. 0\n",
       "397. 0\n",
       "398. 0\n",
       "399. 0\n",
       "400. 0\n",
       "401. 0\n",
       "402. 0\n",
       "403. 0\n",
       "404. 0\n",
       "405. 0\n",
       "406. 0\n",
       "407. 0\n",
       "408. 0\n",
       "409. 0\n",
       "410. 0\n",
       "411. 0\n",
       "412. 0\n",
       "413. 0\n",
       "414. 0\n",
       "415. 0\n",
       "416. 0\n",
       "417. 0\n",
       "418. 0\n",
       "419. 0\n",
       "420. 0\n",
       "421. 0\n",
       "422. 0\n",
       "423. 0\n",
       "424. 0\n",
       "425. 0\n",
       "426. 0\n",
       "427. 0\n",
       "428. 0\n",
       "429. 0\n",
       "430. 0\n",
       "431. 0\n",
       "432. 0\n",
       "433. 0\n",
       "434. 0\n",
       "435. 0\n",
       "436. 0\n",
       "437. 0\n",
       "438. 0\n",
       "439. 0\n",
       "440. 0\n",
       "441. 0\n",
       "442. 0\n",
       "443. 0\n",
       "444. 0\n",
       "445. 0\n",
       "446. 0\n",
       "447. 0\n",
       "448. 0\n",
       "449. 0\n",
       "450. 0\n",
       "451. 0\n",
       "452. 0\n",
       "453. 0\n",
       "454. 0\n",
       "455. 0\n",
       "456. 0\n",
       "457. 0\n",
       "458. 0\n",
       "459. 0\n",
       "460. 0\n",
       "461. 0\n",
       "462. 0\n",
       "463. 0\n",
       "464. 0\n",
       "465. 0\n",
       "466. 0\n",
       "467. 0\n",
       "468. 0\n",
       "469. 0\n",
       "470. 0\n",
       "471. 0\n",
       "472. 0\n",
       "473. 0\n",
       "474. 0\n",
       "475. 0\n",
       "476. 0\n",
       "477. 0\n",
       "478. 0\n",
       "479. 0\n",
       "480. 0\n",
       "481. 0\n",
       "482. 0\n",
       "483. 0\n",
       "484. 0\n",
       "485. 0\n",
       "486. 0\n",
       "487. 0\n",
       "488. 0\n",
       "489. 0\n",
       "490. 0\n",
       "491. 0\n",
       "492. 0\n",
       "493. 0\n",
       "494. 0\n",
       "495. 0\n",
       "496. 0\n",
       "497. 0\n",
       "498. 0\n",
       "499. 0\n",
       "500. 0\n",
       "501. 0\n",
       "502. 0\n",
       "503. 0\n",
       "504. 0\n",
       "505. 0\n",
       "506. 0\n",
       "507. 0\n",
       "508. 0\n",
       "509. 0\n",
       "510. 0\n",
       "511. 0\n",
       "512. 0\n",
       "513. 0\n",
       "514. 0\n",
       "515. 0\n",
       "516. 0\n",
       "517. 0\n",
       "518. 0\n",
       "519. 0\n",
       "520. 0\n",
       "521. 0\n",
       "522. 0\n",
       "523. 0\n",
       "524. 0\n",
       "525. 0\n",
       "526. 0\n",
       "527. 0\n",
       "528. 0\n",
       "529. 0\n",
       "530. 0\n",
       "531. 0\n",
       "532. 0\n",
       "533. 0\n",
       "534. 0\n",
       "535. 0\n",
       "536. 0\n",
       "537. 0\n",
       "538. 0\n",
       "539. 0\n",
       "540. 0\n",
       "541. 0\n",
       "542. 0\n",
       "543. 0\n",
       "544. 0\n",
       "545. 0\n",
       "546. 0\n",
       "547. 0\n",
       "548. 0\n",
       "549. 0\n",
       "550. 0\n",
       "551. 0\n",
       "552. 0\n",
       "553. 0\n",
       "554. 0\n",
       "555. 0\n",
       "556. 0\n",
       "557. 0\n",
       "558. 0\n",
       "559. 0\n",
       "560. 0\n",
       "561. 0\n",
       "562. 0\n",
       "563. 0\n",
       "564. 0\n",
       "565. 0\n",
       "566. 0\n",
       "567. 0\n",
       "568. 0\n",
       "569. 0\n",
       "570. 0\n",
       "571. 0\n",
       "572. 0\n",
       "573. 0\n",
       "574. 0\n",
       "575. 0\n",
       "576. 0\n",
       "577. 0\n",
       "578. 0\n",
       "579. 0\n",
       "580. 0\n",
       "581. 0\n",
       "582. 0\n",
       "583. 0\n",
       "584. 0\n",
       "585. 0\n",
       "586. 0\n",
       "587. 0\n",
       "588. 0\n",
       "589. 0\n",
       "590. 0\n",
       "591. 0\n",
       "592. 0\n",
       "593. 0\n",
       "594. 0\n",
       "595. 0\n",
       "596. 0\n",
       "597. 0\n",
       "598. 0\n",
       "599. 0\n",
       "600. 0\n",
       "601. 0\n",
       "602. 0\n",
       "603. 0\n",
       "604. 0\n",
       "605. 0\n",
       "606. 0\n",
       "607. 0\n",
       "608. 0\n",
       "609. 0\n",
       "610. 0\n",
       "611. 0\n",
       "612. 0\n",
       "613. 0\n",
       "614. 0\n",
       "615. 0\n",
       "616. 0\n",
       "617. 0\n",
       "618. 0\n",
       "619. 0\n",
       "620. 0\n",
       "621. 0\n",
       "622. 0\n",
       "623. 0\n",
       "624. 0\n",
       "625. 0\n",
       "626. 0\n",
       "627. 0\n",
       "628. 0\n",
       "629. 0\n",
       "630. 0\n",
       "631. 0\n",
       "632. 0\n",
       "633. 0\n",
       "634. 0\n",
       "635. 0\n",
       "636. 0\n",
       "637. 0\n",
       "638. 0\n",
       "639. 0\n",
       "640. 0\n",
       "641. 0\n",
       "642. 0\n",
       "643. 0\n",
       "644. 0\n",
       "645. 0\n",
       "646. 0\n",
       "647. 0\n",
       "648. 0\n",
       "649. 0\n",
       "650. 0\n",
       "651. 0\n",
       "652. 0\n",
       "653. 0\n",
       "654. 0\n",
       "655. 0\n",
       "656. 0\n",
       "657. 0\n",
       "658. 0\n",
       "659. 0\n",
       "660. 0\n",
       "661. 0\n",
       "662. 0\n",
       "663. 0\n",
       "664. 0\n",
       "665. 0\n",
       "666. 0\n",
       "667. 0\n",
       "668. 0\n",
       "669. 0\n",
       "670. 0\n",
       "\n",
       "\n",
       "\n",
       "$centralization\n",
       ":   0.526916984583807\n",
       "$theoretical_max\n",
       ":   448230\n",
       "\n",
       "\n"
      ],
      "text/plain": [
       "$res\n",
       "  [1]  24  75 274 354 273   0   0   0   0   0   0   0   0   0   0   0   0   0\n",
       " [19]   0   0   0   0   0   0   0   0   0   0   0   0   0   0   0   0   0   0\n",
       " [37]   0   0   0   0   0   0   0   0   0   0   0   0   0   0   0   0   0   0\n",
       " [55]   0   0   0   0   0   0   0   0   0   0   0   0   0   0   0   0   0   0\n",
       " [73]   0   0   0   0   0   0   0   0   0   0   0   0   0   0   0   0   0   0\n",
       " [91]   0   0   0   0   0   0   0   0   0   0   0   0   0   0   0   0   0   0\n",
       "[109]   0   0   0   0   0   0   0   0   0   0   0   0   0   0   0   0   0   0\n",
       "[127]   0   0   0   0   0   0   0   0   0   0   0   0   0   0   0   0   0   0\n",
       "[145]   0   0   0   0   0   0   0   0   0   0   0   0   0   0   0   0   0   0\n",
       "[163]   0   0   0   0   0   0   0   0   0   0   0   0   0   0   0   0   0   0\n",
       "[181]   0   0   0   0   0   0   0   0   0   0   0   0   0   0   0   0   0   0\n",
       "[199]   0   0   0   0   0   0   0   0   0   0   0   0   0   0   0   0   0   0\n",
       "[217]   0   0   0   0   0   0   0   0   0   0   0   0   0   0   0   0   0   0\n",
       "[235]   0   0   0   0   0   0   0   0   0   0   0   0   0   0   0   0   0   0\n",
       "[253]   0   0   0   0   0   0   0   0   0   0   0   0   0   0   0   0   0   0\n",
       "[271]   0   0   0   0   0   0   0   0   0   0   0   0   0   0   0   0   0   0\n",
       "[289]   0   0   0   0   0   0   0   0   0   0   0   0   0   0   0   0   0   0\n",
       "[307]   0   0   0   0   0   0   0   0   0   0   0   0   0   0   0   0   0   0\n",
       "[325]   0   0   0   0   0   0   0   0   0   0   0   0   0   0   0   0   0   0\n",
       "[343]   0   0   0   0   0   0   0   0   0   0   0   0   0   0   0   0   0   0\n",
       "[361]   0   0   0   0   0   0   0   0   0   0   0   0   0   0   0   0   0   0\n",
       "[379]   0   0   0   0   0   0   0   0   0   0   0   0   0   0   0   0   0   0\n",
       "[397]   0   0   0   0   0   0   0   0   0   0   0   0   0   0   0   0   0   0\n",
       "[415]   0   0   0   0   0   0   0   0   0   0   0   0   0   0   0   0   0   0\n",
       "[433]   0   0   0   0   0   0   0   0   0   0   0   0   0   0   0   0   0   0\n",
       "[451]   0   0   0   0   0   0   0   0   0   0   0   0   0   0   0   0   0   0\n",
       "[469]   0   0   0   0   0   0   0   0   0   0   0   0   0   0   0   0   0   0\n",
       "[487]   0   0   0   0   0   0   0   0   0   0   0   0   0   0   0   0   0   0\n",
       "[505]   0   0   0   0   0   0   0   0   0   0   0   0   0   0   0   0   0   0\n",
       "[523]   0   0   0   0   0   0   0   0   0   0   0   0   0   0   0   0   0   0\n",
       "[541]   0   0   0   0   0   0   0   0   0   0   0   0   0   0   0   0   0   0\n",
       "[559]   0   0   0   0   0   0   0   0   0   0   0   0   0   0   0   0   0   0\n",
       "[577]   0   0   0   0   0   0   0   0   0   0   0   0   0   0   0   0   0   0\n",
       "[595]   0   0   0   0   0   0   0   0   0   0   0   0   0   0   0   0   0   0\n",
       "[613]   0   0   0   0   0   0   0   0   0   0   0   0   0   0   0   0   0   0\n",
       "[631]   0   0   0   0   0   0   0   0   0   0   0   0   0   0   0   0   0   0\n",
       "[649]   0   0   0   0   0   0   0   0   0   0   0   0   0   0   0   0   0   0\n",
       "[667]   0   0   0   0\n",
       "\n",
       "$centralization\n",
       "[1] 0.526917\n",
       "\n",
       "$theoretical_max\n",
       "[1] 448230\n"
      ]
     },
     "metadata": {},
     "output_type": "display_data"
    }
   ],
   "source": [
    "# Degree (number of ties)\n",
    "summary(degree(df, mode=\"in\"))\n",
    "centr_degree(df, mode=\"in\", normalized=T)"
   ]
  },
  {
   "cell_type": "markdown",
   "metadata": {},
   "source": [
    "* Closeness centrality of a node is the average lenght of the shortest path between the node and all other nodes in the graph. Mathematically expressed as\n",
    "$$C(x)\\quad =\\quad \\frac { 1 }{ { \\Sigma  }_{ y }\\quad d(y,x) } $$\n",
    "\n",
    "where d(y,x) is the distance between vertices x and y."
   ]
  },
  {
   "cell_type": "code",
   "execution_count": 165,
   "metadata": {
    "collapsed": false
   },
   "outputs": [
    {
     "data": {
      "text/plain": [
       "     Min.   1st Qu.    Median      Mean   3rd Qu.      Max. \n",
       "0.0004049 0.0005420 0.0005637 0.0005660 0.0005656 0.0009091 "
      ]
     },
     "metadata": {},
     "output_type": "display_data"
    }
   ],
   "source": [
    "# Inverse of the node's average geodesic distance to others in the network\n",
    "summary(closeness(df, mode=\"all\", weights=NA))\n",
    "# centr_clo(df, mode=\"all\", normalized=T)"
   ]
  },
  {
   "cell_type": "code",
   "execution_count": 166,
   "metadata": {
    "collapsed": false
   },
   "outputs": [],
   "source": [
    "# Values of the first eigenvector of the graph adjacency matrix\n",
    "#eigen_centrality(df, directed=T, weights=NA)\n",
    "#summary(centr_eigen(df, directed=T, normalized=T)) "
   ]
  },
  {
   "cell_type": "code",
   "execution_count": 167,
   "metadata": {
    "collapsed": false
   },
   "outputs": [
    {
     "data": {
      "text/html": [
       "2.67367199875064"
      ],
      "text/latex": [
       "2.67367199875064"
      ],
      "text/markdown": [
       "2.67367199875064"
      ],
      "text/plain": [
       "[1] 2.673672"
      ]
     },
     "metadata": {},
     "output_type": "display_data"
    }
   ],
   "source": [
    "mean_distance(df, directed=F)"
   ]
  },
  {
   "cell_type": "code",
   "execution_count": 168,
   "metadata": {
    "collapsed": false
   },
   "outputs": [
    {
     "data": {
      "image/png": "[encoded data removed]",
      "text/plain": [
       "Plot with title \"\""
      ]
     },
     "metadata": {},
     "output_type": "display_data"
    }
   ],
   "source": [
    "ceb <- cluster_edge_betweenness(df) \n",
    "plot(ceb, df)"
   ]
  },
  {
   "cell_type": "markdown",
   "metadata": {},
   "source": [
    "A correlation analysis test would be done to ascertain if there is any relationship between the variables."
   ]
  },
  {
   "cell_type": "code",
   "execution_count": 169,
   "metadata": {
    "collapsed": false
   },
   "outputs": [
    {
     "data": {
      "text/plain": [
       "\n",
       "\n",
       "|   |      id       |     from     |      to      |   weighted       |\n",
       "|:--|:--------------|:-------------|:-------------|:-----------------|\n",
       "|   |Min.   : 1.000 |Min.   :  1.0 |Min.   :1.000 |Min.   :978224375 |\n",
       "|   |1st Qu.: 4.000 |1st Qu.:109.0 |1st Qu.:3.000 |1st Qu.:978229293 |\n",
       "|   |Median : 6.000 |Median :256.0 |Median :4.000 |Median :978241092 |\n",
       "|   |Mean   : 6.257 |Mean   :279.9 |Mean   :3.777 |Mean   :978320532 |\n",
       "|   |3rd Qu.: 9.000 |3rd Qu.:438.0 |3rd Qu.:5.000 |3rd Qu.:978297844 |\n",
       "|   |Max.   :10.000 |Max.   :670.0 |Max.   :5.000 |Max.   :980638688 |"
      ]
     },
     "metadata": {},
     "output_type": "display_data"
    }
   ],
   "source": [
    "kable(summary(movies))"
   ]
  },
  {
   "cell_type": "code",
   "execution_count": 170,
   "metadata": {
    "collapsed": false
   },
   "outputs": [
    {
     "data": {
      "text/html": [
       "2.97149470482126"
      ],
      "text/latex": [
       "2.97149470482126"
      ],
      "text/markdown": [
       "2.97149470482126"
      ],
      "text/plain": [
       "[1] 2.971495"
      ]
     },
     "metadata": {},
     "output_type": "display_data"
    }
   ],
   "source": [
    "sd(movies$id)"
   ]
  },
  {
   "cell_type": "code",
   "execution_count": 171,
   "metadata": {
    "collapsed": false
   },
   "outputs": [
    {
     "data": {
      "text/html": [
       "193.824099256136"
      ],
      "text/latex": [
       "193.824099256136"
      ],
      "text/markdown": [
       "193.824099256136"
      ],
      "text/plain": [
       "[1] 193.8241"
      ]
     },
     "metadata": {},
     "output_type": "display_data"
    }
   ],
   "source": [
    "sd(movies$from)"
   ]
  },
  {
   "cell_type": "code",
   "execution_count": 172,
   "metadata": {
    "collapsed": false
   },
   "outputs": [
    {
     "data": {
      "text/html": [
       "1.00711731455937"
      ],
      "text/latex": [
       "1.00711731455937"
      ],
      "text/markdown": [
       "1.00711731455937"
      ],
      "text/plain": [
       "[1] 1.007117"
      ]
     },
     "metadata": {},
     "output_type": "display_data"
    }
   ],
   "source": [
    "sd(movies$to)"
   ]
  },
  {
   "cell_type": "code",
   "execution_count": 173,
   "metadata": {
    "collapsed": false
   },
   "outputs": [
    {
     "data": {
      "text/html": [
       "302426.951674736"
      ],
      "text/latex": [
       "302426.951674736"
      ],
      "text/markdown": [
       "302426.951674736"
      ],
      "text/plain": [
       "[1] 302427"
      ]
     },
     "metadata": {},
     "output_type": "display_data"
    }
   ],
   "source": [
    "sd(movies$weighted)\n"
   ]
  },
  {
   "cell_type": "code",
   "execution_count": 174,
   "metadata": {
    "collapsed": false
   },
   "outputs": [
    {
     "data": {
      "text/plain": [
       "\n",
       "\tPearson's product-moment correlation\n",
       "\n",
       "data:  movies$from and movies$to\n",
       "t = -2.6884, df = 998, p-value = 0.0073\n",
       "alternative hypothesis: true correlation is not equal to 0\n",
       "95 percent confidence interval:\n",
       " -0.14601818 -0.02292005\n",
       "sample estimates:\n",
       "        cor \n",
       "-0.08479265 \n"
      ]
     },
     "metadata": {},
     "output_type": "display_data"
    }
   ],
   "source": [
    "cor.test(movies$from, movies$to, method = c(\"pearson\", \"kendall\", \"spearman\"),\n",
    "         exact = NULL, conf.level = 0.95, continuity = FALSE)"
   ]
  },
  {
   "cell_type": "markdown",
   "metadata": {},
   "source": [
    "* Regression Analysis\n",
    "\n",
    "Having obtain a negative correlation between the two variables, we will now dig deeper by doing more statictical analysis that tells us the degree of relationship between them. "
   ]
  },
  {
   "cell_type": "markdown",
   "metadata": {},
   "source": [
    "# Test of Hypothesis\n",
    "\n",
    "Null Hypothesis:\n",
    "\n",
    "$${ H }_{ 0 }\\quad :\\quad { \\mu  }_{ 1 }\\quad =\\quad { \\mu  }_{ 2 }\\quad =\\quad { \\mu  }_{ 3 }\\quad .\\quad .\\quad .\\quad =\\quad { \\mu  }_{ n }$$\n",
    "\n",
    "for n levels of an experimental treatment.\n",
    "\n",
    "$$Against$$\n",
    "\n",
    "Alternative Hypothesis:\n",
    "\n",
    "$${ H }_{ 1 }\\quad :\\quad { \\mu  }_{ 1 }\\quad \\neq \\quad { \\mu  }_{ 2 }\\quad =\\quad { \\mu  }_{ 3 }\\quad .\\quad .\\quad .\\quad =\\quad { \\mu  }_{ n }$$\n",
    "\n",
    "\n",
    "\n",
    "\n",
    "* Decision\n",
    "\n",
    "Reject Ho if P-value is less than tabulated value at ($${\\alpha}$$ = 0.05), otherwise do not reject."
   ]
  },
  {
   "cell_type": "code",
   "execution_count": 175,
   "metadata": {
    "collapsed": false
   },
   "outputs": [
    {
     "data": {
      "text/plain": [
       "\n",
       "Call:\n",
       "lm(formula = id ~ ., data = movies)\n",
       "\n",
       "Residuals:\n",
       "    Min      1Q  Median      3Q     Max \n",
       "-3.8211 -1.8299 -0.2725  1.2533  6.6581 \n",
       "\n",
       "Coefficients:\n",
       "              Estimate Std. Error t value Pr(>|t|)    \n",
       "(Intercept) -5.538e+02  2.420e+02  -2.288   0.0223 *  \n",
       "from         9.315e-03  3.843e-04  24.242  < 2e-16 ***\n",
       "to           4.117e-01  7.419e-02   5.549 3.68e-08 ***\n",
       "weighted     5.682e-07  2.474e-07   2.296   0.0219 *  \n",
       "---\n",
       "Signif. codes:  0 '***' 0.001 '**' 0.01 '*' 0.05 '.' 0.1 ' ' 1\n",
       "\n",
       "Residual standard error: 2.33 on 996 degrees of freedom\n",
       "Multiple R-squared:  0.3868,\tAdjusted R-squared:  0.3849 \n",
       "F-statistic: 209.4 on 3 and 996 DF,  p-value: < 2.2e-16\n"
      ]
     },
     "metadata": {},
     "output_type": "display_data"
    }
   ],
   "source": [
    "reg_analysis <- lm(id ~ ., data=movies)\n",
    "\n",
    "summary.lm(reg_analysis)"
   ]
  },
  {
   "cell_type": "code",
   "execution_count": 176,
   "metadata": {
    "collapsed": false
   },
   "outputs": [
    {
     "name": "stdout",
     "output_type": "stream",
     "text": [
      "Start:  AIC=1696.08\n",
      "id ~ from + to + weighted\n",
      "\n",
      "           Df Sum of Sq    RSS    AIC\n",
      "<none>                  5409.1 1696.1\n",
      "- weighted  1      28.6 5437.7 1699.4\n",
      "- to        1     167.2 5576.4 1724.5\n",
      "- from      1    3191.5 8600.6 2157.8\n"
     ]
    },
    {
     "data": {
      "text/plain": [
       "\n",
       "Call:\n",
       "lm(formula = id ~ from + to + weighted, data = movies)\n",
       "\n",
       "Residuals:\n",
       "    Min      1Q  Median      3Q     Max \n",
       "-3.8211 -1.8299 -0.2725  1.2533  6.6581 \n",
       "\n",
       "Coefficients:\n",
       "              Estimate Std. Error t value Pr(>|t|)    \n",
       "(Intercept) -5.538e+02  2.420e+02  -2.288   0.0223 *  \n",
       "from         9.315e-03  3.843e-04  24.242  < 2e-16 ***\n",
       "to           4.117e-01  7.419e-02   5.549 3.68e-08 ***\n",
       "weighted     5.682e-07  2.474e-07   2.296   0.0219 *  \n",
       "---\n",
       "Signif. codes:  0 '***' 0.001 '**' 0.01 '*' 0.05 '.' 0.1 ' ' 1\n",
       "\n",
       "Residual standard error: 2.33 on 996 degrees of freedom\n",
       "Multiple R-squared:  0.3868,\tAdjusted R-squared:  0.3849 \n",
       "F-statistic: 209.4 on 3 and 996 DF,  p-value: < 2.2e-16\n"
      ]
     },
     "metadata": {},
     "output_type": "display_data"
    }
   ],
   "source": [
    "stepwise <- step(reg_analysis, direction = \"both\")\n",
    "summary(stepwise)"
   ]
  },
  {
   "cell_type": "markdown",
   "metadata": {},
   "source": [
    "This is the table that shows the output of the ANOVA analysis and whether there is a statistically significant difference between our group means."
   ]
  },
  {
   "cell_type": "code",
   "execution_count": 177,
   "metadata": {
    "collapsed": false
   },
   "outputs": [
    {
     "data": {
      "text/html": [
       "<table>\n",
       "<thead><tr><th></th><th scope=col>Df</th><th scope=col>Sum Sq</th><th scope=col>Mean Sq</th><th scope=col>F value</th><th scope=col>Pr(&gt;F)</th></tr></thead>\n",
       "<tbody>\n",
       "\t<tr><th scope=row>from</th><td>  1          </td><td>3192.65546   </td><td>3192.655461  </td><td>587.875698   </td><td>1.946391e-102</td></tr>\n",
       "\t<tr><th scope=row>to</th><td>  1          </td><td> 190.54626   </td><td> 190.546263  </td><td> 35.086002   </td><td> 4.340074e-09</td></tr>\n",
       "\t<tr><th scope=row>weighted</th><td>  1          </td><td>  28.63838   </td><td>  28.638384  </td><td>  5.273294   </td><td> 2.186187e-02</td></tr>\n",
       "\t<tr><th scope=row>Residuals</th><td>996          </td><td>5409.11089   </td><td>   5.430834  </td><td>        NA   </td><td>           NA</td></tr>\n",
       "</tbody>\n",
       "</table>\n"
      ],
      "text/latex": [
       "\\begin{tabular}{r|lllll}\n",
       "  & Df & Sum Sq & Mean Sq & F value & Pr(>F)\\\\\n",
       "\\hline\n",
       "\tfrom &   1           & 3192.65546    & 3192.655461   & 587.875698    & 1.946391e-102\\\\\n",
       "\tto &   1           &  190.54626    &  190.546263   &  35.086002    &  4.340074e-09\\\\\n",
       "\tweighted &   1           &   28.63838    &   28.638384   &   5.273294    &  2.186187e-02\\\\\n",
       "\tResiduals & 996           & 5409.11089    &    5.430834   &         NA    &            NA\\\\\n",
       "\\end{tabular}\n"
      ],
      "text/markdown": [
       "\n",
       "| <!--/--> | Df | Sum Sq | Mean Sq | F value | Pr(>F) | \n",
       "|---|---|---|---|\n",
       "| from |   1           | 3192.65546    | 3192.655461   | 587.875698    | 1.946391e-102 | \n",
       "| to |   1           |  190.54626    |  190.546263   |  35.086002    |  4.340074e-09 | \n",
       "| weighted |   1           |   28.63838    |   28.638384   |   5.273294    |  2.186187e-02 | \n",
       "| Residuals | 996           | 5409.11089    |    5.430834   |         NA    |            NA | \n",
       "\n",
       "\n"
      ],
      "text/plain": [
       "          Df  Sum Sq     Mean Sq     F value    Pr(>F)       \n",
       "from        1 3192.65546 3192.655461 587.875698 1.946391e-102\n",
       "to          1  190.54626  190.546263  35.086002  4.340074e-09\n",
       "weighted    1   28.63838   28.638384   5.273294  2.186187e-02\n",
       "Residuals 996 5409.11089    5.430834         NA            NA"
      ]
     },
     "metadata": {},
     "output_type": "display_data"
    }
   ],
   "source": [
    "anova(reg_analysis, test= \"F\")"
   ]
  },
  {
   "cell_type": "code",
   "execution_count": 178,
   "metadata": {
    "collapsed": false
   },
   "outputs": [
    {
     "data": {
      "text/html": [
       "<table>\n",
       "<thead><tr><th></th><th scope=col>2.5 %</th><th scope=col>97.5 %</th></tr></thead>\n",
       "<tbody>\n",
       "\t<tr><th scope=row>(Intercept)</th><td>-1.028679e+03</td><td>-7.885766e+01</td></tr>\n",
       "\t<tr><th scope=row>from</th><td> 8.560976e-03</td><td> 1.006905e-02</td></tr>\n",
       "\t<tr><th scope=row>to</th><td> 2.661051e-01</td><td> 5.572618e-01</td></tr>\n",
       "\t<tr><th scope=row>weighted</th><td> 8.264442e-08</td><td> 1.053717e-06</td></tr>\n",
       "</tbody>\n",
       "</table>\n"
      ],
      "text/latex": [
       "\\begin{tabular}{r|ll}\n",
       "  & 2.5 \\% & 97.5 \\%\\\\\n",
       "\\hline\n",
       "\t(Intercept) & -1.028679e+03 & -7.885766e+01\\\\\n",
       "\tfrom &  8.560976e-03 &  1.006905e-02\\\\\n",
       "\tto &  2.661051e-01 &  5.572618e-01\\\\\n",
       "\tweighted &  8.264442e-08 &  1.053717e-06\\\\\n",
       "\\end{tabular}\n"
      ],
      "text/markdown": [
       "\n",
       "| <!--/--> | 2.5 % | 97.5 % | \n",
       "|---|---|---|---|\n",
       "| (Intercept) | -1.028679e+03 | -7.885766e+01 | \n",
       "| from |  8.560976e-03 |  1.006905e-02 | \n",
       "| to |  2.661051e-01 |  5.572618e-01 | \n",
       "| weighted |  8.264442e-08 |  1.053717e-06 | \n",
       "\n",
       "\n"
      ],
      "text/plain": [
       "            2.5 %         97.5 %       \n",
       "(Intercept) -1.028679e+03 -7.885766e+01\n",
       "from         8.560976e-03  1.006905e-02\n",
       "to           2.661051e-01  5.572618e-01\n",
       "weighted     8.264442e-08  1.053717e-06"
      ]
     },
     "metadata": {},
     "output_type": "display_data"
    }
   ],
   "source": [
    "confint(stepwise)"
   ]
  },
  {
   "cell_type": "markdown",
   "metadata": {},
   "source": [
    "* Tukey Post Hoc Test\n",
    "\n",
    "A further investigation using tukey test."
   ]
  },
  {
   "cell_type": "code",
   "execution_count": 179,
   "metadata": {
    "collapsed": false
   },
   "outputs": [
    {
     "data": {
      "text/plain": [
       "             Df Sum Sq Mean Sq F value   Pr(>F)    \n",
       "from          1   3193    3193 587.876  < 2e-16 ***\n",
       "to            1    191     191  35.086 4.34e-09 ***\n",
       "weighted      1     29      29   5.273   0.0219 *  \n",
       "Residuals   996   5409       5                     \n",
       "---\n",
       "Signif. codes:  0 '***' 0.001 '**' 0.01 '*' 0.05 '.' 0.1 ' ' 1"
      ]
     },
     "metadata": {},
     "output_type": "display_data"
    }
   ],
   "source": [
    "summary(tuk <- aov(id~., data = movies))"
   ]
  },
  {
   "cell_type": "markdown",
   "metadata": {},
   "source": [
    "* Conclusion:\n",
    "\n",
    "From the above analysis, we can deduce that:\n",
    "\n",
    "+ The P-value is less than the tabulated value (0.05).\n",
    "\n",
    "+ The Correlation Co-efficient is weak negative.\n",
    "\n",
    "+ The Confident Interval of stepwise best model selection is Non-Zero.\n",
    "\n",
    "+ The TukeyHD Post Adhoc output support the initial Analysis of Variance outcome.\n",
    "\n",
    "We can therefore conclude that there was statistically difference between their means and the null hypothesis is rejected.\n",
    "\n",
    "\n"
   ]
  },
  {
   "cell_type": "markdown",
   "metadata": {},
   "source": [
    "# Recommender System\n",
    "\n",
    "* We will do a little analysis on the movies dataset recommender system."
   ]
  },
  {
   "cell_type": "code",
   "execution_count": 180,
   "metadata": {
    "collapsed": false
   },
   "outputs": [],
   "source": [
    "mov_rrm <- as(movies, \"realRatingMatrix\") # Conversion of the dataset into Real Rating Matrix"
   ]
  },
  {
   "cell_type": "code",
   "execution_count": 181,
   "metadata": {
    "collapsed": false
   },
   "outputs": [
    {
     "data": {
      "text/plain": [
       "100 x 670 rating matrix of class 'realRatingMatrix' with 12403 ratings."
      ]
     },
     "metadata": {},
     "output_type": "display_data"
    }
   ],
   "source": [
    "# sampling out some real rating matrix for further analysis.\n",
    "movies_ratings <- sample(mov_rrm[rowCounts(mov_rrm) >50,], 100, replace=TRUE)\n",
    "movies_ratings"
   ]
  },
  {
   "cell_type": "code",
   "execution_count": 182,
   "metadata": {
    "collapsed": true
   },
   "outputs": [],
   "source": [
    "eval_scheme <- evaluationScheme(movies_ratings, method=\"bootstrap\",\n",
    "        train = 0.9, k=1, given=3, goodRating=3)"
   ]
  },
  {
   "cell_type": "code",
   "execution_count": 183,
   "metadata": {
    "collapsed": false
   },
   "outputs": [],
   "source": [
    "eval_recomm <- Recommender(data = getData(eval_scheme, \"train\"),method = \"IBCF\", parameter = NULL)"
   ]
  },
  {
   "cell_type": "code",
   "execution_count": 184,
   "metadata": {
    "collapsed": false
   },
   "outputs": [],
   "source": [
    "# Prediction of the recommended ratings\n",
    "eval_prediction <- predict(object = eval_recomm, newdata =getData(eval_scheme, \"known\"), n = 10, type = \"ratings\")"
   ]
  },
  {
   "cell_type": "code",
   "execution_count": 185,
   "metadata": {
    "collapsed": false
   },
   "outputs": [
    {
     "name": "stderr",
     "output_type": "stream",
     "text": [
      "`stat_bin()` using `bins = 30`. Pick better value with `binwidth`.\n"
     ]
    },
    {
     "data": {},
     "metadata": {},
     "output_type": "display_data"
    },
    {
     "data": {
      "image/png": "[encoded data removed]",
      "text/plain": [
       "plot without title"
      ]
     },
     "metadata": {},
     "output_type": "display_data"
    }
   ],
   "source": [
    "qplot(rowCounts(eval_prediction)) + geom_histogram(binwidth = 10) + ggtitle(\"Distribution of movies per user\") + xlab(\"Evaluation Prediction\")"
   ]
  },
  {
   "cell_type": "code",
   "execution_count": 186,
   "metadata": {
    "collapsed": false
   },
   "outputs": [
    {
     "name": "stdout",
     "output_type": "stream",
     "text": [
      "IBCF run fold/sample [model time/prediction time]\n",
      "\t 1  [3.6sec/0.02sec] \n"
     ]
    }
   ],
   "source": [
    "eval_pred_accuracy <- calcPredictionAccuracy(x = eval_prediction, data = getData(eval_scheme, \"unknown\"), byUser =TRUE)\n",
    "output <- evaluate(x = eval_scheme, method = \"IBCF\", n =seq(10, 100, 10))"
   ]
  },
  {
   "cell_type": "markdown",
   "metadata": {},
   "source": [
    "* Root Mean Square Error (RMSE): This is frequently used measure of the differences between values (sample and population values) predicted by a model or an estimator and the values actually observed. i.e used to measure the standard deviation between the real and predicted values.\n",
    "\n",
    "\n",
    "* Mean Sqaure Error (MSE): This being a risk fuction is used to measures the average of the squares of the errors or deviations-that is, the difference between the mean of an estimator and what is estimated.\n",
    "\n",
    "\n",
    "* Mean Absolute Error (MAE): As the name implies, it is the mean of absolute different between estimator and what is estimated."
   ]
  },
  {
   "cell_type": "code",
   "execution_count": 187,
   "metadata": {
    "collapsed": false
   },
   "outputs": [
    {
     "data": {
      "text/plain": [
       "\n",
       "\n",
       "|   |      RMSE|       MSE|       MAE|\n",
       "|:--|---------:|---------:|---------:|\n",
       "|3  | 1.1335640| 1.2849673| 0.9701512|\n",
       "|10 | 0.8240958| 0.6791339| 0.6811024|\n",
       "|6  | 1.5399443| 2.3714286| 1.2285714|\n",
       "|5  | 2.1011031| 4.4146341| 2.0731707|\n",
       "|10 | 0.8164966| 0.6666667| 0.6666667|\n",
       "|8  | 0.5449163| 0.2969338| 0.2491489|"
      ]
     },
     "metadata": {},
     "output_type": "display_data"
    }
   ],
   "source": [
    "kable(head(eval_pred_accuracy))"
   ]
  },
  {
   "cell_type": "markdown",
   "metadata": {},
   "source": [
    "* A confusion matrix is a table that is often used to describe the performance of a classification model (classifier) on a set of test data for which the true values are known.\n",
    "\n",
    "Where,\n",
    "\n",
    "TP = TRUE POSITIVE\n",
    "\n",
    "FP = FALSE POSITIVE\n",
    "\n",
    "FN = FALSE NEGATIVE\n",
    "\n",
    "TN = TRUE NEGATIVE"
   ]
  },
  {
   "cell_type": "code",
   "execution_count": 188,
   "metadata": {
    "collapsed": false
   },
   "outputs": [
    {
     "data": {
      "text/plain": [
       "\n",
       "\n",
       "|    |        TP|       FP|        FN|       TN| precision|    recall|       TPR|       FPR|\n",
       "|:---|---------:|--------:|---------:|--------:|---------:|---------:|---------:|---------:|\n",
       "|10  |  5.302326| 2.953488| 107.37209| 551.3721| 0.6378378| 0.0553383| 0.0553383| 0.0052881|\n",
       "|20  | 10.837209| 5.023256| 101.83721| 549.3023| 0.6824324| 0.1172239| 0.1172239| 0.0090075|\n",
       "|30  | 16.674419| 6.232558|  96.00000| 548.0930| 0.7216921| 0.1833869| 0.1833869| 0.0112194|\n",
       "|40  | 21.511628| 7.255814|  91.16279| 547.0698| 0.7352084| 0.2317985| 0.2317985| 0.0131552|\n",
       "|50  | 25.604651| 7.906977|  87.06977| 546.4186| 0.7446537| 0.2661681| 0.2661681| 0.0144125|\n",
       "|60  | 29.232558| 8.441861|  83.44186| 545.8837| 0.7497892| 0.2956368| 0.2956368| 0.0154536|\n",
       "|70  | 32.139535| 8.674419|  80.53488| 545.6512| 0.7531112| 0.3170307| 0.3170307| 0.0158933|\n",
       "|80  | 34.372093| 8.860465|  78.30233| 545.4651| 0.7547843| 0.3323530| 0.3323530| 0.0162453|\n",
       "|90  | 36.093023| 8.976744|  76.58140| 545.3488| 0.7564845| 0.3431409| 0.3431409| 0.0164622|\n",
       "|100 | 37.697674| 9.000000|  74.97674| 545.3256| 0.7587668| 0.3529655| 0.3529655| 0.0165110|"
      ]
     },
     "metadata": {},
     "output_type": "display_data"
    }
   ],
   "source": [
    "kable(head(getConfusionMatrix(output)[1]))"
   ]
  },
  {
   "cell_type": "markdown",
   "metadata": {},
   "source": [
    "* What about ROC Curve?\n",
    "\n",
    "This curve used graph that summarizes the performance of a classifier over all possible thresholds."
   ]
  },
  {
   "cell_type": "code",
   "execution_count": 189,
   "metadata": {
    "collapsed": false
   },
   "outputs": [
    {
     "data": {
      "image/png": "[encoded data removed]",
      "text/plain": [
       "Plot with title \"ROC curve\""
      ]
     },
     "metadata": {},
     "output_type": "display_data"
    }
   ],
   "source": [
    "plot(output, annotate = TRUE, main = \"ROC curve\")"
   ]
  },
  {
   "cell_type": "code",
   "execution_count": 190,
   "metadata": {
    "collapsed": false
   },
   "outputs": [
    {
     "data": {
      "image/png": "[encoded data removed]",
      "text/plain": [
       "Plot with title \"Precision-recall\""
      ]
     },
     "metadata": {},
     "output_type": "display_data"
    }
   ],
   "source": [
    "plot(output, \"prec/rec\", annotate = TRUE, main = \"Precision-recall\")"
   ]
  },
  {
   "cell_type": "code",
   "execution_count": null,
   "metadata": {
    "collapsed": true
   },
   "outputs": [],
   "source": []
  },
  {
   "cell_type": "markdown",
   "metadata": {},
   "source": [
    "# PART 2"
   ]
  },
  {
   "cell_type": "code",
   "execution_count": 191,
   "metadata": {
    "collapsed": true
   },
   "outputs": [],
   "source": [
    "rm(list =ls())"
   ]
  },
  {
   "cell_type": "markdown",
   "metadata": {},
   "source": [
    "In this part, we will make use of text files. These files are text from movies reviews  which are either positive or negative reviews."
   ]
  },
  {
   "cell_type": "code",
   "execution_count": 217,
   "metadata": {
    "collapsed": false
   },
   "outputs": [],
   "source": [
    "# Kindly load this libraries.\n",
    "\n",
    "options(warn = -1)\n",
    "suppressMessages(library(tm))\n",
    "suppressMessages(library(tidyr))\n",
    "suppressMessages(library(stringr))\n",
    "suppressMessages(library(dplyr))\n",
    "suppressMessages(library(rpart))\n",
    "suppressMessages(library(SnowballC))\n",
    "suppressMessages(library(knitr))\n",
    "suppressMessages(require(RTextTools))\n",
    "suppressMessages(require(e1071))\n",
    "suppressMessages(library(nnet))\n",
    "suppressMessages(library(wordcloud));"
   ]
  },
  {
   "cell_type": "markdown",
   "metadata": {},
   "source": [
    "Below are links to the text files.\n",
    "\n",
    "* KEYS:\n",
    "\n",
    "\n",
    "+ url2 leads to general movies reviews text.\n",
    "\n",
    "+ url3 leads to first negative reviews text.\n",
    "\n",
    "+ url3_2 leads to second negative reviews text.\n",
    "\n",
    "+ url4 leads to first positive reviews text.\n",
    "\n",
    "+ url4_2 leads to second positive reviews text"
   ]
  },
  {
   "cell_type": "code",
   "execution_count": 193,
   "metadata": {
    "collapsed": true
   },
   "outputs": [],
   "source": [
    "\n",
    "\n",
    "url2 <- \"https://raw.githubusercontent.com/mascotinme/MSDA-620/master/movies_reviews.txt\"\n",
    "\n",
    "url3 <- \"https://raw.githubusercontent.com/mascotinme/MSDA-620/master/negative/cv000_29416.txt\"\n",
    "url3_2 <- \"https://raw.githubusercontent.com/mascotinme/MSDA-620/45bfb087d150d0511c84c055ee98cbdaee3ad030/negative/cv003_12683.txt\"\n",
    "\n",
    "url4 <- \"https://raw.githubusercontent.com/mascotinme/MSDA-620/45bfb087d150d0511c84c055ee98cbdaee3ad030/positive/cv001_18431.txt\"\n",
    "url4_2 <- \"https://raw.githubusercontent.com/mascotinme/MSDA-620/45bfb087d150d0511c84c055ee98cbdaee3ad030/positive/cv002_15918.txt\"\n"
   ]
  },
  {
   "cell_type": "code",
   "execution_count": 194,
   "metadata": {
    "collapsed": false
   },
   "outputs": [
    {
     "data": {
      "text/html": [
       "<ol class=list-inline>\n",
       "\t<li>'Hitcher, The (1986)'</li>\n",
       "\t<li>'reviewed by'</li>\n",
       "\t<li>'Mark R. Leeper'</li>\n",
       "\t<li>''</li>\n",
       "\t<li>'[Editor\\'s note: Sites running 2.10 netnews will munge headers of articles in moderated groups *not* named mod.something. If you get my name instead of Mark Leeper\\'s in the \"From:\" line, please encourage your S.A. and your feed\\'s S.A. to upgrade to 2.11. Thank you. And now, on to our review... -ecl]'</li>\n",
       "\t<li>''</li>\n",
       "</ol>\n"
      ],
      "text/latex": [
       "\\begin{enumerate*}\n",
       "\\item 'Hitcher, The (1986)'\n",
       "\\item 'reviewed by'\n",
       "\\item 'Mark R. Leeper'\n",
       "\\item ''\n",
       "\\item '{[}Editor\\textbackslash{}'s note: Sites running 2.10 netnews will munge headers of articles in moderated groups *not* named mod.something. If you get my name instead of Mark Leeper\\textbackslash{}'s in the \"From:\" line, please encourage your S.A. and your feed\\textbackslash{}'s S.A. to upgrade to 2.11. Thank you. And now, on to our review... -ecl{]}'\n",
       "\\item ''\n",
       "\\end{enumerate*}\n"
      ],
      "text/markdown": [
       "1. 'Hitcher, The (1986)'\n",
       "2. 'reviewed by'\n",
       "3. 'Mark R. Leeper'\n",
       "4. ''\n",
       "5. '[Editor\\'s note: Sites running 2.10 netnews will munge headers of articles in moderated groups *not* named mod.something. If you get my name instead of Mark Leeper\\'s in the \"From:\" line, please encourage your S.A. and your feed\\'s S.A. to upgrade to 2.11. Thank you. And now, on to our review... -ecl]'\n",
       "6. ''\n",
       "\n",
       "\n"
      ],
      "text/plain": [
       "[1] \"Hitcher, The (1986)\"                                                                                                                                                                                                                                                                                          \n",
       "[2] \"reviewed by\"                                                                                                                                                                                                                                                                                                  \n",
       "[3] \"Mark R. Leeper\"                                                                                                                                                                                                                                                                                               \n",
       "[4] \"\"                                                                                                                                                                                                                                                                                                             \n",
       "[5] \"[Editor's note: Sites running 2.10 netnews will munge headers of articles in moderated groups *not* named mod.something. If you get my name instead of Mark Leeper's in the \\\"From:\\\" line, please encourage your S.A. and your feed's S.A. to upgrade to 2.11. Thank you. And now, on to our review... -ecl]\"\n",
       "[6] \"\"                                                                                                                                                                                                                                                                                                             "
      ]
     },
     "metadata": {},
     "output_type": "display_data"
    },
    {
     "name": "stdout",
     "output_type": "stream",
     "text": [
      "[1] \"......................................The above text is head of  rev review........................................\"\n"
     ]
    },
    {
     "data": {
      "text/html": [
       "<ol class=list-inline>\n",
       "\t<li><span style=white-space:pre-wrap>' \" quest for camelot \" is warner bros . \\' first feature-length , fully-animated attempt to steal clout from disney\\'s cartoon empire , but the mouse has no reason to be worried .  plot : two teen couples go to a church party , drink and then drive .   '</span></li>\n",
       "\t<li><span style=white-space:pre-wrap>'the only other recent challenger to their throne was last fall\\'s promising , if flawed , 20th century fox production \" anastasia , \" but disney\\'s \" hercules , \" with its lively cast and colorful palate , had her beat hands-down when it came time to crown 1997\\'s best piece of animation .  they get into an accident .   '</span></li>\n",
       "\t<li><span style=white-space:pre-wrap>'this year , it\\'s no contest , as \" quest for camelot \" is pretty much dead on arrival .  one of the guys dies , but his girlfriend continues to see him in her life , and has nightmares .   '</span></li>\n",
       "\t<li><span style=white-space:pre-wrap>'even the magic kingdom at its most mediocre -- that\\'d be \" pocahontas \" for those of you keeping score -- isn\\'t nearly as dull as this .  what\\'s the deal ?   '</span></li>\n",
       "\t<li><span style=white-space:pre-wrap>'the story revolves around the adventures of free-spirited kayley ( voiced by jessalyn gilsig ) , the early-teen daughter of a belated knight from king arthur\\'s round table .  watch the movie and \" sorta \" find out . . .   '</span></li>\n",
       "\t<li><span style=white-space:pre-wrap>'kayley\\'s only dream is to follow in her father\\'s footsteps , and she gets her chance when evil warlord ruber ( gary oldman ) , an ex-round table member-gone-bad , steals arthur\\'s magical sword excalibur and accidentally loses it in a dangerous , booby-trapped forest .  critique : a mind-fuck movie for the teen generation that touches on a very cool idea , but presents it in a very bad package .   '</span></li>\n",
       "</ol>\n"
      ],
      "text/latex": [
       "\\begin{enumerate*}\n",
       "\\item ' \" quest for camelot \" is warner bros . \\textbackslash{}' first feature-length , fully-animated attempt to steal clout from disney\\textbackslash{}'s cartoon empire , but the mouse has no reason to be worried .  plot : two teen couples go to a church party , drink and then drive .   '\n",
       "\\item 'the only other recent challenger to their throne was last fall\\textbackslash{}'s promising , if flawed , 20th century fox production \" anastasia , \" but disney\\textbackslash{}'s \" hercules , \" with its lively cast and colorful palate , had her beat hands-down when it came time to crown 1997\\textbackslash{}'s best piece of animation .  they get into an accident .   '\n",
       "\\item 'this year , it\\textbackslash{}'s no contest , as \" quest for camelot \" is pretty much dead on arrival .  one of the guys dies , but his girlfriend continues to see him in her life , and has nightmares .   '\n",
       "\\item 'even the magic kingdom at its most mediocre -- that\\textbackslash{}'d be \" pocahontas \" for those of you keeping score -- isn\\textbackslash{}'t nearly as dull as this .  what\\textbackslash{}'s the deal ?   '\n",
       "\\item 'the story revolves around the adventures of free-spirited kayley ( voiced by jessalyn gilsig ) , the early-teen daughter of a belated knight from king arthur\\textbackslash{}'s round table .  watch the movie and \" sorta \" find out . . .   '\n",
       "\\item 'kayley\\textbackslash{}'s only dream is to follow in her father\\textbackslash{}'s footsteps , and she gets her chance when evil warlord ruber ( gary oldman ) , an ex-round table member-gone-bad , steals arthur\\textbackslash{}'s magical sword excalibur and accidentally loses it in a dangerous , booby-trapped forest .  critique : a mind-fuck movie for the teen generation that touches on a very cool idea , but presents it in a very bad package .   '\n",
       "\\end{enumerate*}\n"
      ],
      "text/markdown": [
       "1. <span style=white-space:pre-wrap>' \" quest for camelot \" is warner bros . \\' first feature-length , fully-animated attempt to steal clout from disney\\'s cartoon empire , but the mouse has no reason to be worried .  plot : two teen couples go to a church party , drink and then drive .   '</span>\n",
       "2. <span style=white-space:pre-wrap>'the only other recent challenger to their throne was last fall\\'s promising , if flawed , 20th century fox production \" anastasia , \" but disney\\'s \" hercules , \" with its lively cast and colorful palate , had her beat hands-down when it came time to crown 1997\\'s best piece of animation .  they get into an accident .   '</span>\n",
       "3. <span style=white-space:pre-wrap>'this year , it\\'s no contest , as \" quest for camelot \" is pretty much dead on arrival .  one of the guys dies , but his girlfriend continues to see him in her life , and has nightmares .   '</span>\n",
       "4. <span style=white-space:pre-wrap>'even the magic kingdom at its most mediocre -- that\\'d be \" pocahontas \" for those of you keeping score -- isn\\'t nearly as dull as this .  what\\'s the deal ?   '</span>\n",
       "5. <span style=white-space:pre-wrap>'the story revolves around the adventures of free-spirited kayley ( voiced by jessalyn gilsig ) , the early-teen daughter of a belated knight from king arthur\\'s round table .  watch the movie and \" sorta \" find out . . .   '</span>\n",
       "6. <span style=white-space:pre-wrap>'kayley\\'s only dream is to follow in her father\\'s footsteps , and she gets her chance when evil warlord ruber ( gary oldman ) , an ex-round table member-gone-bad , steals arthur\\'s magical sword excalibur and accidentally loses it in a dangerous , booby-trapped forest .  critique : a mind-fuck movie for the teen generation that touches on a very cool idea , but presents it in a very bad package .   '</span>\n",
       "\n",
       "\n"
      ],
      "text/plain": [
       "[1] \" \\\" quest for camelot \\\" is warner bros . ' first feature-length , fully-animated attempt to steal clout from disney's cartoon empire , but the mouse has no reason to be worried .  plot : two teen couples go to a church party , drink and then drive .   \"                                                                                                                                                   \n",
       "[2] \"the only other recent challenger to their throne was last fall's promising , if flawed , 20th century fox production \\\" anastasia , \\\" but disney's \\\" hercules , \\\" with its lively cast and colorful palate , had her beat hands-down when it came time to crown 1997's best piece of animation .  they get into an accident .   \"                                                                             \n",
       "[3] \"this year , it's no contest , as \\\" quest for camelot \\\" is pretty much dead on arrival .  one of the guys dies , but his girlfriend continues to see him in her life , and has nightmares .   \"                                                                                                                                                                                                                 \n",
       "[4] \"even the magic kingdom at its most mediocre -- that'd be \\\" pocahontas \\\" for those of you keeping score -- isn't nearly as dull as this .  what's the deal ?   \"                                                                                                                                                                                                                                                \n",
       "[5] \"the story revolves around the adventures of free-spirited kayley ( voiced by jessalyn gilsig ) , the early-teen daughter of a belated knight from king arthur's round table .  watch the movie and \\\" sorta \\\" find out . . .   \"                                                                                                                                                                                \n",
       "[6] \"kayley's only dream is to follow in her father's footsteps , and she gets her chance when evil warlord ruber ( gary oldman ) , an ex-round table member-gone-bad , steals arthur's magical sword excalibur and accidentally loses it in a dangerous , booby-trapped forest .  critique : a mind-fuck movie for the teen generation that touches on a very cool idea , but presents it in a very bad package .   \""
      ]
     },
     "metadata": {},
     "output_type": "display_data"
    },
    {
     "name": "stdout",
     "output_type": "stream",
     "text": [
      "[1] \"...................................... The Above text is head of negative review...................................\"\n"
     ]
    },
    {
     "data": {
      "text/html": [
       "'character'"
      ],
      "text/latex": [
       "'character'"
      ],
      "text/markdown": [
       "'character'"
      ],
      "text/plain": [
       "[1] \"character\""
      ]
     },
     "metadata": {},
     "output_type": "display_data"
    },
    {
     "data": {
      "text/html": [
       "<ol class=list-inline>\n",
       "\t<li><span style=white-space:pre-wrap>'you\\'ve got mail works alot better than it deserves to .  every now and then a movie comes along from a suspect studio , with every indication that it will be a stinker , and to everybody\\'s surprise ( perhaps even the studio ) the film becomes a critical darling .   '</span></li>\n",
       "\t<li><span style=white-space:pre-wrap>'in order to make the film a success , all they had to do was cast two extremely popular and attractive stars , have them share the screen for about two hours and then collect the profits .  mtv films\\' _election , a high school comedy starring matthew broderick and reese witherspoon , is a current example .   '</span></li>\n",
       "\t<li><span style=white-space:pre-wrap>'no real acting was involved and there is not an original or inventive bone in it\\'s body ( it\\'s basically a complete re-shoot of the shop around the corner , only adding a few modern twists ) .  did anybody know this film existed a week before it opened ?   '</span></li>\n",
       "\t<li><span style=white-space:pre-wrap>'essentially , it goes against and defies all concepts of good contemporary filmmaking .  the plot is deceptively simple .   '</span></li>\n",
       "\t<li><span style=white-space:pre-wrap>'it\\'s overly sentimental and at times terribly mushy , not to mention very manipulative .  george washington carver high school is having student elections .   '</span></li>\n",
       "\t<li><span style=white-space:pre-wrap>'but oh , how enjoyable that manipulation is .  tracy flick ( reese witherspoon ) is an over-achiever with her hand raised at nearly every question , way , way , high .   '</span></li>\n",
       "</ol>\n"
      ],
      "text/latex": [
       "\\begin{enumerate*}\n",
       "\\item 'you\\textbackslash{}'ve got mail works alot better than it deserves to .  every now and then a movie comes along from a suspect studio , with every indication that it will be a stinker , and to everybody\\textbackslash{}'s surprise ( perhaps even the studio ) the film becomes a critical darling .   '\n",
       "\\item 'in order to make the film a success , all they had to do was cast two extremely popular and attractive stars , have them share the screen for about two hours and then collect the profits .  mtv films\\textbackslash{}' \\_election , a high school comedy starring matthew broderick and reese witherspoon , is a current example .   '\n",
       "\\item 'no real acting was involved and there is not an original or inventive bone in it\\textbackslash{}'s body ( it\\textbackslash{}'s basically a complete re-shoot of the shop around the corner , only adding a few modern twists ) .  did anybody know this film existed a week before it opened ?   '\n",
       "\\item 'essentially , it goes against and defies all concepts of good contemporary filmmaking .  the plot is deceptively simple .   '\n",
       "\\item 'it\\textbackslash{}'s overly sentimental and at times terribly mushy , not to mention very manipulative .  george washington carver high school is having student elections .   '\n",
       "\\item 'but oh , how enjoyable that manipulation is .  tracy flick ( reese witherspoon ) is an over-achiever with her hand raised at nearly every question , way , way , high .   '\n",
       "\\end{enumerate*}\n"
      ],
      "text/markdown": [
       "1. <span style=white-space:pre-wrap>'you\\'ve got mail works alot better than it deserves to .  every now and then a movie comes along from a suspect studio , with every indication that it will be a stinker , and to everybody\\'s surprise ( perhaps even the studio ) the film becomes a critical darling .   '</span>\n",
       "2. <span style=white-space:pre-wrap>'in order to make the film a success , all they had to do was cast two extremely popular and attractive stars , have them share the screen for about two hours and then collect the profits .  mtv films\\' _election , a high school comedy starring matthew broderick and reese witherspoon , is a current example .   '</span>\n",
       "3. <span style=white-space:pre-wrap>'no real acting was involved and there is not an original or inventive bone in it\\'s body ( it\\'s basically a complete re-shoot of the shop around the corner , only adding a few modern twists ) .  did anybody know this film existed a week before it opened ?   '</span>\n",
       "4. <span style=white-space:pre-wrap>'essentially , it goes against and defies all concepts of good contemporary filmmaking .  the plot is deceptively simple .   '</span>\n",
       "5. <span style=white-space:pre-wrap>'it\\'s overly sentimental and at times terribly mushy , not to mention very manipulative .  george washington carver high school is having student elections .   '</span>\n",
       "6. <span style=white-space:pre-wrap>'but oh , how enjoyable that manipulation is .  tracy flick ( reese witherspoon ) is an over-achiever with her hand raised at nearly every question , way , way , high .   '</span>\n",
       "\n",
       "\n"
      ],
      "text/plain": [
       "[1] \"you've got mail works alot better than it deserves to .  every now and then a movie comes along from a suspect studio , with every indication that it will be a stinker , and to everybody's surprise ( perhaps even the studio ) the film becomes a critical darling .   \"                                            \n",
       "[2] \"in order to make the film a success , all they had to do was cast two extremely popular and attractive stars , have them share the screen for about two hours and then collect the profits .  mtv films' _election , a high school comedy starring matthew broderick and reese witherspoon , is a current example .   \"\n",
       "[3] \"no real acting was involved and there is not an original or inventive bone in it's body ( it's basically a complete re-shoot of the shop around the corner , only adding a few modern twists ) .  did anybody know this film existed a week before it opened ?   \"                                                     \n",
       "[4] \"essentially , it goes against and defies all concepts of good contemporary filmmaking .  the plot is deceptively simple .   \"                                                                                                                                                                                          \n",
       "[5] \"it's overly sentimental and at times terribly mushy , not to mention very manipulative .  george washington carver high school is having student elections .   \"                                                                                                                                                       \n",
       "[6] \"but oh , how enjoyable that manipulation is .  tracy flick ( reese witherspoon ) is an over-achiever with her hand raised at nearly every question , way , way , high .   \"                                                                                                                                            "
      ]
     },
     "metadata": {},
     "output_type": "display_data"
    },
    {
     "name": "stdout",
     "output_type": "stream",
     "text": [
      "[1] \"...................................... The Above text is head of Positive review...................................\"\n"
     ]
    }
   ],
   "source": [
    "# Load files into R environment.\n",
    "\n",
    "rev <- readLines(url2)\n",
    "\n",
    "neg <- readLines(url3)\n",
    "neg_2 <- readLines(url3_2)\n",
    "\n",
    "pos <- readLines(url4)\n",
    "pos_2 <- readLines(url4_2)#Load the text file and obtain the head and class\n",
    "\n",
    "head(rev)\n",
    "print(\"......................................The above text is head of  rev review........................................\")\n",
    "\n",
    "neg <- paste(neg_2, neg, colapse =\" \")\n",
    "head(neg)\n",
    "print(\"...................................... The Above text is head of negative review...................................\")\n",
    "class(neg)\n",
    "\n",
    "\n",
    "pos <- paste(pos_2, pos, colapse =\" \")\n",
    "head(pos)\n",
    "print(\"...................................... The Above text is head of Positive review...................................\")\n",
    "\n"
   ]
  },
  {
   "cell_type": "markdown",
   "metadata": {},
   "source": [
    "# DATA CLEANING\n",
    "\n",
    "Here, we will remove all the unwanted characters/alphabets in all the texts."
   ]
  },
  {
   "cell_type": "code",
   "execution_count": 195,
   "metadata": {
    "collapsed": true
   },
   "outputs": [],
   "source": [
    "# Negative text file\n",
    "\n",
    "neg = gsub(\"[[:punct:]]\", \"\", neg)\n",
    "neg = gsub(\"[[:digit:]]\", \"\", neg)\n",
    "neg = gsub(\"ï\", \"\", neg)\n",
    "neg = gsub(\"[ \\t]{2,}\", \"\", neg)\n",
    "neg = gsub(\"\\tby\", \"\", neg)\n",
    "neg = gsub(\"\\tfor\", \"\", neg)\n",
    "neg = gsub(\"zzzz\", \"\", neg)\n",
    "neg = gsub(\"[[,:digit:]]\", \"\", neg)\n"
   ]
  },
  {
   "cell_type": "code",
   "execution_count": 196,
   "metadata": {
    "collapsed": true
   },
   "outputs": [],
   "source": [
    "# Positive text file\n",
    "\n",
    "pos = gsub(\"[[:punct:]]\", \"\", pos)\n",
    "pos = gsub(\"[[:digit:]]\", \"\", pos)\n",
    "pos = gsub(\"ï\", \"\", pos)\n",
    "pos = gsub(\"[ \\t]{2,}\", \"\", pos)\n",
    "pos = gsub(\"\\tby\", \"\", pos)\n",
    "pos = gsub(\"\\tfor\", \"\", pos)\n",
    "pos = gsub(\"zzzz\", \"\", pos)\n",
    "pos = gsub(\"[[,:digit:]]\", \"\", pos)\n"
   ]
  },
  {
   "cell_type": "code",
   "execution_count": 197,
   "metadata": {
    "collapsed": true
   },
   "outputs": [],
   "source": [
    "# General reviews text file\n",
    "\n",
    "rev = gsub(\"[[:punct:]]\", \"\", rev)\n",
    "rev = gsub(\"[[:digit:]]\", \"\", rev)\n",
    "#rev = gsub(\"ï\", \"\", rev)\n",
    "rev = gsub(\"[ \\t]{2,}\", \"\", rev)\n",
    "rev = gsub(\"\\tby\", \"\", rev)\n",
    "rev = gsub(\"\\tfor\", \"\", rev)\n",
    "rev = gsub(\"zzzz\", \"\", rev)\n",
    "rev = gsub(\"[[,:digit:]]\", \"\", rev)\n"
   ]
  },
  {
   "cell_type": "markdown",
   "metadata": {},
   "source": [
    "Conversion of all the text files into Corpus."
   ]
  },
  {
   "cell_type": "code",
   "execution_count": 198,
   "metadata": {
    "collapsed": true
   },
   "outputs": [],
   "source": [
    "neg_corpus = Corpus(VectorSource(neg)) "
   ]
  },
  {
   "cell_type": "code",
   "execution_count": 199,
   "metadata": {
    "collapsed": true
   },
   "outputs": [],
   "source": [
    "pos_corpus = Corpus(VectorSource(pos))"
   ]
  },
  {
   "cell_type": "code",
   "execution_count": 200,
   "metadata": {
    "collapsed": true
   },
   "outputs": [],
   "source": [
    "rev_corpus = Corpus(VectorSource(rev))"
   ]
  },
  {
   "cell_type": "markdown",
   "metadata": {},
   "source": [
    "* Negative Corpus cleaning."
   ]
  },
  {
   "cell_type": "code",
   "execution_count": 201,
   "metadata": {
    "collapsed": false
   },
   "outputs": [
    {
     "name": "stdout",
     "output_type": "stream",
     "text": [
      "<<SimpleCorpus>>\n",
      "Metadata:  corpus specific: 1, document level (indexed): 0\n",
      "Content:  documents: 1\n",
      "\n",
      "[1] quest camelotis warner brosfirst featurelengthfullyanimated attempt steal clout disneys cartoon empirebut mouse reason worriedplottwo teen couples go church partydrink drive\n"
     ]
    }
   ],
   "source": [
    "neg_corpus = tm_map(neg_corpus, content_transformer(tolower)) # To lower case\n",
    "neg_corpus = tm_map(neg_corpus, removeNumbers) # Numeric removal\n",
    "neg_corpus = tm_map(neg_corpus, removePunctuation) # removing punctuations\n",
    "neg_corpus = tm_map(neg_corpus, removeWords, c(\"the\", \"and\", stopwords(\"english\"))) # Removing some conjuctions\n",
    "neg_corpus = tm_map(neg_corpus, stripWhitespace) # Removing white space\n",
    "\n",
    "inspect(neg_corpus[1]) # Inspection"
   ]
  },
  {
   "cell_type": "markdown",
   "metadata": {},
   "source": [
    "* Posittive Corpus cleaning."
   ]
  },
  {
   "cell_type": "code",
   "execution_count": 202,
   "metadata": {
    "collapsed": false
   },
   "outputs": [
    {
     "name": "stdout",
     "output_type": "stream",
     "text": [
      "<<SimpleCorpus>>\n",
      "Metadata:  corpus specific: 1, document level (indexed): 0\n",
      "Content:  documents: 1\n",
      "\n",
      "[1] youve got mail works alot better deserves toevery now movie comes along suspect studiowith every indication will stinkerand everybodys surpriseperhaps even studiothe film becomes critical darling\n"
     ]
    }
   ],
   "source": [
    "pos_corpus = tm_map(pos_corpus, content_transformer(tolower))\n",
    "pos_corpus = tm_map(pos_corpus, removeNumbers)\n",
    "pos_corpus = tm_map(pos_corpus, removePunctuation)\n",
    "pos_corpus = tm_map(pos_corpus, removeWords, c(\"the\", \"and\", stopwords(\"english\")))\n",
    "pos_corpus = tm_map(pos_corpus, stripWhitespace)\n",
    "\n",
    "inspect(pos_corpus[1])"
   ]
  },
  {
   "cell_type": "markdown",
   "metadata": {},
   "source": [
    "* General reviews Corpus cleaning."
   ]
  },
  {
   "cell_type": "code",
   "execution_count": 203,
   "metadata": {
    "collapsed": true
   },
   "outputs": [],
   "source": [
    "rev_corpus = tm_map(rev_corpus, content_transformer(tolower))\n",
    "rev_corpus = tm_map(rev_corpus, removeNumbers)\n",
    "rev_corpus = tm_map(rev_corpus, removePunctuation)\n",
    "rev_corpus = tm_map(rev_corpus, removeWords, c(\"the\", \"and\", stopwords(\"english\")))\n",
    "rev_corpus = tm_map(rev_corpus, stripWhitespace)"
   ]
  },
  {
   "cell_type": "markdown",
   "metadata": {},
   "source": [
    "The next step is the conversion to Document Term Matrix and to also remove the Sparse Terms.\n",
    "\n",
    "* NB: This will be done to the remaining files too."
   ]
  },
  {
   "cell_type": "code",
   "execution_count": 204,
   "metadata": {
    "collapsed": false
   },
   "outputs": [
    {
     "data": {
      "text/plain": [
       "<<DocumentTermMatrix (documents: 35, terms: 483)>>\n",
       "Non-/sparse entries: 763/16142\n",
       "Sparsity           : 95%\n",
       "Maximal term length: 26\n",
       "Weighting          : term frequency (tf)"
      ]
     },
     "metadata": {},
     "output_type": "display_data"
    }
   ],
   "source": [
    "neg_dtm <- DocumentTermMatrix(neg_corpus) # Converting to Matrix Document\n",
    "neg_dtm"
   ]
  },
  {
   "cell_type": "code",
   "execution_count": 205,
   "metadata": {
    "collapsed": false
   },
   "outputs": [
    {
     "data": {
      "text/plain": [
       "<<DocumentTermMatrix (documents: 35, terms: 483)>>\n",
       "Non-/sparse entries: 763/16142\n",
       "Sparsity           : 95%\n",
       "Maximal term length: 26\n",
       "Weighting          : term frequency (tf)"
      ]
     },
     "metadata": {},
     "output_type": "display_data"
    }
   ],
   "source": [
    "neg_dtm = removeSparseTerms(neg_dtm, 0.99)\n",
    "neg_dtm"
   ]
  },
  {
   "cell_type": "markdown",
   "metadata": {},
   "source": [
    "* We can then inspects them!"
   ]
  },
  {
   "cell_type": "code",
   "execution_count": 206,
   "metadata": {
    "collapsed": false
   },
   "outputs": [
    {
     "name": "stdout",
     "output_type": "stream",
     "text": [
      "<<DocumentTermMatrix (documents: 35, terms: 483)>>\n",
      "Non-/sparse entries: 763/16142\n",
      "Sparsity           : 95%\n",
      "Maximal term length: 26\n",
      "Weighting          : term frequency (tf)\n",
      "Sample             :\n",
      "    Terms\n",
      "Docs arthurs camelotis even film just movie much one pretty see\n",
      "  12       0         0    1    1    0     0    1   1      0   1\n",
      "  17       0         0    0    1    0     0    1   1      0   0\n",
      "  18       0         0    0    0    0     0    0   0      0   0\n",
      "  21       0         0    0    0    0     0    0   0      0   0\n",
      "  25       1         0    0    0    0     1    0   0      1   0\n",
      "  26       1         0    0    0    2     0    0   0      1   0\n",
      "  28       0         0    0    1    0     0    0   0      2   1\n",
      "  35       0         0    0    0    0     0    0   0      0   0\n",
      "  6        1         0    0    0    0     1    0   0      0   0\n",
      "  7        1         0    1    0    2     0    0   2      0   0\n"
     ]
    }
   ],
   "source": [
    "inspect(neg_dtm[, ])"
   ]
  },
  {
   "cell_type": "markdown",
   "metadata": {},
   "source": [
    "Here, we will obtain the frequencies of term(s) that come often."
   ]
  },
  {
   "cell_type": "code",
   "execution_count": 207,
   "metadata": {
    "collapsed": false
   },
   "outputs": [
    {
     "data": {
      "text/html": [
       "<ol class=list-inline>\n",
       "\t<li>'attempt'</li>\n",
       "\t<li>'brosfirst'</li>\n",
       "\t<li>'camelotis'</li>\n",
       "\t<li>'animationthey'</li>\n",
       "\t<li>'beat'</li>\n",
       "\t<li>'promisingif'</li>\n",
       "\t<li>'recent'</li>\n",
       "\t<li>'even'</li>\n",
       "\t<li>'keeping'</li>\n",
       "\t<li>'knight'</li>\n",
       "\t<li>'movie'</li>\n",
       "\t<li>'gets'</li>\n",
       "\t<li>'correctly'</li>\n",
       "\t<li>'didnt'</li>\n",
       "\t<li>'makes'</li>\n",
       "\t<li>'climb'</li>\n",
       "\t<li>'differentiatesquestfrom'</li>\n",
       "\t<li>'main'</li>\n",
       "\t<li>'ogre'</li>\n",
       "\t<li>'can'</li>\n",
       "\t<li>'characters'</li>\n",
       "\t<li>'stinknone'</li>\n",
       "\t<li>'unravel'</li>\n",
       "\t<li>'shows'</li>\n",
       "\t<li>'shtick'</li>\n",
       "\t<li>'actors'</li>\n",
       "\t<li>'celine'</li>\n",
       "\t<li>'thing'</li>\n",
       "\t<li>'voice'</li>\n",
       "\t<li>'strain'</li>\n",
       "\t<li>'strangeness'</li>\n",
       "\t<li>'password'</li>\n",
       "\t<li>'visions'</li>\n",
       "\t<li>'took'</li>\n",
       "\t<li>'playing'</li>\n",
       "\t<li>'footageoverallthe'</li>\n",
       "\t<li>'also'</li>\n",
       "\t<li>'othersstir'</li>\n",
       "</ol>\n"
      ],
      "text/latex": [
       "\\begin{enumerate*}\n",
       "\\item 'attempt'\n",
       "\\item 'brosfirst'\n",
       "\\item 'camelotis'\n",
       "\\item 'animationthey'\n",
       "\\item 'beat'\n",
       "\\item 'promisingif'\n",
       "\\item 'recent'\n",
       "\\item 'even'\n",
       "\\item 'keeping'\n",
       "\\item 'knight'\n",
       "\\item 'movie'\n",
       "\\item 'gets'\n",
       "\\item 'correctly'\n",
       "\\item 'didnt'\n",
       "\\item 'makes'\n",
       "\\item 'climb'\n",
       "\\item 'differentiatesquestfrom'\n",
       "\\item 'main'\n",
       "\\item 'ogre'\n",
       "\\item 'can'\n",
       "\\item 'characters'\n",
       "\\item 'stinknone'\n",
       "\\item 'unravel'\n",
       "\\item 'shows'\n",
       "\\item 'shtick'\n",
       "\\item 'actors'\n",
       "\\item 'celine'\n",
       "\\item 'thing'\n",
       "\\item 'voice'\n",
       "\\item 'strain'\n",
       "\\item 'strangeness'\n",
       "\\item 'password'\n",
       "\\item 'visions'\n",
       "\\item 'took'\n",
       "\\item 'playing'\n",
       "\\item 'footageoverallthe'\n",
       "\\item 'also'\n",
       "\\item 'othersstir'\n",
       "\\end{enumerate*}\n"
      ],
      "text/markdown": [
       "1. 'attempt'\n",
       "2. 'brosfirst'\n",
       "3. 'camelotis'\n",
       "4. 'animationthey'\n",
       "5. 'beat'\n",
       "6. 'promisingif'\n",
       "7. 'recent'\n",
       "8. 'even'\n",
       "9. 'keeping'\n",
       "10. 'knight'\n",
       "11. 'movie'\n",
       "12. 'gets'\n",
       "13. 'correctly'\n",
       "14. 'didnt'\n",
       "15. 'makes'\n",
       "16. 'climb'\n",
       "17. 'differentiatesquestfrom'\n",
       "18. 'main'\n",
       "19. 'ogre'\n",
       "20. 'can'\n",
       "21. 'characters'\n",
       "22. 'stinknone'\n",
       "23. 'unravel'\n",
       "24. 'shows'\n",
       "25. 'shtick'\n",
       "26. 'actors'\n",
       "27. 'celine'\n",
       "28. 'thing'\n",
       "29. 'voice'\n",
       "30. 'strain'\n",
       "31. 'strangeness'\n",
       "32. 'password'\n",
       "33. 'visions'\n",
       "34. 'took'\n",
       "35. 'playing'\n",
       "36. 'footageoverallthe'\n",
       "37. 'also'\n",
       "38. 'othersstir'\n",
       "\n",
       "\n"
      ],
      "text/plain": [
       " [1] \"attempt\"                 \"brosfirst\"              \n",
       " [3] \"camelotis\"               \"animationthey\"          \n",
       " [5] \"beat\"                    \"promisingif\"            \n",
       " [7] \"recent\"                  \"even\"                   \n",
       " [9] \"keeping\"                 \"knight\"                 \n",
       "[11] \"movie\"                   \"gets\"                   \n",
       "[13] \"correctly\"               \"didnt\"                  \n",
       "[15] \"makes\"                   \"climb\"                  \n",
       "[17] \"differentiatesquestfrom\" \"main\"                   \n",
       "[19] \"ogre\"                    \"can\"                    \n",
       "[21] \"characters\"              \"stinknone\"              \n",
       "[23] \"unravel\"                 \"shows\"                  \n",
       "[25] \"shtick\"                  \"actors\"                 \n",
       "[27] \"celine\"                  \"thing\"                  \n",
       "[29] \"voice\"                   \"strain\"                 \n",
       "[31] \"strangeness\"             \"password\"               \n",
       "[33] \"visions\"                 \"took\"                   \n",
       "[35] \"playing\"                 \"footageoverallthe\"      \n",
       "[37] \"also\"                    \"othersstir\"             "
      ]
     },
     "metadata": {},
     "output_type": "display_data"
    }
   ],
   "source": [
    "findFreqTerms(neg_dtm, 1:20)"
   ]
  },
  {
   "cell_type": "markdown",
   "metadata": {},
   "source": [
    "A word cloud of the words. Isn't it beautiful?"
   ]
  },
  {
   "cell_type": "code",
   "execution_count": 208,
   "metadata": {
    "collapsed": false
   },
   "outputs": [
    {
     "data": {
      "image/png": "[encoded data removed]",
      "text/plain": [
       "plot without title"
      ]
     },
     "metadata": {},
     "output_type": "display_data"
    }
   ],
   "source": [
    "neg_freq = data.frame(sort(colSums(as.matrix(neg_dtm)), decreasing=TRUE))\n",
    "wordcloud(rownames(neg_freq), neg_freq[,], max.words=1000, colors=brewer.pal(1, \"Set1\"))"
   ]
  },
  {
   "cell_type": "markdown",
   "metadata": {},
   "source": [
    "We are going to do what we did to negative reviews to positive reviews too."
   ]
  },
  {
   "cell_type": "code",
   "execution_count": 209,
   "metadata": {
    "collapsed": false
   },
   "outputs": [
    {
     "data": {
      "text/plain": [
       "<<DocumentTermMatrix (documents: 39, terms: 455)>>\n",
       "Non-/sparse entries: 745/17000\n",
       "Sparsity           : 96%\n",
       "Maximal term length: 23\n",
       "Weighting          : term frequency (tf)"
      ]
     },
     "metadata": {},
     "output_type": "display_data"
    }
   ],
   "source": [
    "pos_dtm <- DocumentTermMatrix(pos_corpus) # Converting to Matrix Document\n",
    "pos_dtm"
   ]
  },
  {
   "cell_type": "code",
   "execution_count": 210,
   "metadata": {
    "collapsed": false
   },
   "outputs": [
    {
     "data": {
      "text/plain": [
       "<<DocumentTermMatrix (documents: 39, terms: 455)>>\n",
       "Non-/sparse entries: 745/17000\n",
       "Sparsity           : 96%\n",
       "Maximal term length: 23\n",
       "Weighting          : term frequency (tf)"
      ]
     },
     "metadata": {},
     "output_type": "display_data"
    }
   ],
   "source": [
    "pos_dtm = removeSparseTerms(pos_dtm, 0.98)\n",
    "pos_dtm"
   ]
  },
  {
   "cell_type": "code",
   "execution_count": 211,
   "metadata": {
    "collapsed": false
   },
   "outputs": [
    {
     "name": "stdout",
     "output_type": "stream",
     "text": [
      "<<DocumentTermMatrix (documents: 39, terms: 455)>>\n",
      "Non-/sparse entries: 745/17000\n",
      "Sparsity           : 96%\n",
      "Maximal term length: 23\n",
      "Weighting          : term frequency (tf)\n",
      "Sample             :\n",
      "    Terms\n",
      "Docs better deserves even film got movie school shop two youve\n",
      "  1       1        1    1    1   1     1      0    0   0     1\n",
      "  12      0        0    1    0   0     0      0    2   0     0\n",
      "  18      0        0    0    0   0     1      0    0   0     0\n",
      "  19      1        0    0    0   0     0      0    0   0     0\n",
      "  2       0        0    0    1   0     0      1    0   2     0\n",
      "  22      0        0    0    0   0     0      0    1   0     0\n",
      "  26      0        0    1    0   0     1      1    0   1     0\n",
      "  31      0        0    1    0   0     0      0    2   0     0\n",
      "  37      0        0    0    0   0     1      0    0   0     0\n",
      "  9       0        0    1    0   1     0      0    0   0     1\n"
     ]
    },
    {
     "data": {
      "text/html": [
       "<ol class=list-inline>\n",
       "\t<li>'along'</li>\n",
       "\t<li>'alot'</li>\n",
       "\t<li>'better'</li>\n",
       "\t<li>'surpriseperhaps'</li>\n",
       "\t<li>'order'</li>\n",
       "\t<li>'popular'</li>\n",
       "\t<li>'school'</li>\n",
       "\t<li>'corneronly'</li>\n",
       "\t<li>'involved'</li>\n",
       "\t<li>'good'</li>\n",
       "\t<li>'plot'</li>\n",
       "\t<li>'ohhow'</li>\n",
       "\t<li>'studentencourages'</li>\n",
       "\t<li>'teamingsleepless'</li>\n",
       "\t<li>'fact'</li>\n",
       "\t<li>'figured'</li>\n",
       "\t<li>'thatbecause'</li>\n",
       "\t<li>'yet'</li>\n",
       "\t<li>'live'</li>\n",
       "\t<li>'storyline'</li>\n",
       "\t<li>'book'</li>\n",
       "\t<li>'kathleen'</li>\n",
       "\t<li>'kelleythe'</li>\n",
       "\t<li>'likeable'</li>\n",
       "\t<li>'fox'</li>\n",
       "\t<li>'kelley'</li>\n",
       "\t<li>'neither'</li>\n",
       "\t<li>'number'</li>\n",
       "\t<li>'interesting'</li>\n",
       "\t<li>'main'</li>\n",
       "\t<li>'doubt'</li>\n",
       "\t<li>'drive'</li>\n",
       "\t<li>'first'</li>\n",
       "\t<li>'life'</li>\n",
       "\t<li>'male'</li>\n",
       "\t<li>'formed'</li>\n",
       "\t<li>'jessica'</li>\n",
       "\t<li>'revelation'</li>\n",
       "\t<li>'ive'</li>\n",
       "\t<li>'climaxas'</li>\n",
       "\t<li>'affair'</li>\n",
       "</ol>\n"
      ],
      "text/latex": [
       "\\begin{enumerate*}\n",
       "\\item 'along'\n",
       "\\item 'alot'\n",
       "\\item 'better'\n",
       "\\item 'surpriseperhaps'\n",
       "\\item 'order'\n",
       "\\item 'popular'\n",
       "\\item 'school'\n",
       "\\item 'corneronly'\n",
       "\\item 'involved'\n",
       "\\item 'good'\n",
       "\\item 'plot'\n",
       "\\item 'ohhow'\n",
       "\\item 'studentencourages'\n",
       "\\item 'teamingsleepless'\n",
       "\\item 'fact'\n",
       "\\item 'figured'\n",
       "\\item 'thatbecause'\n",
       "\\item 'yet'\n",
       "\\item 'live'\n",
       "\\item 'storyline'\n",
       "\\item 'book'\n",
       "\\item 'kathleen'\n",
       "\\item 'kelleythe'\n",
       "\\item 'likeable'\n",
       "\\item 'fox'\n",
       "\\item 'kelley'\n",
       "\\item 'neither'\n",
       "\\item 'number'\n",
       "\\item 'interesting'\n",
       "\\item 'main'\n",
       "\\item 'doubt'\n",
       "\\item 'drive'\n",
       "\\item 'first'\n",
       "\\item 'life'\n",
       "\\item 'male'\n",
       "\\item 'formed'\n",
       "\\item 'jessica'\n",
       "\\item 'revelation'\n",
       "\\item 'ive'\n",
       "\\item 'climaxas'\n",
       "\\item 'affair'\n",
       "\\end{enumerate*}\n"
      ],
      "text/markdown": [
       "1. 'along'\n",
       "2. 'alot'\n",
       "3. 'better'\n",
       "4. 'surpriseperhaps'\n",
       "5. 'order'\n",
       "6. 'popular'\n",
       "7. 'school'\n",
       "8. 'corneronly'\n",
       "9. 'involved'\n",
       "10. 'good'\n",
       "11. 'plot'\n",
       "12. 'ohhow'\n",
       "13. 'studentencourages'\n",
       "14. 'teamingsleepless'\n",
       "15. 'fact'\n",
       "16. 'figured'\n",
       "17. 'thatbecause'\n",
       "18. 'yet'\n",
       "19. 'live'\n",
       "20. 'storyline'\n",
       "21. 'book'\n",
       "22. 'kathleen'\n",
       "23. 'kelleythe'\n",
       "24. 'likeable'\n",
       "25. 'fox'\n",
       "26. 'kelley'\n",
       "27. 'neither'\n",
       "28. 'number'\n",
       "29. 'interesting'\n",
       "30. 'main'\n",
       "31. 'doubt'\n",
       "32. 'drive'\n",
       "33. 'first'\n",
       "34. 'life'\n",
       "35. 'male'\n",
       "36. 'formed'\n",
       "37. 'jessica'\n",
       "38. 'revelation'\n",
       "39. 'ive'\n",
       "40. 'climaxas'\n",
       "41. 'affair'\n",
       "\n",
       "\n"
      ],
      "text/plain": [
       " [1] \"along\"             \"alot\"              \"better\"           \n",
       " [4] \"surpriseperhaps\"   \"order\"             \"popular\"          \n",
       " [7] \"school\"            \"corneronly\"        \"involved\"         \n",
       "[10] \"good\"              \"plot\"              \"ohhow\"            \n",
       "[13] \"studentencourages\" \"teamingsleepless\"  \"fact\"             \n",
       "[16] \"figured\"           \"thatbecause\"       \"yet\"              \n",
       "[19] \"live\"              \"storyline\"         \"book\"             \n",
       "[22] \"kathleen\"          \"kelleythe\"         \"likeable\"         \n",
       "[25] \"fox\"               \"kelley\"            \"neither\"          \n",
       "[28] \"number\"            \"interesting\"       \"main\"             \n",
       "[31] \"doubt\"             \"drive\"             \"first\"            \n",
       "[34] \"life\"              \"male\"              \"formed\"           \n",
       "[37] \"jessica\"           \"revelation\"        \"ive\"              \n",
       "[40] \"climaxas\"          \"affair\"           "
      ]
     },
     "metadata": {},
     "output_type": "display_data"
    }
   ],
   "source": [
    "inspect(pos_dtm[, ])\n",
    "findFreqTerms(pos_dtm, 1:20)"
   ]
  },
  {
   "cell_type": "markdown",
   "metadata": {},
   "source": [
    "* Positive Reviews Word Clouds!"
   ]
  },
  {
   "cell_type": "code",
   "execution_count": 212,
   "metadata": {
    "collapsed": false
   },
   "outputs": [
    {
     "data": {
      "image/png": "[encoded data removed]",
      "text/plain": [
       "plot without title"
      ]
     },
     "metadata": {},
     "output_type": "display_data"
    }
   ],
   "source": [
    "pos_freq = data.frame(sort(colSums(as.matrix(pos_dtm)), decreasing=TRUE))\n",
    "wordcloud(rownames(pos_freq), pos_freq[,], max.words=1000, colors=brewer.pal(1, \"Set1\"))"
   ]
  },
  {
   "cell_type": "markdown",
   "metadata": {},
   "source": [
    "Samething would be done to reviews."
   ]
  },
  {
   "cell_type": "code",
   "execution_count": 213,
   "metadata": {
    "collapsed": false
   },
   "outputs": [
    {
     "data": {
      "text/plain": [
       "<<DocumentTermMatrix (documents: 172, terms: 950)>>\n",
       "Non-/sparse entries: 1634/161766\n",
       "Sparsity           : 99%\n",
       "Maximal term length: 45\n",
       "Weighting          : term frequency - inverse document frequency (normalized) (tf-idf)"
      ]
     },
     "metadata": {},
     "output_type": "display_data"
    }
   ],
   "source": [
    "rev_dtm <- DocumentTermMatrix(rev_corpus, list(weighting = weightTfIdf)) # Converting to Matrix Document\n",
    "rev_dtm"
   ]
  },
  {
   "cell_type": "code",
   "execution_count": 214,
   "metadata": {
    "collapsed": false
   },
   "outputs": [
    {
     "data": {
      "text/plain": [
       "<<DocumentTermMatrix (documents: 172, terms: 950)>>\n",
       "Non-/sparse entries: 1634/161766\n",
       "Sparsity           : 99%\n",
       "Maximal term length: 45\n",
       "Weighting          : term frequency - inverse document frequency (normalized) (tf-idf)"
      ]
     },
     "metadata": {},
     "output_type": "display_data"
    }
   ],
   "source": [
    "rev_dtm = removeSparseTerms(rev_dtm, 0.9999)\n",
    "rev_dtm"
   ]
  },
  {
   "cell_type": "code",
   "execution_count": 215,
   "metadata": {
    "collapsed": false
   },
   "outputs": [
    {
     "data": {
      "text/html": [
       "<ol class=list-inline>\n",
       "\t<li>'hitcher'</li>\n",
       "\t<li>'reviewed'</li>\n",
       "\t<li>'leeper'</li>\n",
       "\t<li>'mark'</li>\n",
       "\t<li>'note'</li>\n",
       "\t<li>'review'</li>\n",
       "\t<li>'psychotic'</li>\n",
       "\t<li>'mine'</li>\n",
       "\t<li>'bladerunner'</li>\n",
       "\t<li>'everything'</li>\n",
       "\t<li>'bystander'</li>\n",
       "\t<li>'ihnpmtgzzleeper'</li>\n",
       "\t<li>'mtgzzleeperrutgersrutgersedu'</li>\n",
       "\t<li>'movie'</li>\n",
       "\t<li>'internetmoriartyflukecom'</li>\n",
       "\t<li>'harry'</li>\n",
       "\t<li>'cut'</li>\n",
       "</ol>\n"
      ],
      "text/latex": [
       "\\begin{enumerate*}\n",
       "\\item 'hitcher'\n",
       "\\item 'reviewed'\n",
       "\\item 'leeper'\n",
       "\\item 'mark'\n",
       "\\item 'note'\n",
       "\\item 'review'\n",
       "\\item 'psychotic'\n",
       "\\item 'mine'\n",
       "\\item 'bladerunner'\n",
       "\\item 'everything'\n",
       "\\item 'bystander'\n",
       "\\item 'ihnpmtgzzleeper'\n",
       "\\item 'mtgzzleeperrutgersrutgersedu'\n",
       "\\item 'movie'\n",
       "\\item 'internetmoriartyflukecom'\n",
       "\\item 'harry'\n",
       "\\item 'cut'\n",
       "\\end{enumerate*}\n"
      ],
      "text/markdown": [
       "1. 'hitcher'\n",
       "2. 'reviewed'\n",
       "3. 'leeper'\n",
       "4. 'mark'\n",
       "5. 'note'\n",
       "6. 'review'\n",
       "7. 'psychotic'\n",
       "8. 'mine'\n",
       "9. 'bladerunner'\n",
       "10. 'everything'\n",
       "11. 'bystander'\n",
       "12. 'ihnpmtgzzleeper'\n",
       "13. 'mtgzzleeperrutgersrutgersedu'\n",
       "14. 'movie'\n",
       "15. 'internetmoriartyflukecom'\n",
       "16. 'harry'\n",
       "17. 'cut'\n",
       "\n",
       "\n"
      ],
      "text/plain": [
       " [1] \"hitcher\"                      \"reviewed\"                    \n",
       " [3] \"leeper\"                       \"mark\"                        \n",
       " [5] \"note\"                         \"review\"                      \n",
       " [7] \"psychotic\"                    \"mine\"                        \n",
       " [9] \"bladerunner\"                  \"everything\"                  \n",
       "[11] \"bystander\"                    \"ihnpmtgzzleeper\"             \n",
       "[13] \"mtgzzleeperrutgersrutgersedu\" \"movie\"                       \n",
       "[15] \"internetmoriartyflukecom\"     \"harry\"                       \n",
       "[17] \"cut\"                         "
      ]
     },
     "metadata": {},
     "output_type": "display_data"
    }
   ],
   "source": [
    "findFreqTerms(rev_dtm, 1:20)"
   ]
  },
  {
   "cell_type": "code",
   "execution_count": 216,
   "metadata": {
    "collapsed": false
   },
   "outputs": [
    {
     "data": {
      "image/png": "[encoded data removed]",
      "text/plain": [
       "plot without title"
      ]
     },
     "metadata": {},
     "output_type": "display_data"
    }
   ],
   "source": [
    "rev_freq = data.frame(sort(colSums(as.matrix(rev_dtm)), decreasing=TRUE))\n",
    "wordcloud(rownames(rev_freq), rev_freq[,], max.words=1000, colors=brewer.pal(1, \"Set1\"))"
   ]
  },
  {
   "cell_type": "code",
   "execution_count": null,
   "metadata": {
    "collapsed": false
   },
   "outputs": [],
   "source": []
  },
  {
   "cell_type": "code",
   "execution_count": null,
   "metadata": {
    "collapsed": true
   },
   "outputs": [],
   "source": []
  }
 ],
 "metadata": {
  "anaconda-cloud": {},
  "kernelspec": {
   "display_name": "R",
   "language": "R",
   "name": "ir"
  },
  "language_info": {
   "codemirror_mode": "r",
   "file_extension": ".r",
   "mimetype": "text/x-r-source",
   "name": "R",
   "pygments_lexer": "r",
   "version": "3.4.0"
  }
 },
 "nbformat": 4,
 "nbformat_minor": 0
}
