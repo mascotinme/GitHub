{
 "cells": [
  {
   "cell_type": "markdown",
   "metadata": {},
   "source": [
    "# WEEK 4 PART 2\n",
    "\n",
    "Name: MUSA T GANIYU\n",
    "\n",
    "Course: DATA 620 (Web Analytics)\n",
    "\n",
    "Assignment Title: High Frequency Words\n"
   ]
  },
  {
   "cell_type": "markdown",
   "metadata": {},
   "source": [
    "# Instructions:\n",
    "\n",
    "Please answer the following questions in an IPython Notebook, posted to GitHub.\n",
    "\n",
    "1. Choose a corpus of interest.\n",
    "\n",
    "2. How many total unique words are in the corpus? (Please feel free to define unique words in any interesting, defensible way).\n",
    "\n",
    "3. Taking the most common words, how many unique words represent half of the total words in the corpus?\n",
    "\n",
    "4. Identify the 200 highest frequency words in this corpus.\n",
    "\n",
    "5. Create a graph that shows the relative frequency of these 200 words.\n",
    "\n",
    "6. Does the observed relative frequency of these words follow Zipf’s law? Explain.\n",
    "\n",
    "7. In what ways do you think the frequency of the words in this corpus differ from “all words in all corpora.”\n",
    "\n"
   ]
  },
  {
   "cell_type": "code",
   "execution_count": 318,
   "metadata": {
    "collapsed": true
   },
   "outputs": [],
   "source": [
    "rm(list =ls())"
   ]
  },
  {
   "cell_type": "markdown",
   "metadata": {},
   "source": [
    "Kindly install and load the following libraries is you've not already done so."
   ]
  },
  {
   "cell_type": "code",
   "execution_count": 391,
   "metadata": {
    "collapsed": false
   },
   "outputs": [],
   "source": [
    "suppressMessages(library(RTextTools))\n",
    "suppressMessages(library(e1071))\n",
    "suppressMessages(library(SnowballC))\n",
    "suppressMessages(library(wordcloud))\n",
    "suppressMessages(library(tm))\n",
    "\n",
    "suppressMessages(library(rpart))\n",
    "suppressMessages(library(rpart.plot))\n",
    "suppressMessages(library(e1071))\n",
    "suppressMessages(library(nnet))"
   ]
  },
  {
   "cell_type": "markdown",
   "metadata": {},
   "source": [
    "These links lead to the site where some of the text files used here is found:"
   ]
  },
  {
   "cell_type": "code",
   "execution_count": 363,
   "metadata": {
    "collapsed": true
   },
   "outputs": [],
   "source": [
    "url1 <- \"https://raw.githubusercontent.com/mascotinme/MSDA-620/master/negative/cv000_29416.txt\"\n",
    "url2 <- \"https://raw.githubusercontent.com/mascotinme/MSDA-620/master/positive/cv000_29590.txt\""
   ]
  },
  {
   "cell_type": "markdown",
   "metadata": {},
   "source": [
    "The above files are seperate text for negative review/comments and positive as well. The two files would be analysed separately and as well as combined text."
   ]
  },
  {
   "cell_type": "code",
   "execution_count": 364,
   "metadata": {
    "collapsed": false
   },
   "outputs": [
    {
     "data": {
      "text/html": [
       "<ol class=list-inline>\n",
       "\t<li>'plot : two teen couples go to a church party , drink and then drive . '</li>\n",
       "\t<li>'they get into an accident . '</li>\n",
       "\t<li>'one of the guys dies , but his girlfriend continues to see him in her life , and has nightmares . '</li>\n",
       "\t<li>'what\\'s the deal ? '</li>\n",
       "\t<li>'watch the movie and \" sorta \" find out . . . '</li>\n",
       "\t<li>'critique : a mind-fuck movie for the teen generation that touches on a very cool idea , but presents it in a very bad package . '</li>\n",
       "</ol>\n"
      ],
      "text/latex": [
       "\\begin{enumerate*}\n",
       "\\item 'plot : two teen couples go to a church party , drink and then drive . '\n",
       "\\item 'they get into an accident . '\n",
       "\\item 'one of the guys dies , but his girlfriend continues to see him in her life , and has nightmares . '\n",
       "\\item 'what\\textbackslash{}'s the deal ? '\n",
       "\\item 'watch the movie and \" sorta \" find out . . . '\n",
       "\\item 'critique : a mind-fuck movie for the teen generation that touches on a very cool idea , but presents it in a very bad package . '\n",
       "\\end{enumerate*}\n"
      ],
      "text/markdown": [
       "1. 'plot : two teen couples go to a church party , drink and then drive . '\n",
       "2. 'they get into an accident . '\n",
       "3. 'one of the guys dies , but his girlfriend continues to see him in her life , and has nightmares . '\n",
       "4. 'what\\'s the deal ? '\n",
       "5. 'watch the movie and \" sorta \" find out . . . '\n",
       "6. 'critique : a mind-fuck movie for the teen generation that touches on a very cool idea , but presents it in a very bad package . '\n",
       "\n",
       "\n"
      ],
      "text/plain": [
       "[1] \"plot : two teen couples go to a church party , drink and then drive . \"                                                          \n",
       "[2] \"they get into an accident . \"                                                                                                    \n",
       "[3] \"one of the guys dies , but his girlfriend continues to see him in her life , and has nightmares . \"                              \n",
       "[4] \"what's the deal ? \"                                                                                                              \n",
       "[5] \"watch the movie and \\\" sorta \\\" find out . . . \"                                                                                 \n",
       "[6] \"critique : a mind-fuck movie for the teen generation that touches on a very cool idea , but presents it in a very bad package . \""
      ]
     },
     "metadata": {},
     "output_type": "display_data"
    },
    {
     "data": {
      "text/html": [
       "'character'"
      ],
      "text/latex": [
       "'character'"
      ],
      "text/markdown": [
       "'character'"
      ],
      "text/plain": [
       "[1] \"character\""
      ]
     },
     "metadata": {},
     "output_type": "display_data"
    }
   ],
   "source": [
    "neg <- readLines(url1) #Load the text file and obtain the head and class\n",
    "head(neg)\n",
    "class(neg)"
   ]
  },
  {
   "cell_type": "markdown",
   "metadata": {},
   "source": [
    "* NB: \n",
    "\n",
    "neg = Negative Text\n",
    "\n",
    "pos = positive Text"
   ]
  },
  {
   "cell_type": "markdown",
   "metadata": {},
   "source": [
    "Before we can continue with the analysis, we have to convert it to a Corpus file for easy coding!"
   ]
  },
  {
   "cell_type": "code",
   "execution_count": 365,
   "metadata": {
    "collapsed": false
   },
   "outputs": [],
   "source": [
    "neg_cleaning = Corpus(VectorSource(neg))"
   ]
  },
  {
   "cell_type": "markdown",
   "metadata": {},
   "source": [
    "\n",
    "* Cleaning of the files after converting is crucial! So, lets begin!!!!"
   ]
  },
  {
   "cell_type": "code",
   "execution_count": 366,
   "metadata": {
    "collapsed": false
   },
   "outputs": [
    {
     "name": "stdout",
     "output_type": "stream",
     "text": [
      "<<SimpleCorpus>>\n",
      "Metadata:  corpus specific: 1, document level (indexed): 0\n",
      "Content:  documents: 1\n",
      "\n",
      "[1] plot two teen couples go church party drink drive \n"
     ]
    }
   ],
   "source": [
    "neg_cleaning = tm_map(neg_cleaning, content_transformer(tolower))\n",
    "neg_cleaning = tm_map(neg_cleaning, removeNumbers)\n",
    "neg_cleaning = tm_map(neg_cleaning, removePunctuation)\n",
    "neg_cleaning = tm_map(neg_cleaning, removeWords, c(\"the\", \"and\", stopwords(\"english\")))\n",
    "neg_cleaning = tm_map(neg_cleaning, stripWhitespace)\n",
    "\n",
    "inspect(neg_cleaning[1])"
   ]
  },
  {
   "cell_type": "code",
   "execution_count": 367,
   "metadata": {
    "collapsed": false
   },
   "outputs": [
    {
     "data": {
      "text/plain": [
       "<<DocumentTermMatrix (documents: 35, terms: 251)>>\n",
       "Non-/sparse entries: 322/8463\n",
       "Sparsity           : 96%\n",
       "Maximal term length: 14\n",
       "Weighting          : term frequency (tf)"
      ]
     },
     "metadata": {},
     "output_type": "display_data"
    }
   ],
   "source": [
    "dtm <- DocumentTermMatrix(neg_cleaning) # Converting to Matrix Document\n",
    "dtm"
   ]
  },
  {
   "cell_type": "markdown",
   "metadata": {},
   "source": [
    "\n",
    "* NB\n",
    "\n",
    "You may wanna try this too!\n",
    "\n",
    "neg_g = gsub(\"[[:punct:]]\", \"\", neg)\n",
    "\n",
    "neg_g = gsub(\"[[:digit:]]\", \"\", neg)\n",
    "\n",
    "neg_g = gsub(\"http\\\\w+\", \"\", neg)\n",
    "\n",
    "neg_g = gsub(\"[ \\t]{2,}\", \"\", neg)\n",
    "\n",
    "neg_g = gsub(\"^\\\\s+|\\\\s+$\", \"\", neg)"
   ]
  },
  {
   "cell_type": "code",
   "execution_count": 368,
   "metadata": {
    "collapsed": false
   },
   "outputs": [
    {
     "name": "stdout",
     "output_type": "stream",
     "text": [
      "<<DocumentTermMatrix (documents: 35, terms: 251)>>\n",
      "Non-/sparse entries: 322/8463\n",
      "Sparsity           : 96%\n",
      "Maximal term length: 14\n",
      "Weighting          : term frequency (tf)\n",
      "Sample             :\n",
      "    Terms\n",
      "Docs even film films get just make movie one pretty teen\n",
      "  12    0    0     0   0    0    0     0   0      0    0\n",
      "  13    0    1     1   1    0    0     0   0      0    0\n",
      "  17    0    1     0   0    0    2     0   0      0    0\n",
      "  18    1    0     0   0    0    1     0   0      0    0\n",
      "  19    0    0     0   0    1    0     1   0      0    0\n",
      "  25    0    0     0   0    0    1     1   0      1    1\n",
      "  26    0    0     0   0    1    0     0   0      1    0\n",
      "  28    0    1     0   0    0    0     0   0      2    0\n",
      "  35    0    0     0   0    0    0     0   0      0    0\n",
      "  7     1    0     2   0    1    0     0   2      0    0\n"
     ]
    }
   ],
   "source": [
    "inspect(dtm[, ]) #inspecting the document"
   ]
  },
  {
   "cell_type": "code",
   "execution_count": null,
   "metadata": {
    "collapsed": true
   },
   "outputs": [],
   "source": [
    "* Second Text File\n",
    "\n",
    "NB: We adopt the above method analysis used for negatic for the positive as well.And do same for their combined data files."
   ]
  },
  {
   "cell_type": "code",
   "execution_count": 369,
   "metadata": {
    "collapsed": false
   },
   "outputs": [
    {
     "data": {
      "text/html": [
       "<ol class=list-inline>\n",
       "\t<li>'films adapted from comic books have had plenty of success , whether they\\'re about superheroes ( batman , superman , spawn ) , or geared toward kids ( casper ) or the arthouse crowd ( ghost world ) , but there\\'s never really been a comic book like from hell before . '</li>\n",
       "\t<li>'for starters , it was created by alan moore ( and eddie campbell ) , who brought the medium to a whole new level in the mid \\'80s with a 12-part series called the watchmen . '</li>\n",
       "\t<li>'to say moore and campbell thoroughly researched the subject of jack the ripper would be like saying michael jackson is starting to look a little odd . '</li>\n",
       "\t<li>'the book ( or \" graphic novel , \" if you will ) is over 500 pages long and includes nearly 30 more that consist of nothing but footnotes . '</li>\n",
       "\t<li>'in other words , don\\'t dismiss this film because of its source . '</li>\n",
       "\t<li>'if you can get past the whole comic book thing , you might find another stumbling block in from hell\\'s directors , albert and allen hughes . '</li>\n",
       "</ol>\n"
      ],
      "text/latex": [
       "\\begin{enumerate*}\n",
       "\\item 'films adapted from comic books have had plenty of success , whether they\\textbackslash{}'re about superheroes ( batman , superman , spawn ) , or geared toward kids ( casper ) or the arthouse crowd ( ghost world ) , but there\\textbackslash{}'s never really been a comic book like from hell before . '\n",
       "\\item 'for starters , it was created by alan moore ( and eddie campbell ) , who brought the medium to a whole new level in the mid \\textbackslash{}'80s with a 12-part series called the watchmen . '\n",
       "\\item 'to say moore and campbell thoroughly researched the subject of jack the ripper would be like saying michael jackson is starting to look a little odd . '\n",
       "\\item 'the book ( or \" graphic novel , \" if you will ) is over 500 pages long and includes nearly 30 more that consist of nothing but footnotes . '\n",
       "\\item 'in other words , don\\textbackslash{}'t dismiss this film because of its source . '\n",
       "\\item 'if you can get past the whole comic book thing , you might find another stumbling block in from hell\\textbackslash{}'s directors , albert and allen hughes . '\n",
       "\\end{enumerate*}\n"
      ],
      "text/markdown": [
       "1. 'films adapted from comic books have had plenty of success , whether they\\'re about superheroes ( batman , superman , spawn ) , or geared toward kids ( casper ) or the arthouse crowd ( ghost world ) , but there\\'s never really been a comic book like from hell before . '\n",
       "2. 'for starters , it was created by alan moore ( and eddie campbell ) , who brought the medium to a whole new level in the mid \\'80s with a 12-part series called the watchmen . '\n",
       "3. 'to say moore and campbell thoroughly researched the subject of jack the ripper would be like saying michael jackson is starting to look a little odd . '\n",
       "4. 'the book ( or \" graphic novel , \" if you will ) is over 500 pages long and includes nearly 30 more that consist of nothing but footnotes . '\n",
       "5. 'in other words , don\\'t dismiss this film because of its source . '\n",
       "6. 'if you can get past the whole comic book thing , you might find another stumbling block in from hell\\'s directors , albert and allen hughes . '\n",
       "\n",
       "\n"
      ],
      "text/plain": [
       "[1] \"films adapted from comic books have had plenty of success , whether they're about superheroes ( batman , superman , spawn ) , or geared toward kids ( casper ) or the arthouse crowd ( ghost world ) , but there's never really been a comic book like from hell before . \"\n",
       "[2] \"for starters , it was created by alan moore ( and eddie campbell ) , who brought the medium to a whole new level in the mid '80s with a 12-part series called the watchmen . \"                                                                                             \n",
       "[3] \"to say moore and campbell thoroughly researched the subject of jack the ripper would be like saying michael jackson is starting to look a little odd . \"                                                                                                                   \n",
       "[4] \"the book ( or \\\" graphic novel , \\\" if you will ) is over 500 pages long and includes nearly 30 more that consist of nothing but footnotes . \"                                                                                                                             \n",
       "[5] \"in other words , don't dismiss this film because of its source . \"                                                                                                                                                                                                         \n",
       "[6] \"if you can get past the whole comic book thing , you might find another stumbling block in from hell's directors , albert and allen hughes . \"                                                                                                                             "
      ]
     },
     "metadata": {},
     "output_type": "display_data"
    }
   ],
   "source": [
    "pos <- readLines(url2)\n",
    "head(pos)"
   ]
  },
  {
   "cell_type": "code",
   "execution_count": 370,
   "metadata": {
    "collapsed": false
   },
   "outputs": [
    {
     "data": {
      "text/plain": [
       "<<SimpleCorpus>>\n",
       "Metadata:  corpus specific: 1, document level (indexed): 0\n",
       "Content:  documents: 25"
      ]
     },
     "metadata": {},
     "output_type": "display_data"
    }
   ],
   "source": [
    "pos_cleaning = Corpus(VectorSource(pos))\n",
    "pos_cleaning"
   ]
  },
  {
   "cell_type": "code",
   "execution_count": 371,
   "metadata": {
    "collapsed": false
   },
   "outputs": [
    {
     "name": "stdout",
     "output_type": "stream",
     "text": [
      "<<SimpleCorpus>>\n",
      "Metadata:  corpus specific: 1, document level (indexed): 0\n",
      "Content:  documents: 1\n",
      "\n",
      "[1] films adapted comic books plenty success whether theyre superheroes batman superman spawn geared toward kids casper arthouse crowd ghost world theres never really comic book like hell \n"
     ]
    }
   ],
   "source": [
    "pos_cleaning = tm_map(pos_cleaning, content_transformer(tolower))\n",
    "pos_cleaning = tm_map(pos_cleaning, removeNumbers)\n",
    "pos_cleaning = tm_map(pos_cleaning, removePunctuation)\n",
    "pos_cleaning = tm_map(pos_cleaning, removeWords, c(\"the\", \"and\", stopwords(\"english\")))\n",
    "pos_cleaning =  tm_map(pos_cleaning, stripWhitespace)\n",
    "\n",
    "inspect(pos_cleaning[1])"
   ]
  },
  {
   "cell_type": "code",
   "execution_count": 372,
   "metadata": {
    "collapsed": false
   },
   "outputs": [
    {
     "data": {
      "text/plain": [
       "<<DocumentTermMatrix (documents: 25, terms: 341)>>\n",
       "Non-/sparse entries: 399/8126\n",
       "Sparsity           : 95%\n",
       "Maximal term length: 15\n",
       "Weighting          : term frequency (tf)"
      ]
     },
     "metadata": {},
     "output_type": "display_data"
    }
   ],
   "source": [
    "dtm2 <- DocumentTermMatrix(pos_cleaning)\n",
    "dtm2"
   ]
  },
  {
   "cell_type": "code",
   "execution_count": 373,
   "metadata": {
    "collapsed": false
   },
   "outputs": [
    {
     "name": "stdout",
     "output_type": "stream",
     "text": [
      "<<DocumentTermMatrix (documents: 25, terms: 341)>>\n",
      "Non-/sparse entries: 399/8126\n",
      "Sparsity           : 95%\n",
      "Maximal term length: 15\n",
      "Weighting          : term frequency (tf)\n",
      "Sample             :\n",
      "    Terms\n",
      "Docs book campbell comic dont film hells like moore ripper say\n",
      "  1     1        0     2    0    0     0    1     0      0   0\n",
      "  10    0        0     0    0    0     0    0     0      0   0\n",
      "  12    0        0     0    0    0     0    0     0      0   1\n",
      "  13    0        1     0    1    0     0    0     1      1   1\n",
      "  14    0        0     1    1    0     0    0     0      1   0\n",
      "  18    0        0     0    0    1     1    2     0      0   0\n",
      "  19    0        0     1    1    1     0    0     0      0   1\n",
      "  2     0        1     0    0    0     0    0     1      0   0\n",
      "  6     1        0     1    0    0     1    0     0      0   0\n",
      "  7     0        0     0    0    1     0    0     0      0   0\n"
     ]
    }
   ],
   "source": [
    "inspect(dtm2[, ])"
   ]
  },
  {
   "cell_type": "code",
   "execution_count": 393,
   "metadata": {
    "collapsed": false
   },
   "outputs": [
    {
     "data": {
      "text/plain": [
       "<<DocumentTermMatrix (documents: 35, terms: 251)>>\n",
       "Non-/sparse entries: 322/8463\n",
       "Sparsity           : 96%\n",
       "Maximal term length: 14\n",
       "Weighting          : term frequency (tf)"
      ]
     },
     "metadata": {},
     "output_type": "display_data"
    }
   ],
   "source": [
    "dtm = removeSparseTerms(dtm, 0.99)\n",
    "dtm"
   ]
  },
  {
   "cell_type": "code",
   "execution_count": 375,
   "metadata": {
    "collapsed": false
   },
   "outputs": [
    {
     "data": {
      "text/plain": [
       "<<DocumentTermMatrix (documents: 25, terms: 341)>>\n",
       "Non-/sparse entries: 399/8126\n",
       "Sparsity           : 95%\n",
       "Maximal term length: 15\n",
       "Weighting          : term frequency (tf)"
      ]
     },
     "metadata": {},
     "output_type": "display_data"
    }
   ],
   "source": [
    "dtm2 = removeSparseTerms(dtm2, 0.97)\n",
    "dtm2"
   ]
  },
  {
   "cell_type": "code",
   "execution_count": 376,
   "metadata": {
    "collapsed": false
   },
   "outputs": [
    {
     "name": "stdout",
     "output_type": "stream",
     "text": [
      "<<DocumentTermMatrix (documents: 1, terms: 22)>>\n",
      "Non-/sparse entries: 8/14\n",
      "Sparsity           : 64%\n",
      "Maximal term length: 10\n",
      "Weighting          : term frequency (tf)\n",
      "Sample             :\n",
      "    Terms\n",
      "Docs accident church couples drink drive get party plot teen two\n",
      "   1        0      1       1     1     1   0     1    1    1   1\n"
     ]
    }
   ],
   "source": [
    "inspect(dtm[1,1:22])"
   ]
  },
  {
   "cell_type": "code",
   "execution_count": 377,
   "metadata": {
    "collapsed": false
   },
   "outputs": [
    {
     "name": "stdout",
     "output_type": "stream",
     "text": [
      "<<DocumentTermMatrix (documents: 1, terms: 20)>>\n",
      "Non-/sparse entries: 20/0\n",
      "Sparsity           : 0%\n",
      "Maximal term length: 11\n",
      "Weighting          : term frequency (tf)\n",
      "Sample             :\n",
      "    Terms\n",
      "Docs adapted arthouse batman book books casper comic crowd films geared\n",
      "   1       1        1      1    1     1      1     2     1     1      1\n"
     ]
    }
   ],
   "source": [
    "inspect(dtm2[1,1:20])"
   ]
  },
  {
   "cell_type": "code",
   "execution_count": 394,
   "metadata": {
    "collapsed": false
   },
   "outputs": [
    {
     "name": "stderr",
     "output_type": "stream",
     "text": [
      "Warning message in brewer.pal(1, \"Dark2\"):\n",
      "\"minimal value for n is 3, returning requested palette with 3 different levels\n",
      "\""
     ]
    },
    {
     "data": {
      "image/png": "[encoded data removed]",
      "text/plain": [
       "plot without title"
      ]
     },
     "metadata": {},
     "output_type": "display_data"
    }
   ],
   "source": [
    "freq = data.frame(sort(colSums(as.matrix(dtm)), decreasing=TRUE))\n",
    "wordcloud(rownames(freq), freq[,1], max.words=100, colors=brewer.pal(1, \"Dark2\"))"
   ]
  },
  {
   "cell_type": "code",
   "execution_count": 395,
   "metadata": {
    "collapsed": false
   },
   "outputs": [
    {
     "name": "stderr",
     "output_type": "stream",
     "text": [
      "Warning message in brewer.pal(1, \"Dark2\"):\n",
      "\"minimal value for n is 3, returning requested palette with 3 different levels\n",
      "\""
     ]
    },
    {
     "data": {
      "image/png": "[encoded data removed]",
      "text/plain": [
       "plot without title"
      ]
     },
     "metadata": {},
     "output_type": "display_data"
    }
   ],
   "source": [
    "freq2 = data.frame(sort(colSums(as.matrix(dtm2)), decreasing=TRUE))\n",
    "wordcloud(rownames(freq2), freq2[,1], max.words=150, colors=brewer.pal(1, \"Dark2\"))"
   ]
  },
  {
   "cell_type": "code",
   "execution_count": 396,
   "metadata": {
    "collapsed": false
   },
   "outputs": [
    {
     "name": "stderr",
     "output_type": "stream",
     "text": [
      "Warning message in weighting(x):\n",
      "\"empty document(s): 33\""
     ]
    },
    {
     "data": {
      "text/plain": [
       "<<DocumentTermMatrix (documents: 35, terms: 6)>>\n",
       "Non-/sparse entries: 27/183\n",
       "Sparsity           : 87%\n",
       "Maximal term length: 6\n",
       "Weighting          : term frequency - inverse document frequency (normalized) (tf-idf)"
      ]
     },
     "metadata": {},
     "output_type": "display_data"
    }
   ],
   "source": [
    "neg_weighting <- DocumentTermMatrix(neg_cleaning, control = list(weighting = weightTfIdf))\n",
    "neg_weighting <- removeSparseTerms(neg_weighting, 0.90)\n",
    "neg_weighting"
   ]
  },
  {
   "cell_type": "code",
   "execution_count": null,
   "metadata": {
    "collapsed": true
   },
   "outputs": [],
   "source": []
  },
  {
   "cell_type": "code",
   "execution_count": 382,
   "metadata": {
    "collapsed": false
   },
   "outputs": [
    {
     "name": "stderr",
     "output_type": "stream",
     "text": [
      "Warning message in brewer.pal(1, \"Dark2\"):\n",
      "\"minimal value for n is 3, returning requested palette with 3 different levels\n",
      "\""
     ]
    },
    {
     "data": {
      "image/png": "[encoded data removed]",
      "text/plain": [
       "plot without title"
      ]
     },
     "metadata": {},
     "output_type": "display_data"
    }
   ],
   "source": [
    "freq_neg_weighting = data.frame(sort(colSums(as.matrix(neg_weighting)), decreasing=TRUE))\n",
    "wordcloud(rownames(freq_neg_weighting), freq_neg_weighting[,1], max.words=100, colors=brewer.pal(1, \"Dark2\"))"
   ]
  },
  {
   "cell_type": "markdown",
   "metadata": {},
   "source": [
    "We are going to combine the two text files as one to check and learning from their differences and similartity."
   ]
  },
  {
   "cell_type": "code",
   "execution_count": 397,
   "metadata": {
    "collapsed": false
   },
   "outputs": [],
   "source": [
    "pos_neg <- rbind(neg_cleaning, pos_cleaning)"
   ]
  },
  {
   "cell_type": "code",
   "execution_count": 398,
   "metadata": {
    "collapsed": false
   },
   "outputs": [
    {
     "data": {
      "text/plain": [
       "<<DocumentTermMatrix (documents: 6, terms: 554)>>\n",
       "Non-/sparse entries: 598/2726\n",
       "Sparsity           : 82%\n",
       "Maximal term length: 15\n",
       "Weighting          : term frequency (tf)"
      ]
     },
     "metadata": {},
     "output_type": "display_data"
    }
   ],
   "source": [
    "pos_neg = Corpus(VectorSource(pos_neg))\n",
    "\n",
    "pos_neg_dtm <- DocumentTermMatrix(pos_neg)\n",
    "pos_neg_dtm"
   ]
  },
  {
   "cell_type": "code",
   "execution_count": 399,
   "metadata": {
    "collapsed": false
   },
   "outputs": [
    {
     "name": "stdout",
     "output_type": "stream",
     "text": [
      "<<DocumentTermMatrix (documents: 6, terms: 554)>>\n",
      "Non-/sparse entries: 598/2726\n",
      "Sparsity           : 82%\n",
      "Maximal term length: 15\n",
      "Weighting          : term frequency (tf)\n",
      "Sample             :\n",
      "    Terms\n",
      "Docs comic dont even film films get like make movie pretty\n",
      "   1     0    2    3    5     3   3    3    5     6      5\n",
      "   2     5    5    3    5     1   2    4    2     0      0\n",
      "   3     0    0    0    0     0   0    0    0     0      0\n",
      "   4     0    0    0    0     0   0    0    0     0      0\n",
      "   5     0    0    0    0     0   0    0    0     0      0\n",
      "   6     0    0    0    0     0   0    0    0     0      0\n"
     ]
    }
   ],
   "source": [
    "inspect(pos_neg_dtm[,])"
   ]
  },
  {
   "cell_type": "code",
   "execution_count": 400,
   "metadata": {
    "collapsed": false
   },
   "outputs": [
    {
     "data": {
      "text/plain": [
       "<<DocumentTermMatrix (documents: 6, terms: 554)>>\n",
       "Non-/sparse entries: 598/2726\n",
       "Sparsity           : 82%\n",
       "Maximal term length: 15\n",
       "Weighting          : term frequency (tf)"
      ]
     },
     "metadata": {},
     "output_type": "display_data"
    }
   ],
   "source": [
    "pos_neg_dtm = removeSparseTerms(pos_neg_dtm, 0.95)\n",
    "pos_neg_dtm"
   ]
  },
  {
   "cell_type": "code",
   "execution_count": 401,
   "metadata": {
    "collapsed": false
   },
   "outputs": [
    {
     "name": "stderr",
     "output_type": "stream",
     "text": [
      "Warning message in brewer.pal(1, \"Dark2\"):\n",
      "\"minimal value for n is 3, returning requested palette with 3 different levels\n",
      "\""
     ]
    },
    {
     "data": {
      "image/png": "[encoded data removed]",
      "text/plain": [
       "plot without title"
      ]
     },
     "metadata": {},
     "output_type": "display_data"
    }
   ],
   "source": [
    "pos_neg_freq = data.frame(sort(colSums(as.matrix(pos_neg_dtm)), decreasing=TRUE))\n",
    "wordcloud(rownames(pos_neg_freq), pos_neg_freq[,1], max.words=100, colors=brewer.pal(1, \"Dark2\"))"
   ]
  },
  {
   "cell_type": "code",
   "execution_count": 408,
   "metadata": {
    "collapsed": false
   },
   "outputs": [
    {
     "data": {
      "text/html": [],
      "text/latex": [],
      "text/markdown": [],
      "text/plain": [
       "character(0)"
      ]
     },
     "metadata": {},
     "output_type": "display_data"
    }
   ],
   "source": [
    "findFreqTerms(dtm, 200)"
   ]
  },
  {
   "cell_type": "code",
   "execution_count": 404,
   "metadata": {
    "collapsed": false
   },
   "outputs": [
    {
     "data": {
      "text/html": [],
      "text/latex": [],
      "text/markdown": [],
      "text/plain": [
       "character(0)"
      ]
     },
     "metadata": {},
     "output_type": "display_data"
    }
   ],
   "source": [
    "findFreqTerms(dtm2, 200)"
   ]
  },
  {
   "cell_type": "code",
   "execution_count": 405,
   "metadata": {
    "collapsed": false
   },
   "outputs": [
    {
     "data": {
      "text/html": [],
      "text/latex": [],
      "text/markdown": [],
      "text/plain": [
       "character(0)"
      ]
     },
     "metadata": {},
     "output_type": "display_data"
    }
   ],
   "source": [
    "findFreqTerms(pos_neg_dtm, 200)"
   ]
  },
  {
   "cell_type": "markdown",
   "metadata": {},
   "source": [
    "# Thank You For Your Time"
   ]
  },
  {
   "cell_type": "code",
   "execution_count": null,
   "metadata": {
    "collapsed": true
   },
   "outputs": [],
   "source": []
  }
 ],
 "metadata": {
  "anaconda-cloud": {},
  "kernelspec": {
   "display_name": "R",
   "language": "R",
   "name": "ir"
  },
  "language_info": {
   "codemirror_mode": "r",
   "file_extension": ".r",
   "mimetype": "text/x-r-source",
   "name": "R",
   "pygments_lexer": "r",
   "version": "3.4.0"
  }
 },
 "nbformat": 4,
 "nbformat_minor": 0
}
