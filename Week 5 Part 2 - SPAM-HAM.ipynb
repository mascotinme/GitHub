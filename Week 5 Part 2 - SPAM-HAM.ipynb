{
 "cells": [
  {
   "cell_type": "markdown",
   "metadata": {},
   "source": [
    "# WEEK 5 PART 2\n",
    "\n",
    "Name: MUSA T GANIYU\n",
    "\n",
    "Course: DATA 620 (Web Analytics)\n",
    "\n",
    "Assignment: 5 Part 2 (Document Classification)\n"
   ]
  },
  {
   "cell_type": "markdown",
   "metadata": {},
   "source": [
    "The dataset/Text files to be used for the analysis can be accessed from the underlisted webpage.\n",
    "\n",
    "http://archive.ics.uci.edu/ml/datasets/Spambase "
   ]
  },
  {
   "cell_type": "markdown",
   "metadata": {},
   "source": [
    "\n",
    "* In this assignement, I am going to extract the contents of the files and load it to our jupyter environment for analysis. \n"
   ]
  },
  {
   "cell_type": "code",
   "execution_count": 402,
   "metadata": {
    "collapsed": true
   },
   "outputs": [],
   "source": [
    "rm(list =ls())"
   ]
  },
  {
   "cell_type": "markdown",
   "metadata": {},
   "source": [
    "Please, kindly install and load the following libraries into your environment if you have not done that already."
   ]
  },
  {
   "cell_type": "code",
   "execution_count": 403,
   "metadata": {
    "collapsed": false
   },
   "outputs": [],
   "source": [
    "options(warn = -1)\n",
    "suppressMessages(library(tm))\n",
    "suppressMessages(library(tidyr))\n",
    "suppressMessages(library(stringr))\n",
    "suppressMessages(library(dplyr))\n",
    "suppressMessages(library(rpart))\n",
    "suppressMessages(library(SnowballC))\n",
    "suppressMessages(library(knitr))\n",
    "suppressMessages(require(RTextTools))\n",
    "suppressMessages(require(e1071))\n",
    "suppressMessages(library(nnet));\n"
   ]
  },
  {
   "cell_type": "markdown",
   "metadata": {},
   "source": [
    "The two text files below are read into R environment and combined as a single file for easy access."
   ]
  },
  {
   "cell_type": "code",
   "execution_count": 404,
   "metadata": {
    "collapsed": false
   },
   "outputs": [
    {
     "name": "stdout",
     "output_type": "stream",
     "text": [
      " chr [1:2, 1:124] \"ï»¿From 12a1mailbot1@web.de  Thu Aug 22 13:17:22 2002\" ...\n",
      " - attr(*, \"dimnames\")=List of 2\n",
      "  ..$ : chr [1:2] \"spam\" \"ham\"\n",
      "  ..$ : NULL\n"
     ]
    }
   ],
   "source": [
    "spam <- readLines(\"https://raw.githubusercontent.com/mascotinme/MSDA-IS607/772b359fe7cb65505be4ef38b1541435949f5e12/spam.csv\")\n",
    "\n",
    "ham <- readLines(\"https://raw.githubusercontent.com/mascotinme/MSDA-IS607/772b359fe7cb65505be4ef38b1541435949f5e12/ham.csv\")\n",
    "\n",
    "spam_ham <- rbind(spam, ham)\n",
    "str(spam_ham) # The text/data structure"
   ]
  },
  {
   "cell_type": "markdown",
   "metadata": {},
   "source": [
    "# Data cleaning:\n",
    "\n",
    "Before we can do any analysis whatsoever on the file, we need to remove all the unwanted characters in the text."
   ]
  },
  {
   "cell_type": "code",
   "execution_count": 405,
   "metadata": {
    "collapsed": false
   },
   "outputs": [],
   "source": [
    "spam_ham = gsub(\"[[:punct:]]\", \"\", spam_ham)\n",
    "\n",
    "spam_ham = gsub(\"[[:digit:]]\", \"\", spam_ham)\n",
    "\n",
    "spam_ham = gsub(\"ï\", \"\", spam_ham)\n",
    "\n",
    "spam_ham = gsub(\"[ \\t]{2,}\", \"\", spam_ham)\n",
    "\n",
    "spam_ham = gsub(\"\\tby\", \"\", spam_ham)\n",
    "spam_ham = gsub(\"\\tfor\", \"\", spam_ham)\n",
    "spam_ham = gsub(\"zzzz\", \"\", spam_ham)\n",
    "spam_ham = gsub(\"[[,:digit:]]\", \"\", spam_ham)\n"
   ]
  },
  {
   "cell_type": "code",
   "execution_count": 406,
   "metadata": {
    "collapsed": false
   },
   "outputs": [
    {
     "data": {
      "text/html": [
       "<span style=white-space:pre-wrap>'From amailbotwebdeThu Aug From exmhworkersadminredhatcomThu Aug ReturnPath amailbotwebde ReturnPath exmhworkersadminexamplecom DeliveredTo localhostspamassassintaintorg DeliveredTo localhostnetnoteinccom Received from localhost localhost  Received from localhost localhost   phoboslabsspamassassintaintorg Postfix with ESMTP id BC  phoboslabsnetnoteinccom Postfix with ESMTP id DEC  localhost ThuAugEDT  localhost ThuAugEDT Received from mailwebnotenet  Received from phobos   localhost with POP fetchmail  localhost with IMAP fetchmail  localhost singledrop ThuAugIST  localhost singledrop ThuAugIST Received from ddit  Received from listmanexamplecom listmanexamplecomby  webnotenetwith ESMTP id NAA dogmaslashnullorgwith ESMTP id gMBYrZ for  spamassassintaintorg ThuAug exmhexamplecom ThuAug From amailbotwebde Received from listmanexamplecom localhostlocaldomainby Received from rsmtpkoreacomby dditwith Microsoft SMTPSVC listmanredhatcom Postfix with ESMTP idThuAug  SatAug EDT To dcekanetsgocom DeliveredTo exmhworkerslistmanexamplecom Subject Life InsuranceWhy Pay More Received from intmxcorpexamplecom intmxcorpexamplecom Date WedAug by listmanredhatcom Postfix with ESMTP id CFD MIMEVersion  for exmhworkerslistmanredhatcom ThuAug MessageID cDDITddit EDT ContentType texthtml charsetiso Received from maillocalhost by intmxcorpexamplecom  ContentTransferEncoding quotedprintable id gMBYg for exmhworkerslistmanredhatcom ThuAug    DOCTYPE HTML PUBLIC WCDTD HTMLTransitionalEN Received from mxexamplecom mxexamplecomby HTMLHEAD intmxcorpredhatcomwith SMTP id gMBYY for META contentDtexthtml charsetDwindows httpequivDContentT exmhworkersredhatcom ThuAug ype Received from ratreepsuacthby mxexamplecom META contentDMSHTMLnameDGENERATORHEAD with SMTP id gMBIhl for exmhworkersredhatcom BODY Inserted by Calypso  ThuAug TABLE borderD cellPaddingD cellSpacingD idDCalyPrintHeader r Received from deltacsmuOZAU deltacoepsuacthby ulesDnone  ratreepsuacthwith ESMTP id gMBWel styleDCOLOR black DISPLAY none widthD ThuAugICT TBODY Received from munnariOZAU localhostby deltacsmuOZAU TR with ESMTP id gMBQPW ThuAug TD colSpanD ICT HR colorDblack noShade SIZED From Robert Elz kremunnariOZAU TDTRTDTR To Chris Garrigues cwgdatedfadDeepEddyCom TR Cc exmhworkersexamplecom TD colSpanD Subject Re New Sequences Window HR colorDblack noShade SIZED InReplyTo TMDAdeepeddyvirciocom TDTRTBODYTABLE End CalypsoInserted by Calypso References TMDAdeepeddyvirciocom  FONT  TMDAdeepeddyvirciocom munnariOZAU colorD faceDVERDANAARIALHELVETICA sizeDBRFONTTD TMDAdeepeddyvirciocom TRTABLE End Calypso FONT colorDff  TMDAdeepeddyvirciocom faceDCopperplate Gothic Bold sizeD PTSIZED MIMEVersion  CENTERSave up toon Life InsuranceCENTERFONTFONT colorDff ContentType textplain charsetusascii   MessageId munnariOZAU faceDCopperplate Gothic Bold sizeD PTSIZED XLoop exmhworkersexamplecom CENTERWhy Spend More Than You Have To Sender exmhworkersadminexamplecom CENTERFONT colorDff faceDCopperplate Gothic Bold sizeD PT ErrorsTo exmhworkersadminexamplecom SIZED XBeenthere exmhworkersexamplecom CENTERLife Quote Savings XMailmanVersion  CENTER Precedence bulk P alignDleftP ListHelp mailtoexmhworkersrequestexamplecomsubjecthelp P alignDleftPFONTUIBBRFONTUBUI ListPost mailtoexmhworkersexamplecom PP ListSubscribe httpslistmanexamplecommailmanlistinfoexmhworkers CENTER mailtoexmhworkersrequestredhatcomsubjectsubscribe TABLE borderD borderColorD cellPaddingD cellSpacingD wi ListId Discussion list for EXMH developers exmhworkersexamplecom dthD ListUnsubscribe httpslistmanexamplecommailmanlistinfoexmhworkers TBODYTBODYTABLE mailtoexmhworkersrequestredhatcomsubjectunsubscribe TABLE borderD borderColorD cellPaddingD cellSpacingD wi ListArchive httpslistmanexamplecommailmanprivateexmhworkers dthD Date ThuAug TBODY  TR DateWedAug TD colSpanD widthDBFONT faceDVerdana sizeDEnsurin FromChris Garrigues cwgdatedfadDeepEddyCom g your  MessageIDTMDAdeepeddyvirciocom familys financial security is very important Life Quote Savings ma  kes   buying life insurance simple and affordable We Provide FREE Access  I cant reproduce this error to The   Very Best Companies and The Lowest RatesFONTBTDTR For me it is very repeatable like every time without fail TR  TD alignDmiddle vAlignDtop widthD This is the debug log of the pick happening  TABLE borderColorD widthD  TBODY  PickIt exec pick inbox list lbrace lbrace subject ftp rbrace rbracesequence mercury TR  exec pick inbox list lbrace lbrace subject ftp rbrace rbracesequence mercury TD styleDPADDINGLEFT px PADDINGRIGHT px widthD  FtocPickMsgshit FONT   Markinghits faceDVerdana sizeDBLife Quote SavingsB is FAST EAS  tkerror syntax error in expression int  Y and   SAVES you money Let us help you get started with the best val Note if I run the pick command by hand  ues in   the country on new coverage You can SAVE hundreds or even tho delta pick inbox list lbrace lbrace subject ftp rbrace rbracesequence mercury usands   hit of dollars by requesting a FREE quote from Lifequote Savings   Our  Thats where thehit comes from obviouslyThe version of nmh Im service will take you less thanminutes to complete Shop an using is  d   compare SAVE up toon all types of Life insurance  delta pick version FONTTDTR picknmh compiled on fuchsiacsmuOZAU at Sun MarICT  TRBRBR  TD heightD styleDPADDINGLEFT px PADDINGRIGHT px  And the relevant part of my mhprofile  widthD  P alignDcenterBFONT faceDVerdana sizeDA  delta mhparam pick hrefDhttpwebsiteeccsavequoteClick Here For Your seq sel list    Free QuoteAFONTBPTD  PFONT faceDVerdana sizeDSTRONG Since the pick command works the sequence actually both of them the CENTERProtecting your family is the best investment youll eve one thats explicit on the command line from the search popup and the r  one that comes from mhprofile do get created makeBRBTDTR  TRBRBRSTRONGFONTTDTRTDTR kre TRTRTBODYTABLE  P alignDleftFONT faceDArial Helvetica sansserif sizeD ps this is still using the version of the code form a day ago I havent FONTP been able to reach the cvs repository today local routing issue I think PP  CENTERBRBRBR  PP  P alignDleftBRBBRBRBRBRP  P alignDcenterBRP Exmhworkers mailing list P alignDleftBRBBRBRFONTIf you are in receipt of this Exmhworkersredhatcom  email  httpslistmanredhatcommailmanlistinfoexmhworkers in error andor wish to be removed from our list A   hrefDmailtocoinsbtamailnetcnPLEASE CLICK HEREA AND TYPE  From exmhworkersadminredhatcomThu Aug REMOVE If you  ReturnPath exmhworkersadminexamplecom reside in any state which prohibits email solicitations for insuran DeliveredTo localhostnetnoteinccom ce  Received from localhost localhost  please disregard this   phoboslabsnetnoteinccom Postfix with ESMTP id DEC emailBRFONTBRBRBRBRBRBRBRBRBRBRBRBRBR  localhost ThuAugEDT BRBRBRFONTPCENTERCENTERTRTBODYTABLECENTER Received from phobos  CENTERCENTERCENTERCENTERBODYHTML  localhost with IMAP fetchmail   localhost singledrop ThuAugIST  Received from listmanexamplecom listmanexamplecomby  dogmaslashnullorgwith ESMTP id gMBYrZ for'</span>"
      ],
      "text/latex": [
       "'From amailbotwebdeThu Aug From exmhworkersadminredhatcomThu Aug ReturnPath amailbotwebde ReturnPath exmhworkersadminexamplecom DeliveredTo localhostspamassassintaintorg DeliveredTo localhostnetnoteinccom Received from localhost localhost  Received from localhost localhost   phoboslabsspamassassintaintorg Postfix with ESMTP id BC  phoboslabsnetnoteinccom Postfix with ESMTP id DEC  localhost ThuAugEDT  localhost ThuAugEDT Received from mailwebnotenet  Received from phobos   localhost with POP fetchmail  localhost with IMAP fetchmail  localhost singledrop ThuAugIST  localhost singledrop ThuAugIST Received from ddit  Received from listmanexamplecom listmanexamplecomby  webnotenetwith ESMTP id NAA dogmaslashnullorgwith ESMTP id gMBYrZ for  spamassassintaintorg ThuAug exmhexamplecom ThuAug From amailbotwebde Received from listmanexamplecom localhostlocaldomainby Received from rsmtpkoreacomby dditwith Microsoft SMTPSVC listmanredhatcom Postfix with ESMTP idThuAug  SatAug EDT To dcekanetsgocom DeliveredTo exmhworkerslistmanexamplecom Subject Life InsuranceWhy Pay More Received from intmxcorpexamplecom intmxcorpexamplecom Date WedAug by listmanredhatcom Postfix with ESMTP id CFD MIMEVersion  for exmhworkerslistmanredhatcom ThuAug MessageID cDDITddit EDT ContentType texthtml charsetiso Received from maillocalhost by intmxcorpexamplecom  ContentTransferEncoding quotedprintable id gMBYg for exmhworkerslistmanredhatcom ThuAug    DOCTYPE HTML PUBLIC WCDTD HTMLTransitionalEN Received from mxexamplecom mxexamplecomby HTMLHEAD intmxcorpredhatcomwith SMTP id gMBYY for META contentDtexthtml charsetDwindows httpequivDContentT exmhworkersredhatcom ThuAug ype Received from ratreepsuacthby mxexamplecom META contentDMSHTMLnameDGENERATORHEAD with SMTP id gMBIhl for exmhworkersredhatcom BODY Inserted by Calypso  ThuAug TABLE borderD cellPaddingD cellSpacingD idDCalyPrintHeader r Received from deltacsmuOZAU deltacoepsuacthby ulesDnone  ratreepsuacthwith ESMTP id gMBWel styleDCOLOR black DISPLAY none widthD ThuAugICT TBODY Received from munnariOZAU localhostby deltacsmuOZAU TR with ESMTP id gMBQPW ThuAug TD colSpanD ICT HR colorDblack noShade SIZED From Robert Elz kremunnariOZAU TDTRTDTR To Chris Garrigues cwgdatedfadDeepEddyCom TR Cc exmhworkersexamplecom TD colSpanD Subject Re New Sequences Window HR colorDblack noShade SIZED InReplyTo TMDAdeepeddyvirciocom TDTRTBODYTABLE End CalypsoInserted by Calypso References TMDAdeepeddyvirciocom  FONT  TMDAdeepeddyvirciocom munnariOZAU colorD faceDVERDANAARIALHELVETICA sizeDBRFONTTD TMDAdeepeddyvirciocom TRTABLE End Calypso FONT colorDff  TMDAdeepeddyvirciocom faceDCopperplate Gothic Bold sizeD PTSIZED MIMEVersion  CENTERSave up toon Life InsuranceCENTERFONTFONT colorDff ContentType textplain charsetusascii   MessageId munnariOZAU faceDCopperplate Gothic Bold sizeD PTSIZED XLoop exmhworkersexamplecom CENTERWhy Spend More Than You Have To Sender exmhworkersadminexamplecom CENTERFONT colorDff faceDCopperplate Gothic Bold sizeD PT ErrorsTo exmhworkersadminexamplecom SIZED XBeenthere exmhworkersexamplecom CENTERLife Quote Savings XMailmanVersion  CENTER Precedence bulk P alignDleftP ListHelp mailtoexmhworkersrequestexamplecomsubjecthelp P alignDleftPFONTUIBBRFONTUBUI ListPost mailtoexmhworkersexamplecom PP ListSubscribe httpslistmanexamplecommailmanlistinfoexmhworkers CENTER mailtoexmhworkersrequestredhatcomsubjectsubscribe TABLE borderD borderColorD cellPaddingD cellSpacingD wi ListId Discussion list for EXMH developers exmhworkersexamplecom dthD ListUnsubscribe httpslistmanexamplecommailmanlistinfoexmhworkers TBODYTBODYTABLE mailtoexmhworkersrequestredhatcomsubjectunsubscribe TABLE borderD borderColorD cellPaddingD cellSpacingD wi ListArchive httpslistmanexamplecommailmanprivateexmhworkers dthD Date ThuAug TBODY  TR DateWedAug TD colSpanD widthDBFONT faceDVerdana sizeDEnsurin FromChris Garrigues cwgdatedfadDeepEddyCom g your  MessageIDTMDAdeepeddyvirciocom familys financial security is very important Life Quote Savings ma  kes   buying life insurance simple and affordable We Provide FREE Access  I cant reproduce this error to The   Very Best Companies and The Lowest RatesFONTBTDTR For me it is very repeatable like every time without fail TR  TD alignDmiddle vAlignDtop widthD This is the debug log of the pick happening  TABLE borderColorD widthD  TBODY  PickIt exec pick inbox list lbrace lbrace subject ftp rbrace rbracesequence mercury TR  exec pick inbox list lbrace lbrace subject ftp rbrace rbracesequence mercury TD styleDPADDINGLEFT px PADDINGRIGHT px widthD  FtocPickMsgshit FONT   Markinghits faceDVerdana sizeDBLife Quote SavingsB is FAST EAS  tkerror syntax error in expression int  Y and   SAVES you money Let us help you get started with the best val Note if I run the pick command by hand  ues in   the country on new coverage You can SAVE hundreds or even tho delta pick inbox list lbrace lbrace subject ftp rbrace rbracesequence mercury usands   hit of dollars by requesting a FREE quote from Lifequote Savings   Our  Thats where thehit comes from obviouslyThe version of nmh Im service will take you less thanminutes to complete Shop an using is  d   compare SAVE up toon all types of Life insurance  delta pick version FONTTDTR picknmh compiled on fuchsiacsmuOZAU at Sun MarICT  TRBRBR  TD heightD styleDPADDINGLEFT px PADDINGRIGHT px  And the relevant part of my mhprofile  widthD  P alignDcenterBFONT faceDVerdana sizeDA  delta mhparam pick hrefDhttpwebsiteeccsavequoteClick Here For Your seq sel list    Free QuoteAFONTBPTD  PFONT faceDVerdana sizeDSTRONG Since the pick command works the sequence actually both of them the CENTERProtecting your family is the best investment youll eve one thats explicit on the command line from the search popup and the r  one that comes from mhprofile do get created makeBRBTDTR  TRBRBRSTRONGFONTTDTRTDTR kre TRTRTBODYTABLE  P alignDleftFONT faceDArial Helvetica sansserif sizeD ps this is still using the version of the code form a day ago I havent FONTP been able to reach the cvs repository today local routing issue I think PP  CENTERBRBRBR  PP  P alignDleftBRBBRBRBRBRP  P alignDcenterBRP Exmhworkers mailing list P alignDleftBRBBRBRFONTIf you are in receipt of this Exmhworkersredhatcom  email  httpslistmanredhatcommailmanlistinfoexmhworkers in error andor wish to be removed from our list A   hrefDmailtocoinsbtamailnetcnPLEASE CLICK HEREA AND TYPE  From exmhworkersadminredhatcomThu Aug REMOVE If you  ReturnPath exmhworkersadminexamplecom reside in any state which prohibits email solicitations for insuran DeliveredTo localhostnetnoteinccom ce  Received from localhost localhost  please disregard this   phoboslabsnetnoteinccom Postfix with ESMTP id DEC emailBRFONTBRBRBRBRBRBRBRBRBRBRBRBRBR  localhost ThuAugEDT BRBRBRFONTPCENTERCENTERTRTBODYTABLECENTER Received from phobos  CENTERCENTERCENTERCENTERBODYHTML  localhost with IMAP fetchmail   localhost singledrop ThuAugIST  Received from listmanexamplecom listmanexamplecomby  dogmaslashnullorgwith ESMTP id gMBYrZ for'"
      ],
      "text/markdown": [
       "<span style=white-space:pre-wrap>'From amailbotwebdeThu Aug From exmhworkersadminredhatcomThu Aug ReturnPath amailbotwebde ReturnPath exmhworkersadminexamplecom DeliveredTo localhostspamassassintaintorg DeliveredTo localhostnetnoteinccom Received from localhost localhost  Received from localhost localhost   phoboslabsspamassassintaintorg Postfix with ESMTP id BC  phoboslabsnetnoteinccom Postfix with ESMTP id DEC  localhost ThuAugEDT  localhost ThuAugEDT Received from mailwebnotenet  Received from phobos   localhost with POP fetchmail  localhost with IMAP fetchmail  localhost singledrop ThuAugIST  localhost singledrop ThuAugIST Received from ddit  Received from listmanexamplecom listmanexamplecomby  webnotenetwith ESMTP id NAA dogmaslashnullorgwith ESMTP id gMBYrZ for  spamassassintaintorg ThuAug exmhexamplecom ThuAug From amailbotwebde Received from listmanexamplecom localhostlocaldomainby Received from rsmtpkoreacomby dditwith Microsoft SMTPSVC listmanredhatcom Postfix with ESMTP idThuAug  SatAug EDT To dcekanetsgocom DeliveredTo exmhworkerslistmanexamplecom Subject Life InsuranceWhy Pay More Received from intmxcorpexamplecom intmxcorpexamplecom Date WedAug by listmanredhatcom Postfix with ESMTP id CFD MIMEVersion  for exmhworkerslistmanredhatcom ThuAug MessageID cDDITddit EDT ContentType texthtml charsetiso Received from maillocalhost by intmxcorpexamplecom  ContentTransferEncoding quotedprintable id gMBYg for exmhworkerslistmanredhatcom ThuAug    DOCTYPE HTML PUBLIC WCDTD HTMLTransitionalEN Received from mxexamplecom mxexamplecomby HTMLHEAD intmxcorpredhatcomwith SMTP id gMBYY for META contentDtexthtml charsetDwindows httpequivDContentT exmhworkersredhatcom ThuAug ype Received from ratreepsuacthby mxexamplecom META contentDMSHTMLnameDGENERATORHEAD with SMTP id gMBIhl for exmhworkersredhatcom BODY Inserted by Calypso  ThuAug TABLE borderD cellPaddingD cellSpacingD idDCalyPrintHeader r Received from deltacsmuOZAU deltacoepsuacthby ulesDnone  ratreepsuacthwith ESMTP id gMBWel styleDCOLOR black DISPLAY none widthD ThuAugICT TBODY Received from munnariOZAU localhostby deltacsmuOZAU TR with ESMTP id gMBQPW ThuAug TD colSpanD ICT HR colorDblack noShade SIZED From Robert Elz kremunnariOZAU TDTRTDTR To Chris Garrigues cwgdatedfadDeepEddyCom TR Cc exmhworkersexamplecom TD colSpanD Subject Re New Sequences Window HR colorDblack noShade SIZED InReplyTo TMDAdeepeddyvirciocom TDTRTBODYTABLE End CalypsoInserted by Calypso References TMDAdeepeddyvirciocom  FONT  TMDAdeepeddyvirciocom munnariOZAU colorD faceDVERDANAARIALHELVETICA sizeDBRFONTTD TMDAdeepeddyvirciocom TRTABLE End Calypso FONT colorDff  TMDAdeepeddyvirciocom faceDCopperplate Gothic Bold sizeD PTSIZED MIMEVersion  CENTERSave up toon Life InsuranceCENTERFONTFONT colorDff ContentType textplain charsetusascii   MessageId munnariOZAU faceDCopperplate Gothic Bold sizeD PTSIZED XLoop exmhworkersexamplecom CENTERWhy Spend More Than You Have To Sender exmhworkersadminexamplecom CENTERFONT colorDff faceDCopperplate Gothic Bold sizeD PT ErrorsTo exmhworkersadminexamplecom SIZED XBeenthere exmhworkersexamplecom CENTERLife Quote Savings XMailmanVersion  CENTER Precedence bulk P alignDleftP ListHelp mailtoexmhworkersrequestexamplecomsubjecthelp P alignDleftPFONTUIBBRFONTUBUI ListPost mailtoexmhworkersexamplecom PP ListSubscribe httpslistmanexamplecommailmanlistinfoexmhworkers CENTER mailtoexmhworkersrequestredhatcomsubjectsubscribe TABLE borderD borderColorD cellPaddingD cellSpacingD wi ListId Discussion list for EXMH developers exmhworkersexamplecom dthD ListUnsubscribe httpslistmanexamplecommailmanlistinfoexmhworkers TBODYTBODYTABLE mailtoexmhworkersrequestredhatcomsubjectunsubscribe TABLE borderD borderColorD cellPaddingD cellSpacingD wi ListArchive httpslistmanexamplecommailmanprivateexmhworkers dthD Date ThuAug TBODY  TR DateWedAug TD colSpanD widthDBFONT faceDVerdana sizeDEnsurin FromChris Garrigues cwgdatedfadDeepEddyCom g your  MessageIDTMDAdeepeddyvirciocom familys financial security is very important Life Quote Savings ma  kes   buying life insurance simple and affordable We Provide FREE Access  I cant reproduce this error to The   Very Best Companies and The Lowest RatesFONTBTDTR For me it is very repeatable like every time without fail TR  TD alignDmiddle vAlignDtop widthD This is the debug log of the pick happening  TABLE borderColorD widthD  TBODY  PickIt exec pick inbox list lbrace lbrace subject ftp rbrace rbracesequence mercury TR  exec pick inbox list lbrace lbrace subject ftp rbrace rbracesequence mercury TD styleDPADDINGLEFT px PADDINGRIGHT px widthD  FtocPickMsgshit FONT   Markinghits faceDVerdana sizeDBLife Quote SavingsB is FAST EAS  tkerror syntax error in expression int  Y and   SAVES you money Let us help you get started with the best val Note if I run the pick command by hand  ues in   the country on new coverage You can SAVE hundreds or even tho delta pick inbox list lbrace lbrace subject ftp rbrace rbracesequence mercury usands   hit of dollars by requesting a FREE quote from Lifequote Savings   Our  Thats where thehit comes from obviouslyThe version of nmh Im service will take you less thanminutes to complete Shop an using is  d   compare SAVE up toon all types of Life insurance  delta pick version FONTTDTR picknmh compiled on fuchsiacsmuOZAU at Sun MarICT  TRBRBR  TD heightD styleDPADDINGLEFT px PADDINGRIGHT px  And the relevant part of my mhprofile  widthD  P alignDcenterBFONT faceDVerdana sizeDA  delta mhparam pick hrefDhttpwebsiteeccsavequoteClick Here For Your seq sel list    Free QuoteAFONTBPTD  PFONT faceDVerdana sizeDSTRONG Since the pick command works the sequence actually both of them the CENTERProtecting your family is the best investment youll eve one thats explicit on the command line from the search popup and the r  one that comes from mhprofile do get created makeBRBTDTR  TRBRBRSTRONGFONTTDTRTDTR kre TRTRTBODYTABLE  P alignDleftFONT faceDArial Helvetica sansserif sizeD ps this is still using the version of the code form a day ago I havent FONTP been able to reach the cvs repository today local routing issue I think PP  CENTERBRBRBR  PP  P alignDleftBRBBRBRBRBRP  P alignDcenterBRP Exmhworkers mailing list P alignDleftBRBBRBRFONTIf you are in receipt of this Exmhworkersredhatcom  email  httpslistmanredhatcommailmanlistinfoexmhworkers in error andor wish to be removed from our list A   hrefDmailtocoinsbtamailnetcnPLEASE CLICK HEREA AND TYPE  From exmhworkersadminredhatcomThu Aug REMOVE If you  ReturnPath exmhworkersadminexamplecom reside in any state which prohibits email solicitations for insuran DeliveredTo localhostnetnoteinccom ce  Received from localhost localhost  please disregard this   phoboslabsnetnoteinccom Postfix with ESMTP id DEC emailBRFONTBRBRBRBRBRBRBRBRBRBRBRBRBR  localhost ThuAugEDT BRBRBRFONTPCENTERCENTERTRTBODYTABLECENTER Received from phobos  CENTERCENTERCENTERCENTERBODYHTML  localhost with IMAP fetchmail   localhost singledrop ThuAugIST  Received from listmanexamplecom listmanexamplecomby  dogmaslashnullorgwith ESMTP id gMBYrZ for'</span>"
      ],
      "text/plain": [
       "[1] \"From amailbotwebdeThu Aug From exmhworkersadminredhatcomThu Aug ReturnPath amailbotwebde ReturnPath exmhworkersadminexamplecom DeliveredTo localhostspamassassintaintorg DeliveredTo localhostnetnoteinccom Received from localhost localhost  Received from localhost localhost   phoboslabsspamassassintaintorg Postfix with ESMTP id BC  phoboslabsnetnoteinccom Postfix with ESMTP id DEC  localhost ThuAugEDT  localhost ThuAugEDT Received from mailwebnotenet  Received from phobos   localhost with POP fetchmail  localhost with IMAP fetchmail  localhost singledrop ThuAugIST  localhost singledrop ThuAugIST Received from ddit  Received from listmanexamplecom listmanexamplecomby  webnotenetwith ESMTP id NAA dogmaslashnullorgwith ESMTP id gMBYrZ for  spamassassintaintorg ThuAug exmhexamplecom ThuAug From amailbotwebde Received from listmanexamplecom localhostlocaldomainby Received from rsmtpkoreacomby dditwith Microsoft SMTPSVC listmanredhatcom Postfix with ESMTP idThuAug  SatAug EDT To dcekanetsgocom DeliveredTo exmhworkerslistmanexamplecom Subject Life InsuranceWhy Pay More Received from intmxcorpexamplecom intmxcorpexamplecom Date WedAug by listmanredhatcom Postfix with ESMTP id CFD MIMEVersion  for exmhworkerslistmanredhatcom ThuAug MessageID cDDITddit EDT ContentType texthtml charsetiso Received from maillocalhost by intmxcorpexamplecom  ContentTransferEncoding quotedprintable id gMBYg for exmhworkerslistmanredhatcom ThuAug    DOCTYPE HTML PUBLIC WCDTD HTMLTransitionalEN Received from mxexamplecom mxexamplecomby HTMLHEAD intmxcorpredhatcomwith SMTP id gMBYY for META contentDtexthtml charsetDwindows httpequivDContentT exmhworkersredhatcom ThuAug ype Received from ratreepsuacthby mxexamplecom META contentDMSHTMLnameDGENERATORHEAD with SMTP id gMBIhl for exmhworkersredhatcom BODY Inserted by Calypso  ThuAug TABLE borderD cellPaddingD cellSpacingD idDCalyPrintHeader r Received from deltacsmuOZAU deltacoepsuacthby ulesDnone  ratreepsuacthwith ESMTP id gMBWel styleDCOLOR black DISPLAY none widthD ThuAugICT TBODY Received from munnariOZAU localhostby deltacsmuOZAU TR with ESMTP id gMBQPW ThuAug TD colSpanD ICT HR colorDblack noShade SIZED From Robert Elz kremunnariOZAU TDTRTDTR To Chris Garrigues cwgdatedfadDeepEddyCom TR Cc exmhworkersexamplecom TD colSpanD Subject Re New Sequences Window HR colorDblack noShade SIZED InReplyTo TMDAdeepeddyvirciocom TDTRTBODYTABLE End CalypsoInserted by Calypso References TMDAdeepeddyvirciocom  FONT  TMDAdeepeddyvirciocom munnariOZAU colorD faceDVERDANAARIALHELVETICA sizeDBRFONTTD TMDAdeepeddyvirciocom TRTABLE End Calypso FONT colorDff  TMDAdeepeddyvirciocom faceDCopperplate Gothic Bold sizeD PTSIZED MIMEVersion  CENTERSave up toon Life InsuranceCENTERFONTFONT colorDff ContentType textplain charsetusascii   MessageId munnariOZAU faceDCopperplate Gothic Bold sizeD PTSIZED XLoop exmhworkersexamplecom CENTERWhy Spend More Than You Have To Sender exmhworkersadminexamplecom CENTERFONT colorDff faceDCopperplate Gothic Bold sizeD PT ErrorsTo exmhworkersadminexamplecom SIZED XBeenthere exmhworkersexamplecom CENTERLife Quote Savings XMailmanVersion  CENTER Precedence bulk P alignDleftP ListHelp mailtoexmhworkersrequestexamplecomsubjecthelp P alignDleftPFONTUIBBRFONTUBUI ListPost mailtoexmhworkersexamplecom PP ListSubscribe httpslistmanexamplecommailmanlistinfoexmhworkers CENTER mailtoexmhworkersrequestredhatcomsubjectsubscribe TABLE borderD borderColorD cellPaddingD cellSpacingD wi ListId Discussion list for EXMH developers exmhworkersexamplecom dthD ListUnsubscribe httpslistmanexamplecommailmanlistinfoexmhworkers TBODYTBODYTABLE mailtoexmhworkersrequestredhatcomsubjectunsubscribe TABLE borderD borderColorD cellPaddingD cellSpacingD wi ListArchive httpslistmanexamplecommailmanprivateexmhworkers dthD Date ThuAug TBODY  TR DateWedAug TD colSpanD widthDBFONT faceDVerdana sizeDEnsurin FromChris Garrigues cwgdatedfadDeepEddyCom g your  MessageIDTMDAdeepeddyvirciocom familys financial security is very important Life Quote Savings ma  kes   buying life insurance simple and affordable We Provide FREE Access  I cant reproduce this error to The   Very Best Companies and The Lowest RatesFONTBTDTR For me it is very repeatable like every time without fail TR  TD alignDmiddle vAlignDtop widthD This is the debug log of the pick happening  TABLE borderColorD widthD  TBODY  PickIt exec pick inbox list lbrace lbrace subject ftp rbrace rbracesequence mercury TR  exec pick inbox list lbrace lbrace subject ftp rbrace rbracesequence mercury TD styleDPADDINGLEFT px PADDINGRIGHT px widthD  FtocPickMsgshit FONT   Markinghits faceDVerdana sizeDBLife Quote SavingsB is FAST EAS  tkerror syntax error in expression int  Y and   SAVES you money Let us help you get started with the best val Note if I run the pick command by hand  ues in   the country on new coverage You can SAVE hundreds or even tho delta pick inbox list lbrace lbrace subject ftp rbrace rbracesequence mercury usands   hit of dollars by requesting a FREE quote from Lifequote Savings   Our  Thats where thehit comes from obviouslyThe version of nmh Im service will take you less thanminutes to complete Shop an using is  d   compare SAVE up toon all types of Life insurance  delta pick version FONTTDTR picknmh compiled on fuchsiacsmuOZAU at Sun MarICT  TRBRBR  TD heightD styleDPADDINGLEFT px PADDINGRIGHT px  And the relevant part of my mhprofile  widthD  P alignDcenterBFONT faceDVerdana sizeDA  delta mhparam pick hrefDhttpwebsiteeccsavequoteClick Here For Your seq sel list    Free QuoteAFONTBPTD  PFONT faceDVerdana sizeDSTRONG Since the pick command works the sequence actually both of them the CENTERProtecting your family is the best investment youll eve one thats explicit on the command line from the search popup and the r  one that comes from mhprofile do get created makeBRBTDTR  TRBRBRSTRONGFONTTDTRTDTR kre TRTRTBODYTABLE  P alignDleftFONT faceDArial Helvetica sansserif sizeD ps this is still using the version of the code form a day ago I havent FONTP been able to reach the cvs repository today local routing issue I think PP  CENTERBRBRBR  PP  P alignDleftBRBBRBRBRBRP  P alignDcenterBRP Exmhworkers mailing list P alignDleftBRBBRBRFONTIf you are in receipt of this Exmhworkersredhatcom  email  httpslistmanredhatcommailmanlistinfoexmhworkers in error andor wish to be removed from our list A   hrefDmailtocoinsbtamailnetcnPLEASE CLICK HEREA AND TYPE  From exmhworkersadminredhatcomThu Aug REMOVE If you  ReturnPath exmhworkersadminexamplecom reside in any state which prohibits email solicitations for insuran DeliveredTo localhostnetnoteinccom ce  Received from localhost localhost  please disregard this   phoboslabsnetnoteinccom Postfix with ESMTP id DEC emailBRFONTBRBRBRBRBRBRBRBRBRBRBRBRBR  localhost ThuAugEDT BRBRBRFONTPCENTERCENTERTRTBODYTABLECENTER Received from phobos  CENTERCENTERCENTERCENTERBODYHTML  localhost with IMAP fetchmail   localhost singledrop ThuAugIST  Received from listmanexamplecom listmanexamplecomby  dogmaslashnullorgwith ESMTP id gMBYrZ for\""
      ]
     },
     "metadata": {},
     "output_type": "display_data"
    }
   ],
   "source": [
    "review_text <- paste(spam_ham, collapse = \" \") # Further Cleaning\n",
    "head(review_text)\n"
   ]
  },
  {
   "cell_type": "markdown",
   "metadata": {},
   "source": [
    "# Data Conversion\n",
    "\n",
    "We are going to convert the file into Corpus Vector. This will enable us to analysis the document."
   ]
  },
  {
   "cell_type": "code",
   "execution_count": 407,
   "metadata": {
    "collapsed": false
   },
   "outputs": [
    {
     "name": "stdout",
     "output_type": "stream",
     "text": [
      "<<SimpleCorpus>>\n",
      "Metadata:  corpus specific: 1, document level (indexed): 0\n",
      "Content:  documents: 1\n",
      "\n",
      "[1] From amailbotwebdeThu Aug From exmhworkersadminredhatcomThu Aug ReturnPath amailbotwebde ReturnPath exmhworkersadminexamplecom DeliveredTo localhostspamassassintaintorg DeliveredTo localhostnetnoteinccom Received from localhost localhost  Received from localhost localhost   phoboslabsspamassassintaintorg Postfix with ESMTP id BC  phoboslabsnetnoteinccom Postfix with ESMTP id DEC  localhost ThuAugEDT  localhost ThuAugEDT Received from mailwebnotenet  Received from phobos   localhost with POP fetchmail  localhost with IMAP fetchmail  localhost singledrop ThuAugIST  localhost singledrop ThuAugIST Received from ddit  Received from listmanexamplecom listmanexamplecomby  webnotenetwith ESMTP id NAA dogmaslashnullorgwith ESMTP id gMBYrZ for  spamassassintaintorg ThuAug exmhexamplecom ThuAug From amailbotwebde Received from listmanexamplecom localhostlocaldomainby Received from rsmtpkoreacomby dditwith Microsoft SMTPSVC listmanredhatcom Postfix with ESMTP idThuAug  SatAug EDT To dcekanetsgocom DeliveredTo exmhworkerslistmanexamplecom Subject Life InsuranceWhy Pay More Received from intmxcorpexamplecom intmxcorpexamplecom Date WedAug by listmanredhatcom Postfix with ESMTP id CFD MIMEVersion  for exmhworkerslistmanredhatcom ThuAug MessageID cDDITddit EDT ContentType texthtml charsetiso Received from maillocalhost by intmxcorpexamplecom  ContentTransferEncoding quotedprintable id gMBYg for exmhworkerslistmanredhatcom ThuAug    DOCTYPE HTML PUBLIC WCDTD HTMLTransitionalEN Received from mxexamplecom mxexamplecomby HTMLHEAD intmxcorpredhatcomwith SMTP id gMBYY for META contentDtexthtml charsetDwindows httpequivDContentT exmhworkersredhatcom ThuAug ype Received from ratreepsuacthby mxexamplecom META contentDMSHTMLnameDGENERATORHEAD with SMTP id gMBIhl for exmhworkersredhatcom BODY Inserted by Calypso  ThuAug TABLE borderD cellPaddingD cellSpacingD idDCalyPrintHeader r Received from deltacsmuOZAU deltacoepsuacthby ulesDnone  ratreepsuacthwith ESMTP id gMBWel styleDCOLOR black DISPLAY none widthD ThuAugICT TBODY Received from munnariOZAU localhostby deltacsmuOZAU TR with ESMTP id gMBQPW ThuAug TD colSpanD ICT HR colorDblack noShade SIZED From Robert Elz kremunnariOZAU TDTRTDTR To Chris Garrigues cwgdatedfadDeepEddyCom TR Cc exmhworkersexamplecom TD colSpanD Subject Re New Sequences Window HR colorDblack noShade SIZED InReplyTo TMDAdeepeddyvirciocom TDTRTBODYTABLE End CalypsoInserted by Calypso References TMDAdeepeddyvirciocom  FONT  TMDAdeepeddyvirciocom munnariOZAU colorD faceDVERDANAARIALHELVETICA sizeDBRFONTTD TMDAdeepeddyvirciocom TRTABLE End Calypso FONT colorDff  TMDAdeepeddyvirciocom faceDCopperplate Gothic Bold sizeD PTSIZED MIMEVersion  CENTERSave up toon Life InsuranceCENTERFONTFONT colorDff ContentType textplain charsetusascii   MessageId munnariOZAU faceDCopperplate Gothic Bold sizeD PTSIZED XLoop exmhworkersexamplecom CENTERWhy Spend More Than You Have To Sender exmhworkersadminexamplecom CENTERFONT colorDff faceDCopperplate Gothic Bold sizeD PT ErrorsTo exmhworkersadminexamplecom SIZED XBeenthere exmhworkersexamplecom CENTERLife Quote Savings XMailmanVersion  CENTER Precedence bulk P alignDleftP ListHelp mailtoexmhworkersrequestexamplecomsubjecthelp P alignDleftPFONTUIBBRFONTUBUI ListPost mailtoexmhworkersexamplecom PP ListSubscribe httpslistmanexamplecommailmanlistinfoexmhworkers CENTER mailtoexmhworkersrequestredhatcomsubjectsubscribe TABLE borderD borderColorD cellPaddingD cellSpacingD wi ListId Discussion list for EXMH developers exmhworkersexamplecom dthD ListUnsubscribe httpslistmanexamplecommailmanlistinfoexmhworkers TBODYTBODYTABLE mailtoexmhworkersrequestredhatcomsubjectunsubscribe TABLE borderD borderColorD cellPaddingD cellSpacingD wi ListArchive httpslistmanexamplecommailmanprivateexmhworkers dthD Date ThuAug TBODY  TR DateWedAug TD colSpanD widthDBFONT faceDVerdana sizeDEnsurin FromChris Garrigues cwgdatedfadDeepEddyCom g your  MessageIDTMDAdeepeddyvirciocom familys financial security is very important Life Quote Savings ma  kes   buying life insurance simple and affordable We Provide FREE Access  I cant reproduce this error to The   Very Best Companies and The Lowest RatesFONTBTDTR For me it is very repeatable like every time without fail TR  TD alignDmiddle vAlignDtop widthD This is the debug log of the pick happening  TABLE borderColorD widthD  TBODY  PickIt exec pick inbox list lbrace lbrace subject ftp rbrace rbracesequence mercury TR  exec pick inbox list lbrace lbrace subject ftp rbrace rbracesequence mercury TD styleDPADDINGLEFT px PADDINGRIGHT px widthD  FtocPickMsgshit FONT   Markinghits faceDVerdana sizeDBLife Quote SavingsB is FAST EAS  tkerror syntax error in expression int  Y and   SAVES you money Let us help you get started with the best val Note if I run the pick command by hand  ues in   the country on new coverage You can SAVE hundreds or even tho delta pick inbox list lbrace lbrace subject ftp rbrace rbracesequence mercury usands   hit of dollars by requesting a FREE quote from Lifequote Savings   Our  Thats where thehit comes from obviouslyThe version of nmh Im service will take you less thanminutes to complete Shop an using is  d   compare SAVE up toon all types of Life insurance  delta pick version FONTTDTR picknmh compiled on fuchsiacsmuOZAU at Sun MarICT  TRBRBR  TD heightD styleDPADDINGLEFT px PADDINGRIGHT px  And the relevant part of my mhprofile  widthD  P alignDcenterBFONT faceDVerdana sizeDA  delta mhparam pick hrefDhttpwebsiteeccsavequoteClick Here For Your seq sel list    Free QuoteAFONTBPTD  PFONT faceDVerdana sizeDSTRONG Since the pick command works the sequence actually both of them the CENTERProtecting your family is the best investment youll eve one thats explicit on the command line from the search popup and the r  one that comes from mhprofile do get created makeBRBTDTR  TRBRBRSTRONGFONTTDTRTDTR kre TRTRTBODYTABLE  P alignDleftFONT faceDArial Helvetica sansserif sizeD ps this is still using the version of the code form a day ago I havent FONTP been able to reach the cvs repository today local routing issue I think PP  CENTERBRBRBR  PP  P alignDleftBRBBRBRBRBRP  P alignDcenterBRP Exmhworkers mailing list P alignDleftBRBBRBRFONTIf you are in receipt of this Exmhworkersredhatcom  email  httpslistmanredhatcommailmanlistinfoexmhworkers in error andor wish to be removed from our list A   hrefDmailtocoinsbtamailnetcnPLEASE CLICK HEREA AND TYPE  From exmhworkersadminredhatcomThu Aug REMOVE If you  ReturnPath exmhworkersadminexamplecom reside in any state which prohibits email solicitations for insuran DeliveredTo localhostnetnoteinccom ce  Received from localhost localhost  please disregard this   phoboslabsnetnoteinccom Postfix with ESMTP id DEC emailBRFONTBRBRBRBRBRBRBRBRBRBRBRBRBR  localhost ThuAugEDT BRBRBRFONTPCENTERCENTERTRTBODYTABLECENTER Received from phobos  CENTERCENTERCENTERCENTERBODYHTML  localhost with IMAP fetchmail   localhost singledrop ThuAugIST  Received from listmanexamplecom listmanexamplecomby  dogmaslashnullorgwith ESMTP id gMBYrZ for\n"
     ]
    },
    {
     "data": {
      "text/plain": [
       "<<SimpleCorpus>>\n",
       "Metadata:  corpus specific: 1, document level (indexed): 0\n",
       "Content:  documents: 1"
      ]
     },
     "metadata": {},
     "output_type": "display_data"
    }
   ],
   "source": [
    "corpus <- Corpus(VectorSource(review_text))\n",
    "head(inspect(corpus))"
   ]
  },
  {
   "cell_type": "markdown",
   "metadata": {},
   "source": [
    "From the above text, we can see that there are still some cleaning to be done! So, we have no time to waste, let the work begins!!!"
   ]
  },
  {
   "cell_type": "code",
   "execution_count": 408,
   "metadata": {
    "collapsed": false
   },
   "outputs": [
    {
     "name": "stdout",
     "output_type": "stream",
     "text": [
      "<<SimpleCorpus>>\n",
      "Metadata:  corpus specific: 1, document level (indexed): 0\n",
      "Content:  documents: 1\n",
      "\n",
      "[1]  amailbotwebdethu aug exmhworkersadminredhatcomthu aug returnpath amailbotwebde returnpath exmhworkersadminexamplecom deliveredto localhostspamassassintaintorg deliveredto localhostnetnoteinccom received localhost localhost received localhost localhost phoboslabsspamassassintaintorg postfix esmtp id bc phoboslabsnetnoteinccom postfix esmtp id dec localhost thuaugedt localhost thuaugedt received mailwebnotenet received phobos localhost pop fetchmail localhost imap fetchmail localhost singledrop thuaugist localhost singledrop thuaugist received ddit received listmanexamplecom listmanexamplecomby webnotenetwith esmtp id naa dogmaslashnullorgwith esmtp id gmbyrz spamassassintaintorg thuaug exmhexamplecom thuaug amailbotwebde received listmanexamplecom localhostlocaldomainby received rsmtpkoreacomby dditwith microsoft smtpsvc listmanredhatcom postfix esmtp idthuaug sataug edt dcekanetsgocom deliveredto exmhworkerslistmanexamplecom subject life insurancewhy pay received intmxcorpexamplecom intmxcorpexamplecom date wedaug listmanredhatcom postfix esmtp id cfd mimeversion exmhworkerslistmanredhatcom thuaug messageid cdditddit edt contenttype texthtml charsetiso received maillocalhost intmxcorpexamplecom contenttransferencoding quotedprintable id gmbyg exmhworkerslistmanredhatcom thuaug doctype html public wcdtd htmltransitionalen received mxexamplecom mxexamplecomby htmlhead intmxcorpredhatcomwith smtp id gmbyy meta contentdtexthtml charsetdwindows httpequivdcontentt exmhworkersredhatcom thuaug ype received ratreepsuacthby mxexamplecom meta contentdmshtmlnamedgeneratorhead smtp id gmbihl exmhworkersredhatcom body inserted calypso thuaug table borderd cellpaddingd cellspacingd iddcalyprintheader r received deltacsmuozau deltacoepsuacthby ulesdnone ratreepsuacthwith esmtp id gmbwel styledcolor black display none widthd thuaugict tbody received munnariozau localhostby deltacsmuozau tr esmtp id gmbqpw thuaug td colspand ict hr colordblack noshade sized robert elz kremunnariozau tdtrtdtr chris garrigues cwgdatedfaddeepeddycom tr cc exmhworkersexamplecom td colspand subject re new sequences window hr colordblack noshade sized inreplyto tmdadeepeddyvirciocom tdtrtbodytable end calypsoinserted calypso references tmdadeepeddyvirciocom font tmdadeepeddyvirciocom munnariozau colord facedverdanaarialhelvetica sizedbrfonttd tmdadeepeddyvirciocom trtable end calypso font colordff tmdadeepeddyvirciocom facedcopperplate gothic bold sized ptsized mimeversion centersave toon life insurancecenterfontfont colordff contenttype textplain charsetusascii messageid munnariozau facedcopperplate gothic bold sized ptsized xloop exmhworkersexamplecom centerwhy spend sender exmhworkersadminexamplecom centerfont colordff facedcopperplate gothic bold sized pt errorsto exmhworkersadminexamplecom sized xbeenthere exmhworkersexamplecom centerlife quote savings xmailmanversion center precedence bulk p aligndleftp listhelp mailtoexmhworkersrequestexamplecomsubjecthelp p aligndleftpfontuibbrfontubui listpost mailtoexmhworkersexamplecom pp listsubscribe httpslistmanexamplecommailmanlistinfoexmhworkers center mailtoexmhworkersrequestredhatcomsubjectsubscribe table borderd bordercolord cellpaddingd cellspacingd wi listid discussion list exmh developers exmhworkersexamplecom dthd listunsubscribe httpslistmanexamplecommailmanlistinfoexmhworkers tbodytbodytable mailtoexmhworkersrequestredhatcomsubjectunsubscribe table borderd bordercolord cellpaddingd cellspacingd wi listarchive httpslistmanexamplecommailmanprivateexmhworkers dthd date thuaug tbody tr datewedaug td colspand widthdbfont facedverdana sizedensurin fromchris garrigues cwgdatedfaddeepeddycom g messageidtmdadeepeddyvirciocom familys financial security important life quote savings ma kes buying life insurance simple affordable provide free access cant reproduce error best companies lowest ratesfontbtdtr repeatable like every time without fail tr td aligndmiddle valigndtop widthd debug log pick happening table bordercolord widthd tbody pickit exec pick inbox list lbrace lbrace subject ftp rbrace rbracesequence mercury tr exec pick inbox list lbrace lbrace subject ftp rbrace rbracesequence mercury td styledpaddingleft px paddingright px widthd ftocpickmsgshit font markinghits facedverdana sizedblife quote savingsb fast eas tkerror syntax error expression int y saves money let us help get started best val note run pick command hand ues country new coverage can save hundreds even tho delta pick inbox list lbrace lbrace subject ftp rbrace rbracesequence mercury usands hit dollars requesting free quote lifequote savings thats thehit comes obviouslythe version nmh im service will take less thanminutes complete shop using d compare save toon types life insurance delta pick version fonttdtr picknmh compiled fuchsiacsmuozau sun marict trbrbr td heightd styledpaddingleft px paddingright px relevant part mhprofile widthd p aligndcenterbfont facedverdana sizeda delta mhparam pick hrefdhttpwebsiteeccsavequoteclick seq sel list free quoteafontbptd pfont facedverdana sizedstrong since pick command works sequence actually centerprotecting family best investment youll eve one thats explicit command line search popup r one comes mhprofile get created makebrbtdtr trbrbrstrongfonttdtrtdtr kre trtrtbodytable p aligndleftfont facedarial helvetica sansserif sized ps still using version code form day ago havent fontp able reach cvs repository today local routing issue think pp centerbrbrbr pp p aligndleftbrbbrbrbrbrp p aligndcenterbrp exmhworkers mailing list p aligndleftbrbbrbrfontif receipt exmhworkersredhatcom email httpslistmanredhatcommailmanlistinfoexmhworkers error andor wish removed list hrefdmailtocoinsbtamailnetcnplease click herea type exmhworkersadminredhatcomthu aug remove returnpath exmhworkersadminexamplecom reside state prohibits email solicitations insuran deliveredto localhostnetnoteinccom ce received localhost localhost please disregard phoboslabsnetnoteinccom postfix esmtp id dec emailbrfontbrbrbrbrbrbrbrbrbrbrbrbrbr localhost thuaugedt brbrbrfontpcentercentertrtbodytablecenter received phobos centercentercentercenterbodyhtml localhost imap fetchmail localhost singledrop thuaugist received listmanexamplecom listmanexamplecomby dogmaslashnullorgwith esmtp id gmbyrz \n"
     ]
    }
   ],
   "source": [
    "corpus = tm_map(corpus, content_transformer(tolower)) # Convert to lower character\n",
    "corpus = tm_map(corpus, removeNumbers) # remove any numeric/number\n",
    "corpus = tm_map(corpus, removePunctuation) #remove Punctuations\n",
    "corpus = tm_map(corpus, removeWords, c(\"the\", \"and\", stopwords(\"english\"))) # remove some conjuctions\n",
    "corpus = tm_map(corpus, stripWhitespace) # Omit the whitespaces\n",
    "\n",
    "inspect(corpus[]) # Lets inspect the text now!"
   ]
  },
  {
   "cell_type": "code",
   "execution_count": 409,
   "metadata": {
    "collapsed": false
   },
   "outputs": [
    {
     "data": {
      "text/html": [
       "<ol class=list-inline>\n",
       "\t<li>'SimpleCorpus'</li>\n",
       "\t<li>'Corpus'</li>\n",
       "</ol>\n"
      ],
      "text/latex": [
       "\\begin{enumerate*}\n",
       "\\item 'SimpleCorpus'\n",
       "\\item 'Corpus'\n",
       "\\end{enumerate*}\n"
      ],
      "text/markdown": [
       "1. 'SimpleCorpus'\n",
       "2. 'Corpus'\n",
       "\n",
       "\n"
      ],
      "text/plain": [
       "[1] \"SimpleCorpus\" \"Corpus\"      "
      ]
     },
     "metadata": {},
     "output_type": "display_data"
    }
   ],
   "source": [
    "class(corpus) # Checking the class"
   ]
  },
  {
   "cell_type": "markdown",
   "metadata": {},
   "source": [
    "The next step is the conversion to Document Term Matrix and to also remove the Sparse Terms"
   ]
  },
  {
   "cell_type": "code",
   "execution_count": 410,
   "metadata": {
    "collapsed": false
   },
   "outputs": [
    {
     "data": {
      "text/plain": [
       "<<DocumentTermMatrix (documents: 1, terms: 363)>>\n",
       "Non-/sparse entries: 363/0\n",
       "Sparsity           : 0%\n",
       "Maximal term length: 51\n",
       "Weighting          : term frequency (tf)"
      ]
     },
     "metadata": {},
     "output_type": "display_data"
    }
   ],
   "source": [
    "\n",
    "dtm <- DocumentTermMatrix(corpus)\n",
    "dtm <- removeSparseTerms(dtm, 0.95)\n",
    "dtm"
   ]
  },
  {
   "cell_type": "markdown",
   "metadata": {},
   "source": [
    "# Graphical Representation"
   ]
  },
  {
   "cell_type": "code",
   "execution_count": 411,
   "metadata": {
    "collapsed": false
   },
   "outputs": [
    {
     "data": {
      "image/png": "[encoded data removed]",
      "text/plain": [
       "plot without title"
      ]
     },
     "metadata": {},
     "output_type": "display_data"
    }
   ],
   "source": [
    "   \n",
    "freq = data.frame(sort(colSums(as.matrix(dtm)), decreasing=TRUE))\n",
    "wordcloud(rownames(freq), freq[,1], max.words=500, colors=brewer.pal(1, \"Dark2\"))\n"
   ]
  },
  {
   "cell_type": "code",
   "execution_count": 412,
   "metadata": {
    "collapsed": false
   },
   "outputs": [
    {
     "data": {
      "text/html": [
       "<ol class=list-inline>\n",
       "\t<li>'esmtp'</li>\n",
       "\t<li>'lbrace'</li>\n",
       "\t<li>'life'</li>\n",
       "\t<li>'list'</li>\n",
       "\t<li>'localhost'</li>\n",
       "\t<li>'pick'</li>\n",
       "\t<li>'postfix'</li>\n",
       "\t<li>'received'</li>\n",
       "\t<li>'sized'</li>\n",
       "\t<li>'subject'</li>\n",
       "\t<li>'thuaug'</li>\n",
       "\t<li>'tmdadeepeddyvirciocom'</li>\n",
       "\t<li>'widthd'</li>\n",
       "</ol>\n"
      ],
      "text/latex": [
       "\\begin{enumerate*}\n",
       "\\item 'esmtp'\n",
       "\\item 'lbrace'\n",
       "\\item 'life'\n",
       "\\item 'list'\n",
       "\\item 'localhost'\n",
       "\\item 'pick'\n",
       "\\item 'postfix'\n",
       "\\item 'received'\n",
       "\\item 'sized'\n",
       "\\item 'subject'\n",
       "\\item 'thuaug'\n",
       "\\item 'tmdadeepeddyvirciocom'\n",
       "\\item 'widthd'\n",
       "\\end{enumerate*}\n"
      ],
      "text/markdown": [
       "1. 'esmtp'\n",
       "2. 'lbrace'\n",
       "3. 'life'\n",
       "4. 'list'\n",
       "5. 'localhost'\n",
       "6. 'pick'\n",
       "7. 'postfix'\n",
       "8. 'received'\n",
       "9. 'sized'\n",
       "10. 'subject'\n",
       "11. 'thuaug'\n",
       "12. 'tmdadeepeddyvirciocom'\n",
       "13. 'widthd'\n",
       "\n",
       "\n"
      ],
      "text/plain": [
       " [1] \"esmtp\"                 \"lbrace\"                \"life\"                 \n",
       " [4] \"list\"                  \"localhost\"             \"pick\"                 \n",
       " [7] \"postfix\"               \"received\"              \"sized\"                \n",
       "[10] \"subject\"               \"thuaug\"                \"tmdadeepeddyvirciocom\"\n",
       "[13] \"widthd\"               "
      ]
     },
     "metadata": {},
     "output_type": "display_data"
    }
   ],
   "source": [
    "findFreqTerms(dtm, 5)"
   ]
  },
  {
   "cell_type": "code",
   "execution_count": 413,
   "metadata": {
    "collapsed": false
   },
   "outputs": [],
   "source": [
    "ham <- as.factor(apply(as.matrix(spam_ham[1], mode=\"character\"),1,paste,\"V1\",sep=\"\",collapse=\"\"))\n",
    "spam <- as.factor(apply(as.matrix(spam_ham[2], mode=\"character\"),1,paste,\"V1\", sep=\"\",collapse=\"\"))\n",
    "\n",
    "training_data <- cbind(spam_ham[,], ham, spam) \n",
    "\n",
    "training_data_samp = sample(nrow(training_data),nrow(training_data)*0.80)\n",
    "training_data.train <- training_data[training_data_samp, ] \n",
    "training_data.test <- training_data[-training_data_samp]"
   ]
  },
  {
   "cell_type": "code",
   "execution_count": 414,
   "metadata": {
    "collapsed": false
   },
   "outputs": [
    {
     "data": {
      "text/html": [
       "<dl class=dl-horizontal>\n",
       "\t<dt>1</dt>\n",
       "\t\t<dd>'From exmhworkersadminredhatcomThu Aug'</dd>\n",
       "\t<dt>2</dt>\n",
       "\t\t<dd>'ReturnPath exmhworkersadminexamplecom'</dd>\n",
       "\t<dt>3</dt>\n",
       "\t\t<dd>'DeliveredTo localhostnetnoteinccom'</dd>\n",
       "\t<dt>4</dt>\n",
       "\t\t<dd>'Received from localhost localhost '</dd>\n",
       "\t<dt>5</dt>\n",
       "\t\t<dd>' phoboslabsnetnoteinccom Postfix with ESMTP id DEC'</dd>\n",
       "\t<dt>6</dt>\n",
       "\t\t<dd>' localhost ThuAugEDT'</dd>\n",
       "</dl>\n"
      ],
      "text/latex": [
       "\\begin{description*}\n",
       "\\item[1] 'From exmhworkersadminredhatcomThu Aug'\n",
       "\\item[2] 'ReturnPath exmhworkersadminexamplecom'\n",
       "\\item[3] 'DeliveredTo localhostnetnoteinccom'\n",
       "\\item[4] 'Received from localhost localhost '\n",
       "\\item[5] ' phoboslabsnetnoteinccom Postfix with ESMTP id DEC'\n",
       "\\item[6] ' localhost ThuAugEDT'\n",
       "\\end{description*}\n"
      ],
      "text/markdown": [
       "1\n",
       ":   'From exmhworkersadminredhatcomThu Aug'2\n",
       ":   'ReturnPath exmhworkersadminexamplecom'3\n",
       ":   'DeliveredTo localhostnetnoteinccom'4\n",
       ":   'Received from localhost localhost '5\n",
       ":   ' phoboslabsnetnoteinccom Postfix with ESMTP id DEC'6\n",
       ":   ' localhost ThuAugEDT'\n",
       "\n"
      ],
      "text/plain": [
       "                                                     \n",
       "             \"From exmhworkersadminredhatcomThu Aug\" \n",
       "                                                     \n",
       "             \"ReturnPath exmhworkersadminexamplecom\" \n",
       "                                                     \n",
       "                \"DeliveredTo localhostnetnoteinccom\" \n",
       "                                                     \n",
       "                \"Received from localhost localhost \" \n",
       "                                                     \n",
       "\" phoboslabsnetnoteinccom Postfix with ESMTP id DEC\" \n",
       "                                                     \n",
       "                              \" localhost ThuAugEDT\" "
      ]
     },
     "metadata": {},
     "output_type": "display_data"
    }
   ],
   "source": [
    "head(training_data.train)"
   ]
  },
  {
   "cell_type": "markdown",
   "metadata": {},
   "source": [
    "# THANK YOU AND GOD BLESS"
   ]
  },
  {
   "cell_type": "code",
   "execution_count": null,
   "metadata": {
    "collapsed": true
   },
   "outputs": [],
   "source": []
  }
 ],
 "metadata": {
  "anaconda-cloud": {},
  "kernelspec": {
   "display_name": "R",
   "language": "R",
   "name": "ir"
  },
  "language_info": {
   "codemirror_mode": "r",
   "file_extension": ".r",
   "mimetype": "text/x-r-source",
   "name": "R",
   "pygments_lexer": "r",
   "version": "3.4.0"
  }
 },
 "nbformat": 4,
 "nbformat_minor": 0
}
